{
 "cells": [
  {
   "cell_type": "markdown",
   "metadata": {},
   "source": [
    "<div style=\"background:#FFFFAA\">\n",
    "<img src=\"logo.jpg\", width=150, ALIGN=\"left\", border=20>\n",
    "<center>\n",
    "<h1>Sample Starting Kit </h1>\n",
    " <br>This code was tested with <br>\n",
    "Python 3.6.6 |Anaconda custom (64-bit)| (default, Jun 28 2018, 11:07:29) (https://anaconda.org/)<br>\n",
    "<i> Adapted for Chalab by Isabelle Guyon from original code of Balázs Kégl</i> <br>\n",
    "<a href=\"http://www.datascience-paris-saclay.fr\">Paris Saclay Center for Data Science (CDS)</a>\n",
    "</center>\n",
    "<br>\n",
    "<br>\n",
    "<br>\n",
    "<p>\n",
    "ALL INFORMATION, SOFTWARE, DOCUMENTATION, AND DATA ARE PROVIDED \"AS-IS\". The CDS, CHALEARN, AND/OR OTHER ORGANIZERS OR CODE AUTHORS DISCLAIM ANY EXPRESSED OR IMPLIED WARRANTIES, INCLUDING, BUT NOT LIMITED TO, THE IMPLIED WARRANTIES OF MERCHANTABILITY AND FITNESS FOR ANY PARTICULAR PURPOSE, AND THE WARRANTY OF NON-INFRIGEMENT OF ANY THIRD PARTY'S INTELLECTUAL PROPERTY RIGHTS. IN NO EVENT SHALL AUTHORS AND ORGANIZERS BE LIABLE FOR ANY SPECIAL, \n",
    "INDIRECT OR CONSEQUENTIAL DAMAGES OR ANY DAMAGES WHATSOEVER ARISING OUT OF OR IN CONNECTION WITH THE USE OR PERFORMANCE OF SOFTWARE, DOCUMENTS, MATERIALS, PUBLICATIONS, OR INFORMATION MADE AVAILABLE FOR THE CHALLENGE. \n",
    "</div>"
   ]
  },
  {
   "cell_type": "markdown",
   "metadata": {},
   "source": [
    "<div style=\"background:#FFFFAA\">\n",
    "    <h2>Introduction </h2>\n",
    "    <p>\n",
    "In an era where computer graphics techniques for image generation are reaching stunning levels of quality, it becomes more and more challenging to detect fake from true, authentic images. However, this raises a lot of legal issues, mainly dealing with forgery. This project focuses mainly on the efficiency of Generative Adversarial Network (GAN) algorithms for producing art forgery and we will try to beat the state-of-the-art models that detect it. In fact, the Fine Arts Expert Institute in Geneva estimates that as much as 50 percent of artworks currently in circulation may be forgeries. Although the standard approach for image classification which is deep neural networks and especially Convolutional Neural Networks (CNNs) works very well nowadays, GAN performs strongly on generating fake images. By focusing on the art forgery aspect, we will try to bring a more specific perspective on the issue of image forgery.\n",
    " \n",
    " <br>\n",
    "    <span style=\"color:red\"> Keep the next block. </span>\n",
    "</div>"
   ]
  },
  {
   "cell_type": "code",
   "execution_count": 2,
   "metadata": {},
   "outputs": [
    {
     "name": "stdout",
     "output_type": "stream",
     "text": [
      "The autoreload extension is already loaded. To reload it, use:\n",
      "  %reload_ext autoreload\n"
     ]
    }
   ],
   "source": [
    "model_dir = 'sample_code_submission/'                        # Change the model to a better one once you have one!\n",
    "result_dir = 'sample_result_submission/' \n",
    "problem_dir = 'ingestion_program/'  \n",
    "score_dir = 'scoring_program/'\n",
    "from sys import path; path.append(model_dir); path.append(problem_dir); path.append(score_dir); \n",
    "%matplotlib inline\n",
    "# Uncomment the next lines to auto-reload libraries (this causes some problem with pickles in Python 3)\n",
    "%load_ext autoreload\n",
    "%autoreload 2\n",
    "import seaborn as sns; sns.set()\n",
    "import warnings\n",
    "warnings.simplefilter(action='ignore', category=FutureWarning)"
   ]
  },
  {
   "cell_type": "markdown",
   "metadata": {},
   "source": [
    "<div style=\"background:#FFFFAA\">\n",
    "    <h1> Step 1: Exploratory data analysis </h1>\n",
    "<p>\n",
    "We provide sample_data with the starting kit, but to prepare your submission, you must fetch the public_data from the challenge website and point to it.\n",
    "    <br>\n",
    "    <span style=\"color:red\"> Just change the data name in the block below. In the rest of the section, replace the sample plots by anything you want. </span>\n",
    "</div>"
   ]
  },
  {
   "cell_type": "code",
   "execution_count": 3,
   "metadata": {},
   "outputs": [
    {
     "name": "stdout",
     "output_type": "stream",
     "text": [
      "perso_feat.name    perso_test.data\tperso_train.solution\r\n",
      "perso_label.name   perso_test.solution\tperso_valid.data\r\n",
      "perso_public.info  perso_train.data\tperso_valid.solution\r\n"
     ]
    }
   ],
   "source": [
    "#data_dir = 'sample_data'              # Change this to the directory where you put the input data\n",
    "data_dir = 'sample_data'          # The sample_data directory should contain only a very small subset of the data\n",
    "data_name = 'perso'\n",
    "!ls $data_dir"
   ]
  },
  {
   "cell_type": "code",
   "execution_count": 4,
   "metadata": {},
   "outputs": [
    {
     "name": "stdout",
     "output_type": "stream",
     "text": [
      "Reading sample_data/perso_train from AutoML format\n",
      "Number of examples = 50\n",
      "Number of features = 1024\n",
      "  Class\n",
      "0  faux\n",
      "1  vrai\n",
      "Number of classes = 2\n"
     ]
    }
   ],
   "source": [
    "from data_io import read_as_df\n",
    "data = read_as_df(data_dir  + '/' + data_name)          # The perso_data is loaded as a Pandas Data Frame"
   ]
  },
  {
   "cell_type": "code",
   "execution_count": 4,
   "metadata": {},
   "outputs": [
    {
     "data": {
      "text/html": [
       "<div>\n",
       "<style scoped>\n",
       "    .dataframe tbody tr th:only-of-type {\n",
       "        vertical-align: middle;\n",
       "    }\n",
       "\n",
       "    .dataframe tbody tr th {\n",
       "        vertical-align: top;\n",
       "    }\n",
       "\n",
       "    .dataframe thead th {\n",
       "        text-align: right;\n",
       "    }\n",
       "</style>\n",
       "<table border=\"1\" class=\"dataframe\">\n",
       "  <thead>\n",
       "    <tr style=\"text-align: right;\">\n",
       "      <th></th>\n",
       "      <th>feature0</th>\n",
       "      <th>feature1</th>\n",
       "      <th>feature2</th>\n",
       "      <th>feature3</th>\n",
       "      <th>feature4</th>\n",
       "      <th>feature5</th>\n",
       "      <th>feature6</th>\n",
       "      <th>feature7</th>\n",
       "      <th>feature8</th>\n",
       "      <th>feature9</th>\n",
       "      <th>...</th>\n",
       "      <th>feature1015</th>\n",
       "      <th>feature1016</th>\n",
       "      <th>feature1017</th>\n",
       "      <th>feature1018</th>\n",
       "      <th>feature1019</th>\n",
       "      <th>feature1020</th>\n",
       "      <th>feature1021</th>\n",
       "      <th>feature1022</th>\n",
       "      <th>feature1023</th>\n",
       "      <th>target</th>\n",
       "    </tr>\n",
       "  </thead>\n",
       "  <tbody>\n",
       "    <tr>\n",
       "      <th>0</th>\n",
       "      <td>0.000000</td>\n",
       "      <td>1.229936</td>\n",
       "      <td>0.000000</td>\n",
       "      <td>0.113569</td>\n",
       "      <td>0.060445</td>\n",
       "      <td>0.118252</td>\n",
       "      <td>0.903643</td>\n",
       "      <td>0.035282</td>\n",
       "      <td>1.255350</td>\n",
       "      <td>0.097148</td>\n",
       "      <td>...</td>\n",
       "      <td>1.844707</td>\n",
       "      <td>1.634048</td>\n",
       "      <td>0.000000</td>\n",
       "      <td>0.000662</td>\n",
       "      <td>0.647042</td>\n",
       "      <td>0.084682</td>\n",
       "      <td>1.041219</td>\n",
       "      <td>0.075019</td>\n",
       "      <td>1.050223</td>\n",
       "      <td>vrai</td>\n",
       "    </tr>\n",
       "    <tr>\n",
       "      <th>1</th>\n",
       "      <td>0.000000</td>\n",
       "      <td>1.383036</td>\n",
       "      <td>1.887521</td>\n",
       "      <td>3.754520</td>\n",
       "      <td>0.030029</td>\n",
       "      <td>0.895784</td>\n",
       "      <td>0.038473</td>\n",
       "      <td>0.430044</td>\n",
       "      <td>0.318986</td>\n",
       "      <td>0.461066</td>\n",
       "      <td>...</td>\n",
       "      <td>0.864230</td>\n",
       "      <td>0.000000</td>\n",
       "      <td>0.084426</td>\n",
       "      <td>2.899674</td>\n",
       "      <td>0.049379</td>\n",
       "      <td>1.090316</td>\n",
       "      <td>0.603634</td>\n",
       "      <td>0.605868</td>\n",
       "      <td>1.864173</td>\n",
       "      <td>vrai</td>\n",
       "    </tr>\n",
       "    <tr>\n",
       "      <th>2</th>\n",
       "      <td>1.214969</td>\n",
       "      <td>0.000000</td>\n",
       "      <td>1.687800</td>\n",
       "      <td>1.123374</td>\n",
       "      <td>0.885945</td>\n",
       "      <td>0.462779</td>\n",
       "      <td>0.410846</td>\n",
       "      <td>0.657776</td>\n",
       "      <td>0.212810</td>\n",
       "      <td>0.275802</td>\n",
       "      <td>...</td>\n",
       "      <td>0.632619</td>\n",
       "      <td>2.273881</td>\n",
       "      <td>0.894132</td>\n",
       "      <td>0.204060</td>\n",
       "      <td>1.904384</td>\n",
       "      <td>0.157933</td>\n",
       "      <td>1.817468</td>\n",
       "      <td>1.364134</td>\n",
       "      <td>1.502101</td>\n",
       "      <td>vrai</td>\n",
       "    </tr>\n",
       "    <tr>\n",
       "      <th>3</th>\n",
       "      <td>0.076420</td>\n",
       "      <td>0.383384</td>\n",
       "      <td>0.877510</td>\n",
       "      <td>0.155497</td>\n",
       "      <td>2.587093</td>\n",
       "      <td>0.184072</td>\n",
       "      <td>0.027228</td>\n",
       "      <td>0.282427</td>\n",
       "      <td>0.084898</td>\n",
       "      <td>1.142331</td>\n",
       "      <td>...</td>\n",
       "      <td>1.837352</td>\n",
       "      <td>0.026450</td>\n",
       "      <td>0.000000</td>\n",
       "      <td>1.672739</td>\n",
       "      <td>1.137931</td>\n",
       "      <td>0.574607</td>\n",
       "      <td>0.263653</td>\n",
       "      <td>1.672676</td>\n",
       "      <td>0.009960</td>\n",
       "      <td>vrai</td>\n",
       "    </tr>\n",
       "    <tr>\n",
       "      <th>4</th>\n",
       "      <td>0.000000</td>\n",
       "      <td>1.190229</td>\n",
       "      <td>1.315484</td>\n",
       "      <td>0.089153</td>\n",
       "      <td>0.000000</td>\n",
       "      <td>0.504714</td>\n",
       "      <td>1.573390</td>\n",
       "      <td>0.785659</td>\n",
       "      <td>0.693891</td>\n",
       "      <td>0.479984</td>\n",
       "      <td>...</td>\n",
       "      <td>1.754930</td>\n",
       "      <td>0.000000</td>\n",
       "      <td>0.036095</td>\n",
       "      <td>0.022705</td>\n",
       "      <td>0.423083</td>\n",
       "      <td>0.392361</td>\n",
       "      <td>0.788016</td>\n",
       "      <td>0.038467</td>\n",
       "      <td>0.040568</td>\n",
       "      <td>vrai</td>\n",
       "    </tr>\n",
       "  </tbody>\n",
       "</table>\n",
       "<p>5 rows × 1025 columns</p>\n",
       "</div>"
      ],
      "text/plain": [
       "   feature0  feature1  feature2  feature3  feature4  feature5  feature6  \\\n",
       "0  0.000000  1.229936  0.000000  0.113569  0.060445  0.118252  0.903643   \n",
       "1  0.000000  1.383036  1.887521  3.754520  0.030029  0.895784  0.038473   \n",
       "2  1.214969  0.000000  1.687800  1.123374  0.885945  0.462779  0.410846   \n",
       "3  0.076420  0.383384  0.877510  0.155497  2.587093  0.184072  0.027228   \n",
       "4  0.000000  1.190229  1.315484  0.089153  0.000000  0.504714  1.573390   \n",
       "\n",
       "   feature7  feature8  feature9   ...    feature1015  feature1016  \\\n",
       "0  0.035282  1.255350  0.097148   ...       1.844707     1.634048   \n",
       "1  0.430044  0.318986  0.461066   ...       0.864230     0.000000   \n",
       "2  0.657776  0.212810  0.275802   ...       0.632619     2.273881   \n",
       "3  0.282427  0.084898  1.142331   ...       1.837352     0.026450   \n",
       "4  0.785659  0.693891  0.479984   ...       1.754930     0.000000   \n",
       "\n",
       "   feature1017  feature1018  feature1019  feature1020  feature1021  \\\n",
       "0     0.000000     0.000662     0.647042     0.084682     1.041219   \n",
       "1     0.084426     2.899674     0.049379     1.090316     0.603634   \n",
       "2     0.894132     0.204060     1.904384     0.157933     1.817468   \n",
       "3     0.000000     1.672739     1.137931     0.574607     0.263653   \n",
       "4     0.036095     0.022705     0.423083     0.392361     0.788016   \n",
       "\n",
       "   feature1022  feature1023  target  \n",
       "0     0.075019     1.050223    vrai  \n",
       "1     0.605868     1.864173    vrai  \n",
       "2     1.364134     1.502101    vrai  \n",
       "3     1.672676     0.009960    vrai  \n",
       "4     0.038467     0.040568    vrai  \n",
       "\n",
       "[5 rows x 1025 columns]"
      ]
     },
     "execution_count": 4,
     "metadata": {},
     "output_type": "execute_result"
    }
   ],
   "source": [
    "data.head()"
   ]
  },
  {
   "cell_type": "markdown",
   "metadata": {},
   "source": [
    "For convenience, we load the data as a \"pandas\" data frame, so we can use \"pandas\" and \"seaborn\" built in functions to explore the data."
   ]
  },
  {
   "cell_type": "code",
   "execution_count": 5,
   "metadata": {
    "scrolled": false
   },
   "outputs": [
    {
     "data": {
      "text/html": [
       "<div>\n",
       "<style scoped>\n",
       "    .dataframe tbody tr th:only-of-type {\n",
       "        vertical-align: middle;\n",
       "    }\n",
       "\n",
       "    .dataframe tbody tr th {\n",
       "        vertical-align: top;\n",
       "    }\n",
       "\n",
       "    .dataframe thead th {\n",
       "        text-align: right;\n",
       "    }\n",
       "</style>\n",
       "<table border=\"1\" class=\"dataframe\">\n",
       "  <thead>\n",
       "    <tr style=\"text-align: right;\">\n",
       "      <th></th>\n",
       "      <th>feature0</th>\n",
       "      <th>feature1</th>\n",
       "      <th>feature2</th>\n",
       "      <th>feature3</th>\n",
       "      <th>feature4</th>\n",
       "      <th>feature5</th>\n",
       "      <th>feature6</th>\n",
       "      <th>feature7</th>\n",
       "      <th>feature8</th>\n",
       "      <th>feature9</th>\n",
       "      <th>...</th>\n",
       "      <th>feature1014</th>\n",
       "      <th>feature1015</th>\n",
       "      <th>feature1016</th>\n",
       "      <th>feature1017</th>\n",
       "      <th>feature1018</th>\n",
       "      <th>feature1019</th>\n",
       "      <th>feature1020</th>\n",
       "      <th>feature1021</th>\n",
       "      <th>feature1022</th>\n",
       "      <th>feature1023</th>\n",
       "    </tr>\n",
       "  </thead>\n",
       "  <tbody>\n",
       "    <tr>\n",
       "      <th>count</th>\n",
       "      <td>50.000000</td>\n",
       "      <td>50.000000</td>\n",
       "      <td>50.000000</td>\n",
       "      <td>50.000000</td>\n",
       "      <td>50.000000</td>\n",
       "      <td>50.000000</td>\n",
       "      <td>50.000000</td>\n",
       "      <td>50.000000</td>\n",
       "      <td>50.000000</td>\n",
       "      <td>50.000000</td>\n",
       "      <td>...</td>\n",
       "      <td>50.000000</td>\n",
       "      <td>50.000000</td>\n",
       "      <td>50.000000</td>\n",
       "      <td>50.000000</td>\n",
       "      <td>50.000000</td>\n",
       "      <td>50.000000</td>\n",
       "      <td>50.000000</td>\n",
       "      <td>50.000000</td>\n",
       "      <td>50.000000</td>\n",
       "      <td>50.000000</td>\n",
       "    </tr>\n",
       "    <tr>\n",
       "      <th>mean</th>\n",
       "      <td>0.356115</td>\n",
       "      <td>0.659151</td>\n",
       "      <td>0.534851</td>\n",
       "      <td>1.456609</td>\n",
       "      <td>0.620374</td>\n",
       "      <td>0.246584</td>\n",
       "      <td>0.492389</td>\n",
       "      <td>0.561619</td>\n",
       "      <td>0.351571</td>\n",
       "      <td>0.326255</td>\n",
       "      <td>...</td>\n",
       "      <td>0.348105</td>\n",
       "      <td>0.516225</td>\n",
       "      <td>0.331030</td>\n",
       "      <td>0.426340</td>\n",
       "      <td>0.901045</td>\n",
       "      <td>0.854171</td>\n",
       "      <td>2.114770</td>\n",
       "      <td>0.898444</td>\n",
       "      <td>0.832099</td>\n",
       "      <td>0.524872</td>\n",
       "    </tr>\n",
       "    <tr>\n",
       "      <th>std</th>\n",
       "      <td>0.528450</td>\n",
       "      <td>0.717040</td>\n",
       "      <td>0.634626</td>\n",
       "      <td>1.469262</td>\n",
       "      <td>0.863010</td>\n",
       "      <td>0.516834</td>\n",
       "      <td>0.615499</td>\n",
       "      <td>0.786240</td>\n",
       "      <td>0.504510</td>\n",
       "      <td>0.529641</td>\n",
       "      <td>...</td>\n",
       "      <td>0.596924</td>\n",
       "      <td>0.714570</td>\n",
       "      <td>0.593420</td>\n",
       "      <td>0.541888</td>\n",
       "      <td>1.082123</td>\n",
       "      <td>0.938720</td>\n",
       "      <td>2.271520</td>\n",
       "      <td>0.881170</td>\n",
       "      <td>1.180123</td>\n",
       "      <td>0.543327</td>\n",
       "    </tr>\n",
       "    <tr>\n",
       "      <th>min</th>\n",
       "      <td>0.000000</td>\n",
       "      <td>0.000000</td>\n",
       "      <td>0.000000</td>\n",
       "      <td>0.000000</td>\n",
       "      <td>0.000000</td>\n",
       "      <td>0.000000</td>\n",
       "      <td>0.000000</td>\n",
       "      <td>0.000000</td>\n",
       "      <td>0.000000</td>\n",
       "      <td>0.000000</td>\n",
       "      <td>...</td>\n",
       "      <td>0.000000</td>\n",
       "      <td>0.000000</td>\n",
       "      <td>0.000000</td>\n",
       "      <td>0.000000</td>\n",
       "      <td>0.000000</td>\n",
       "      <td>0.000000</td>\n",
       "      <td>0.000000</td>\n",
       "      <td>0.000000</td>\n",
       "      <td>0.000000</td>\n",
       "      <td>0.000000</td>\n",
       "    </tr>\n",
       "    <tr>\n",
       "      <th>25%</th>\n",
       "      <td>0.000000</td>\n",
       "      <td>0.040266</td>\n",
       "      <td>0.000000</td>\n",
       "      <td>0.132334</td>\n",
       "      <td>0.000000</td>\n",
       "      <td>0.000000</td>\n",
       "      <td>0.000000</td>\n",
       "      <td>0.028203</td>\n",
       "      <td>0.001209</td>\n",
       "      <td>0.000000</td>\n",
       "      <td>...</td>\n",
       "      <td>0.000000</td>\n",
       "      <td>0.000000</td>\n",
       "      <td>0.000000</td>\n",
       "      <td>0.041860</td>\n",
       "      <td>0.142003</td>\n",
       "      <td>0.049615</td>\n",
       "      <td>0.287843</td>\n",
       "      <td>0.034842</td>\n",
       "      <td>0.000000</td>\n",
       "      <td>0.032638</td>\n",
       "    </tr>\n",
       "    <tr>\n",
       "      <th>50%</th>\n",
       "      <td>0.127216</td>\n",
       "      <td>0.490579</td>\n",
       "      <td>0.207641</td>\n",
       "      <td>1.129262</td>\n",
       "      <td>0.065244</td>\n",
       "      <td>0.003843</td>\n",
       "      <td>0.160384</td>\n",
       "      <td>0.235029</td>\n",
       "      <td>0.126061</td>\n",
       "      <td>0.087056</td>\n",
       "      <td>...</td>\n",
       "      <td>0.031689</td>\n",
       "      <td>0.147620</td>\n",
       "      <td>0.000150</td>\n",
       "      <td>0.295788</td>\n",
       "      <td>0.338905</td>\n",
       "      <td>0.495983</td>\n",
       "      <td>0.958504</td>\n",
       "      <td>0.722759</td>\n",
       "      <td>0.229320</td>\n",
       "      <td>0.397400</td>\n",
       "    </tr>\n",
       "    <tr>\n",
       "      <th>75%</th>\n",
       "      <td>0.588773</td>\n",
       "      <td>0.997432</td>\n",
       "      <td>0.863077</td>\n",
       "      <td>2.156846</td>\n",
       "      <td>1.134359</td>\n",
       "      <td>0.231311</td>\n",
       "      <td>0.774815</td>\n",
       "      <td>0.796812</td>\n",
       "      <td>0.432390</td>\n",
       "      <td>0.494191</td>\n",
       "      <td>...</td>\n",
       "      <td>0.457193</td>\n",
       "      <td>0.890692</td>\n",
       "      <td>0.446506</td>\n",
       "      <td>0.636890</td>\n",
       "      <td>1.380113</td>\n",
       "      <td>1.505200</td>\n",
       "      <td>5.172260</td>\n",
       "      <td>1.607077</td>\n",
       "      <td>1.638849</td>\n",
       "      <td>0.772724</td>\n",
       "    </tr>\n",
       "    <tr>\n",
       "      <th>max</th>\n",
       "      <td>2.387135</td>\n",
       "      <td>2.503587</td>\n",
       "      <td>2.039248</td>\n",
       "      <td>5.101050</td>\n",
       "      <td>3.332864</td>\n",
       "      <td>2.486209</td>\n",
       "      <td>2.051370</td>\n",
       "      <td>3.632538</td>\n",
       "      <td>1.927134</td>\n",
       "      <td>2.294356</td>\n",
       "      <td>...</td>\n",
       "      <td>2.975513</td>\n",
       "      <td>3.255536</td>\n",
       "      <td>2.505214</td>\n",
       "      <td>2.708307</td>\n",
       "      <td>4.099638</td>\n",
       "      <td>2.904099</td>\n",
       "      <td>5.694676</td>\n",
       "      <td>3.223482</td>\n",
       "      <td>4.226102</td>\n",
       "      <td>1.864173</td>\n",
       "    </tr>\n",
       "  </tbody>\n",
       "</table>\n",
       "<p>8 rows × 1024 columns</p>\n",
       "</div>"
      ],
      "text/plain": [
       "        feature0   feature1   feature2   feature3   feature4   feature5  \\\n",
       "count  50.000000  50.000000  50.000000  50.000000  50.000000  50.000000   \n",
       "mean    0.356115   0.659151   0.534851   1.456609   0.620374   0.246584   \n",
       "std     0.528450   0.717040   0.634626   1.469262   0.863010   0.516834   \n",
       "min     0.000000   0.000000   0.000000   0.000000   0.000000   0.000000   \n",
       "25%     0.000000   0.040266   0.000000   0.132334   0.000000   0.000000   \n",
       "50%     0.127216   0.490579   0.207641   1.129262   0.065244   0.003843   \n",
       "75%     0.588773   0.997432   0.863077   2.156846   1.134359   0.231311   \n",
       "max     2.387135   2.503587   2.039248   5.101050   3.332864   2.486209   \n",
       "\n",
       "        feature6   feature7   feature8   feature9     ...       feature1014  \\\n",
       "count  50.000000  50.000000  50.000000  50.000000     ...         50.000000   \n",
       "mean    0.492389   0.561619   0.351571   0.326255     ...          0.348105   \n",
       "std     0.615499   0.786240   0.504510   0.529641     ...          0.596924   \n",
       "min     0.000000   0.000000   0.000000   0.000000     ...          0.000000   \n",
       "25%     0.000000   0.028203   0.001209   0.000000     ...          0.000000   \n",
       "50%     0.160384   0.235029   0.126061   0.087056     ...          0.031689   \n",
       "75%     0.774815   0.796812   0.432390   0.494191     ...          0.457193   \n",
       "max     2.051370   3.632538   1.927134   2.294356     ...          2.975513   \n",
       "\n",
       "       feature1015  feature1016  feature1017  feature1018  feature1019  \\\n",
       "count    50.000000    50.000000    50.000000    50.000000    50.000000   \n",
       "mean      0.516225     0.331030     0.426340     0.901045     0.854171   \n",
       "std       0.714570     0.593420     0.541888     1.082123     0.938720   \n",
       "min       0.000000     0.000000     0.000000     0.000000     0.000000   \n",
       "25%       0.000000     0.000000     0.041860     0.142003     0.049615   \n",
       "50%       0.147620     0.000150     0.295788     0.338905     0.495983   \n",
       "75%       0.890692     0.446506     0.636890     1.380113     1.505200   \n",
       "max       3.255536     2.505214     2.708307     4.099638     2.904099   \n",
       "\n",
       "       feature1020  feature1021  feature1022  feature1023  \n",
       "count    50.000000    50.000000    50.000000    50.000000  \n",
       "mean      2.114770     0.898444     0.832099     0.524872  \n",
       "std       2.271520     0.881170     1.180123     0.543327  \n",
       "min       0.000000     0.000000     0.000000     0.000000  \n",
       "25%       0.287843     0.034842     0.000000     0.032638  \n",
       "50%       0.958504     0.722759     0.229320     0.397400  \n",
       "75%       5.172260     1.607077     1.638849     0.772724  \n",
       "max       5.694676     3.223482     4.226102     1.864173  \n",
       "\n",
       "[8 rows x 1024 columns]"
      ]
     },
     "execution_count": 5,
     "metadata": {},
     "output_type": "execute_result"
    }
   ],
   "source": [
    "data.describe() "
   ]
  },
  {
   "cell_type": "markdown",
   "metadata": {},
   "source": [
    "A histogram is a representation of the distribution of data. This function calls matplotlib.pyplot.hist(), on each series in the DataFrame, resulting in one histogram per column."
   ]
  },
  {
   "cell_type": "code",
   "execution_count": 6,
   "metadata": {},
   "outputs": [
    {
     "data": {
      "image/png": "[encoded data removed]",
      "text/plain": [
       "<Figure size 720x720 with 1 Axes>"
      ]
     },
     "metadata": {
      "needs_background": "light"
     },
     "output_type": "display_data"
    }
   ],
   "source": [
    "data[\"feature0\"].hist(figsize=(10,10));"
   ]
  },
  {
   "cell_type": "markdown",
   "metadata": {},
   "source": [
    "<div style=\"background:#FFFFAA\">\n",
    "<h1>Step 2: Building a predictive model</h1>\n",
    "</div>"
   ]
  },
  {
   "cell_type": "markdown",
   "metadata": {},
   "source": [
    "<div style=\"background:#FFFFAA\">\n",
    "    <h2>Loading data with DataManager</h2>\n",
    "    <p>\n",
    "We reload the data with the AutoML DataManager class because this is more convenient:\n",
    "   <br>     <span style=\"color:red\"> Keep this, it illustrates how data in AutoML formal are loaded by the ingestion program </span>\n",
    "</div>"
   ]
  },
  {
   "cell_type": "code",
   "execution_count": 5,
   "metadata": {},
   "outputs": [
    {
     "name": "stdout",
     "output_type": "stream",
     "text": [
      "Info file found : /home/min/workspace/s5/PersoData/starting_kit/sample_data/perso_public.info\n",
      "DataManager : perso\n",
      "info:\n",
      "\tusage = Sample dataset perso data\n",
      "\tname = perso\n",
      "\ttask = bi-class.classification\n",
      "\ttarget_type = Numerical\n",
      "\tfeat_type = Numerical\n",
      "\tmetric = bac_metric\n",
      "\ttime_budget = 1200\n",
      "\tfeat_num = 1024\n",
      "\ttarget_num = 2\n",
      "\tlabel_num = 2\n",
      "\ttrain_num = 50\n",
      "\tvalid_num = 50\n",
      "\ttest_num = 50\n",
      "\thas_categorical = 0\n",
      "\thas_missing = 0\n",
      "\tis_sparse = 0\n",
      "\tformat = dense\n",
      "data:\n",
      "\tX_train = array(50, 1024)\n",
      "\tY_train = array(50,)\n",
      "\tX_valid = array(50, 1024)\n",
      "\tY_valid = array(50,)\n",
      "\tX_test = array(50, 1024)\n",
      "\tY_test = array(50,)\n",
      "feat_type:\tarray(1024,)\n",
      "feat_idx:\tarray(0,)\n",
      "\n",
      "perso\n"
     ]
    }
   ],
   "source": [
    "from data_manager import DataManager\n",
    "D = DataManager(data_name, data_dir, replace_missing=True)\n",
    "print(D)\n",
    "print(data_name)"
   ]
  },
  {
   "cell_type": "markdown",
   "metadata": {},
   "source": [
    "<div style=\"background:#FFFFAA\">\n",
    "    <h2>Training a predictive model</h2>\n",
    "    <p>\n",
    "We provide an example of predictive model (for classification or regression) in the `sample_code_submission/` directory. It is a quite stupid model: it makes constant predictions. Replace it with your own model.\n",
    "    </div>"
   ]
  },
  {
   "cell_type": "code",
   "execution_count": 7,
   "metadata": {},
   "outputs": [],
   "source": [
    "from numpy.core.umath_tests import inner1d\n",
    "from data_io import write\n",
    "from model import model"
   ]
  },
  {
   "cell_type": "markdown",
   "metadata": {},
   "source": [
    "<div style=\"background:#FFFFAA\">\n",
    "an instance of the model (run the constructor) and attempt to reload a previously saved version from `sample_code_submission/`:\n",
    "    \n",
    "</div>"
   ]
  },
  {
   "cell_type": "code",
   "execution_count": 8,
   "metadata": {},
   "outputs": [
    {
     "name": "stdout",
     "output_type": "stream",
     "text": [
      "perso\n",
      "sample_code_submission/\n",
      "sample_code_submission/perso\n"
     ]
    }
   ],
   "source": [
    "M = model()\n",
    "trained_model_name = model_dir + data_name\n",
    "print(data_name)\n",
    "print(model_dir)\n",
    "print(trained_model_name)\n",
    "# Uncomment the next line to re-load an already trained model\n",
    "#M = M.load(trained_model_name)                  "
   ]
  },
  {
   "cell_type": "markdown",
   "metadata": {},
   "source": [
    "<div style=\"background:#FFFFAA\">\n",
    "    Train the model (unless you reloaded a trained model) and make predictions. \n",
    "</div>"
   ]
  },
  {
   "cell_type": "code",
   "execution_count": 9,
   "metadata": {},
   "outputs": [
    {
     "name": "stdout",
     "output_type": "stream",
     "text": [
      "FIT: dim(X)= [50, 1024]\n",
      "FIT: dim(y)= [50, 1]\n",
      "PREDICT: dim(X)= [50, 1024]\n",
      "PREDICT: dim(y)= [50, 1]\n",
      "PREDICT: dim(X)= [50, 1024]\n",
      "PREDICT: dim(y)= [50, 1]\n",
      "PREDICT: dim(X)= [50, 1024]\n",
      "PREDICT: dim(y)= [50, 1]\n"
     ]
    }
   ],
   "source": [
    "if not(M.is_trained):\n",
    "    X_train = D.data['X_train']\n",
    "    Y_train = D.data['Y_train']\n",
    "    M.fit(X_train, Y_train)                     \n",
    "\n",
    "Y_hat_train = M.predict(D.data['X_train'])\n",
    "Y_hat_valid = M.predict(D.data['X_valid'])\n",
    "Y_hat_test = M.predict(D.data['X_test'])"
   ]
  },
  {
   "cell_type": "markdown",
   "metadata": {},
   "source": [
    "<div style=\"background:#FFFFAA\">\n",
    "    <b> Save the trained model </b> (will be ready to reload next time around) and save the prediction results. IMPORTANT: if you save the trained model, it will be bundled with your sample code submission. Therefore your model will NOT be retrained on the challenge platform. Remove the pickle from the submission if you want the model to be retrained on the platform.\n",
    "</div>"
   ]
  },
  {
   "cell_type": "code",
   "execution_count": 10,
   "metadata": {},
   "outputs": [
    {
     "name": "stdout",
     "output_type": "stream",
     "text": [
      "sample_result_submission/perso_test.predict\r\n",
      "sample_result_submission/perso_train.predict\r\n",
      "sample_result_submission/perso_valid.predict\r\n"
     ]
    }
   ],
   "source": [
    "M.save(trained_model_name)                 \n",
    "result_name = result_dir + data_name\n",
    "from data_io import write\n",
    "write(result_name + '_train.predict', Y_hat_train)\n",
    "write(result_name + '_valid.predict', Y_hat_valid)\n",
    "write(result_name + '_test.predict', Y_hat_test)\n",
    "!ls $result_name*"
   ]
  },
  {
   "cell_type": "markdown",
   "metadata": {},
   "source": [
    "<div style=\"background:#FFFFAA\">\n",
    "    <h2>Scoring the results</h2>\n",
    "    <h3>Load the challenge metric</h3>\n",
    "    <p>\n",
    "<b>The metric chosen for your challenge</b> is identified in the \"metric.txt\" file found in the `scoring_function/` directory. The function \"get_metric\" searches first for a metric having that name in my_metric.py, then in libscores.py, then in sklearn.metric.\n",
    "    </div>"
   ]
  },
  {
   "cell_type": "code",
   "execution_count": 11,
   "metadata": {},
   "outputs": [
    {
     "name": "stdout",
     "output_type": "stream",
     "text": [
      "Using scoring metric: accuracy_score\n"
     ]
    }
   ],
   "source": [
    "from libscores import get_metric\n",
    "metric_name, scoring_function = get_metric()\n",
    "print('Using scoring metric:', metric_name)\n",
    "# Uncomment the next line to display the code of the scoring metric\n",
    "#??scoring_function"
   ]
  },
  {
   "cell_type": "markdown",
   "metadata": {},
   "source": [
    "<div style=\"background:#FFFFAA\">\n",
    "    <h3> Training performance </h3>\n",
    "    <p>\n",
    "The participants normally posess target values (labels) only for training examples (except for the sample data). We compute with the `example` metric the training score, which should be zero for perfect predictions.\n",
    "        </div>"
   ]
  },
  {
   "cell_type": "code",
   "execution_count": 12,
   "metadata": {},
   "outputs": [
    {
     "name": "stdout",
     "output_type": "stream",
     "text": [
      "Training score for the accuracy_score metric = 1.0000\n",
      "Ideal score for the accuracy_score metric = 1.0000\n"
     ]
    }
   ],
   "source": [
    "print('Training score for the', metric_name, 'metric = %5.4f' % scoring_function(Y_train, Y_hat_train))\n",
    "print('Ideal score for the', metric_name, 'metric = %5.4f' % scoring_function(Y_train, Y_train))"
   ]
  },
  {
   "cell_type": "markdown",
   "metadata": {},
   "source": [
    "You can add here other scores and result visualization."
   ]
  },
  {
   "cell_type": "code",
   "execution_count": 13,
   "metadata": {},
   "outputs": [
    {
     "data": {
      "text/plain": [
       "array([[25,  0],\n",
       "       [ 0, 25]])"
      ]
     },
     "execution_count": 13,
     "metadata": {},
     "output_type": "execute_result"
    }
   ],
   "source": [
    "from sklearn.metrics import confusion_matrix\n",
    "confusion_matrix(Y_train, Y_hat_train)"
   ]
  },
  {
   "cell_type": "markdown",
   "metadata": {},
   "source": [
    "<div style=\"background:#FFFFAA\">\n",
    "    <h3>Cross-validation performance</h3>\n",
    "    <p>\n",
    "The participants do not have access to the labels Y_valid and Y_test to self-assess their validation and test performances. But training performance is not a good prediction of validation or test performance. Using cross-validation, the training data is split into multiple training/test folds, which allows participants to self-assess their model during development. The average CV result and 95% confidence interval is displayed.\n",
    "   </div>"
   ]
  },
  {
   "cell_type": "code",
   "execution_count": 14,
   "metadata": {},
   "outputs": [
    {
     "name": "stdout",
     "output_type": "stream",
     "text": [
      "FIT: dim(X)= [40, 1024]\n",
      "FIT: dim(y)= [40, 1]\n",
      "PREDICT: dim(X)= [10, 1024]\n",
      "PREDICT: dim(y)= [10, 1]\n",
      "FIT: dim(X)= [40, 1024]\n",
      "FIT: dim(y)= [40, 1]\n",
      "PREDICT: dim(X)= [10, 1024]\n",
      "PREDICT: dim(y)= [10, 1]\n",
      "FIT: dim(X)= [40, 1024]\n",
      "FIT: dim(y)= [40, 1]\n",
      "PREDICT: dim(X)= [10, 1024]\n",
      "PREDICT: dim(y)= [10, 1]\n",
      "FIT: dim(X)= [40, 1024]\n",
      "FIT: dim(y)= [40, 1]\n",
      "PREDICT: dim(X)= [10, 1024]\n",
      "PREDICT: dim(y)= [10, 1]\n",
      "FIT: dim(X)= [40, 1024]\n",
      "FIT: dim(y)= [40, 1]\n",
      "PREDICT: dim(X)= [10, 1024]\n",
      "PREDICT: dim(y)= [10, 1]\n",
      "\n",
      "CV score (95 perc. CI): 0.70 (+/- 0.47)\n"
     ]
    }
   ],
   "source": [
    "from sklearn.metrics import make_scorer\n",
    "from sklearn.model_selection import cross_val_score\n",
    "scores = cross_val_score(M, X_train, Y_train, cv=5, scoring=make_scorer(scoring_function))\n",
    "print('\\nCV score (95 perc. CI): %0.2f (+/- %0.2f)' % (scores.mean(), scores.std() * 2))"
   ]
  },
  {
   "cell_type": "markdown",
   "metadata": {},
   "source": [
    "<div style=\"background:#FFFFAA\">\n",
    "<h1> Step 3: Making a submission </h1> \n",
    "\n",
    "<h2> Unit testing </h2> \n",
    "\n",
    "It is <b><span style=\"color:red\">important that you test your submission files before submitting them</span></b>. All you have to do to make a submission is modify the file <code>model.py</code> in the <code>sample_code_submission/</code> directory, then run this test to make sure everything works fine. This is the actual program that will be run on the server to test your submission. \n",
    "<br>\n",
    "Keep the sample code simple.\n",
    "</div>"
   ]
  },
  {
   "cell_type": "code",
   "execution_count": 15,
   "metadata": {
    "scrolled": true
   },
   "outputs": [
    {
     "name": "stdout",
     "output_type": "stream",
     "text": [
      "Using input_dir: /home/min/workspace/s5/PersoData/starting_kit/sample_data\n",
      "Using output_dir: /home/min/workspace/s5/PersoData/starting_kit/sample_result_submission\n",
      "Using program_dir: /home/min/workspace/s5/PersoData/starting_kit/ingestion_program\n",
      "Using submission_dir: /home/min/workspace/s5/PersoData/starting_kit/sample_code_submission\n",
      "/home/min/anaconda3/lib/python3.7/site-packages/sklearn/ensemble/weight_boosting.py:29: DeprecationWarning: numpy.core.umath_tests is an internal NumPy module and should not be imported. It will be removed in a future NumPy release.\n",
      "  from numpy.core.umath_tests import inner1d\n",
      "\n",
      "========== Ingestion program version 6 ==========\n",
      "\n",
      "************************************************\n",
      "******** Processing dataset Perso ********\n",
      "************************************************\n",
      "========= Reading and converting data ==========\n",
      "Info file found : /home/min/workspace/s5/PersoData/starting_kit/sample_data/perso_public.info\n",
      "========= Reading /home/min/workspace/s5/PersoData/starting_kit/sample_data/perso_feat.type\n",
      "[+] Success in  0.00 sec\n",
      "========= Reading /home/min/workspace/s5/PersoData/starting_kit/sample_data/perso_train.data\n",
      "Replace missing values by 0 (slow, sorry)\n",
      "[+] Success in  0.01 sec\n",
      "========= Reading /home/min/workspace/s5/PersoData/starting_kit/sample_data/perso_train.solution\n",
      "[+] Success in  0.00 sec\n",
      "========= Reading /home/min/workspace/s5/PersoData/starting_kit/sample_data/perso_valid.data\n",
      "Replace missing values by 0 (slow, sorry)\n",
      "[+] Success in  0.01 sec\n",
      "========= Reading /home/min/workspace/s5/PersoData/starting_kit/sample_data/perso_valid.solution\n",
      "[+] Success in  0.00 sec\n",
      "========= Reading /home/min/workspace/s5/PersoData/starting_kit/sample_data/perso_test.data\n",
      "Replace missing values by 0 (slow, sorry)\n",
      "[+] Success in  0.01 sec\n",
      "========= Reading /home/min/workspace/s5/PersoData/starting_kit/sample_data/perso_test.solution\n",
      "[+] Success in  0.00 sec\n",
      "DataManager : perso\n",
      "info:\n",
      "\tusage = Sample dataset perso data\n",
      "\tname = perso\n",
      "\ttask = bi-class.classification\n",
      "\ttarget_type = Numerical\n",
      "\tfeat_type = Numerical\n",
      "\tmetric = bac_metric\n",
      "\ttime_budget = 1200\n",
      "\tfeat_num = 1024\n",
      "\ttarget_num = 2\n",
      "\tlabel_num = 2\n",
      "\ttrain_num = 50\n",
      "\tvalid_num = 50\n",
      "\ttest_num = 50\n",
      "\thas_categorical = 0\n",
      "\thas_missing = 0\n",
      "\tis_sparse = 0\n",
      "\tformat = dense\n",
      "data:\n",
      "\tX_train = array(50, 1024)\n",
      "\tY_train = array(50,)\n",
      "\tX_valid = array(50, 1024)\n",
      "\tY_valid = array(50,)\n",
      "\tX_test = array(50, 1024)\n",
      "\tY_test = array(50,)\n",
      "feat_type:\tarray(1024,)\n",
      "feat_idx:\tarray(1024,)\n",
      "\n",
      "[+] Size of uploaded data  56.00 bytes\n",
      "[+] Cumulated time budget (all tasks so far)  1200.00 sec\n",
      "[+] Time budget for this task 1200.00 sec\n",
      "[+] Remaining time after reading data 1199.96 sec\n",
      "======== Creating model ==========\n",
      "**********************************************************\n",
      "****** Attempting to reload model to avoid training ******\n",
      "**********************************************************\n",
      "Model reloaded from: /home/min/workspace/s5/PersoData/starting_kit/sample_code_submission/perso_model.pickle\n",
      "[+] Model reloaded, no need to train!\n",
      "[+] Prediction success, time spent so far  0.04 sec\n",
      "======== Saving results to: /home/min/workspace/s5/PersoData/starting_kit/sample_result_submission\n",
      "[+] Results saved, time spent so far  0.04 sec\n",
      "[+] End cycle, time left 1199.96 sec\n",
      "[+] Done\n",
      "[+] Overall time spent  0.79 sec ::  Overall time budget 1200.00 sec\n"
     ]
    }
   ],
   "source": [
    "!python $problem_dir/ingestion.py $data_dir $result_dir $problem_dir $model_dir"
   ]
  },
  {
   "cell_type": "markdown",
   "metadata": {},
   "source": [
    "<div style=\"background:#FFFFAA\">\n",
    "Also test the scoring program:\n",
    "    </div>"
   ]
  },
  {
   "cell_type": "code",
   "execution_count": 16,
   "metadata": {},
   "outputs": [
    {
     "name": "stdout",
     "output_type": "stream",
     "text": [
      "======= Set 1 (Perso_test): accuracy_score(set1_score)=0.920000000000 =======\r\n",
      "======= Set 2 (Perso_train): accuracy_score(set2_score)=1.000000000000 =======\r\n",
      "======= Set 3 (Perso_valid): accuracy_score(set3_score)=0.900000000000 =======\r\n"
     ]
    }
   ],
   "source": [
    "scoring_output_dir = '../scoring_output_dir'\n",
    "!python $score_dir/score.py $data_dir $result_dir $scoring_output_dir"
   ]
  },
  {
   "cell_type": "markdown",
   "metadata": {
    "collapsed": true
   },
   "source": [
    "<div style=\"background:#FFFFAA\">\n",
    "    <h1> Preparing the submission </h1>\n",
    "\n",
    "Zip the contents of `sample_code_submission/` (without the directory), or download the challenge public_data and run the command in the previous cell, after replacing sample_data by public_data.\n",
    "Then zip the contents of `sample_result_submission/` (without the directory).\n",
    "<b><span style=\"color:red\">Do NOT zip the data with your submissions</span></b>."
   ]
  },
  {
   "cell_type": "code",
   "execution_count": 17,
   "metadata": {},
   "outputs": [
    {
     "name": "stdout",
     "output_type": "stream",
     "text": [
      "Submit one of these files:\n",
      "../sample_code_submission_18-11-21-19-52.zip\n",
      "../sample_result_submission_18-11-21-19-52.zip\n"
     ]
    }
   ],
   "source": [
    "import datetime \n",
    "from data_io import zipdir\n",
    "the_date = datetime.datetime.now().strftime(\"%y-%m-%d-%H-%M\")\n",
    "sample_code_submission = '../sample_code_submission_' + the_date + '.zip'\n",
    "sample_result_submission = '../sample_result_submission_' + the_date + '.zip'\n",
    "zipdir(sample_code_submission, model_dir)\n",
    "zipdir(sample_result_submission, result_dir)\n",
    "print(\"Submit one of these files:\\n\" + sample_code_submission + \"\\n\" + sample_result_submission)"
   ]
  }
 ],
 "metadata": {
  "kernelspec": {
   "display_name": "Python 3",
   "language": "python",
   "name": "python3"
  },
  "language_info": {
   "codemirror_mode": {
    "name": "ipython",
    "version": 3
   },
   "file_extension": ".py",
   "mimetype": "text/x-python",
   "name": "python",
   "nbconvert_exporter": "python",
   "pygments_lexer": "ipython3",
   "version": "3.7.0"
  }
 },
 "nbformat": 4,
 "nbformat_minor": 1
}
