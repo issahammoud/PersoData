{
 "cells": [
  {
   "cell_type": "markdown",
   "metadata": {},
   "source": [
    "<div style=\"background:#FFFFAA\">\n",
    "<img src=\"logo.jpg\", width=150, ALIGN=\"left\", border=20>\n",
    "<center>\n",
    "<h1>Sample Starting Kit </h1>\n",
    " <br>This code was tested with <br>\n",
    "Python 3.6.6 |Anaconda custom (64-bit)| (default, Jun 28 2018, 11:07:29) (https://anaconda.org/)<br>\n",
    "<i> Adapted for Chalab by Isabelle Guyon from original code of Balázs Kégl</i> <br>\n",
    "<a href=\"http://www.datascience-paris-saclay.fr\">Paris Saclay Center for Data Science (CDS)</a>\n",
    "</center>\n",
    "<br>\n",
    "<br>\n",
    "<br>\n",
    "<p>\n",
    "ALL INFORMATION, SOFTWARE, DOCUMENTATION, AND DATA ARE PROVIDED \"AS-IS\". The CDS, CHALEARN, AND/OR OTHER ORGANIZERS OR CODE AUTHORS DISCLAIM ANY EXPRESSED OR IMPLIED WARRANTIES, INCLUDING, BUT NOT LIMITED TO, THE IMPLIED WARRANTIES OF MERCHANTABILITY AND FITNESS FOR ANY PARTICULAR PURPOSE, AND THE WARRANTY OF NON-INFRIGEMENT OF ANY THIRD PARTY'S INTELLECTUAL PROPERTY RIGHTS. IN NO EVENT SHALL AUTHORS AND ORGANIZERS BE LIABLE FOR ANY SPECIAL, \n",
    "INDIRECT OR CONSEQUENTIAL DAMAGES OR ANY DAMAGES WHATSOEVER ARISING OUT OF OR IN CONNECTION WITH THE USE OR PERFORMANCE OF SOFTWARE, DOCUMENTS, MATERIALS, PUBLICATIONS, OR INFORMATION MADE AVAILABLE FOR THE CHALLENGE. \n",
    "</div>"
   ]
  },
  {
   "cell_type": "markdown",
   "metadata": {},
   "source": [
    "<div style=\"background:#FFFFAA\">\n",
    "    <h2>Introduction </h2>\n",
    "    <p>\n",
    "In an era where computer graphics techniques for image generation are reaching stunning levels of quality, it becomes more and more challenging to detect fake from true, authentic images. However, this raises a lot of legal issues, mainly dealing with forgery. This project focuses mainly on the efficiency of Generative Adversarial Network (GAN) algorithms for producing art forgery and we will try to beat the state-of-the-art models that detect it. In fact, the Fine Arts Expert Institute in Geneva estimates that as much as 50 percent of artworks currently in circulation may be forgeries. Although the standard approach for image classification which is deep neural networks and especially Convolutional Neural Networks (CNNs) works very well nowadays, GAN performs strongly on generating fake images. By focusing on the art forgery aspect, we will try to bring a more specific perspective on the issue of image forgery.\n",
    " \n",
    " <br>\n",
    "    <span style=\"color:red\"> Keep the next block. </span>\n",
    "</div>"
   ]
  },
  {
   "cell_type": "code",
   "execution_count": 1,
   "metadata": {},
   "outputs": [
    {
     "name": "stdout",
     "output_type": "stream",
     "text": [
      "The autoreload extension is already loaded. To reload it, use:\n",
      "  %reload_ext autoreload\n"
     ]
    }
   ],
   "source": [
    "%reload_ext autoreload\n",
    "model_dir = 'sample_code_submission/'                        # Change the model to a better one once you have one!\n",
    "result_dir = 'sample_result_submission/' \n",
    "problem_dir = 'ingestion_program/'  \n",
    "score_dir = 'scoring_program/'\n",
    "from sys import path; path.append(model_dir); path.append(problem_dir); path.append(score_dir); \n",
    "%matplotlib inline\n",
    "# Uncomment the next lines to auto-reload libraries (this causes some problem with pickles in Python 3)\n",
    "%load_ext autoreload\n",
    "%autoreload 2\n",
    "import seaborn as sns; sns.set()\n",
    "import warnings\n",
    "warnings.simplefilter(action='ignore', category=FutureWarning)"
   ]
  },
  {
   "cell_type": "markdown",
   "metadata": {},
   "source": [
    "<div style=\"background:#FFFFAA\">\n",
    "    <h1> Step 1: Exploratory data analysis </h1>\n",
    "<p>\n",
    "We provide sample_data with the starting kit, but to prepare your submission, you must fetch the public_data from the challenge website and point to it.\n",
    "    <br>\n",
    "    <span style=\"color:red\"> Just change the data name in the block below. In the rest of the section, replace the sample plots by anything you want. </span>\n",
    "</div>"
   ]
  },
  {
   "cell_type": "code",
   "execution_count": 2,
   "metadata": {},
   "outputs": [
    {
     "name": "stdout",
     "output_type": "stream",
     "text": [
      "perso_feat.name    perso_test.data\tperso_train.solution\r\n",
      "perso_label.name   perso_test.solution\tperso_valid.data\r\n",
      "perso_public.info  perso_train.data\tperso_valid.solution\r\n"
     ]
    }
   ],
   "source": [
    "#data_dir = 'sample_data'              # Change this to the directory where you put the input data\n",
    "data_dir = 'sample_data'          # The sample_data directory should contain only a very small subset of the data\n",
    "data_name = 'perso'\n",
    "!ls $data_dir"
   ]
  },
  {
   "cell_type": "code",
   "execution_count": 3,
   "metadata": {},
   "outputs": [
    {
     "name": "stdout",
     "output_type": "stream",
     "text": [
      "Reading sample_data/perso_train from AutoML format\n",
      "Number of examples = 35\n",
      "Number of features = 200\n",
      "   Class\n",
      "0  False\n",
      "1   True\n",
      "Number of classes = 2\n"
     ]
    }
   ],
   "source": [
    "from data_io import read_as_df\n",
    "data = read_as_df(data_dir  + '/' + data_name)          # The perso_data is loaded as a Pandas Data Frame"
   ]
  },
  {
   "cell_type": "code",
   "execution_count": 4,
   "metadata": {
    "scrolled": true
   },
   "outputs": [
    {
     "data": {
      "text/html": [
       "<div>\n",
       "<style scoped>\n",
       "    .dataframe tbody tr th:only-of-type {\n",
       "        vertical-align: middle;\n",
       "    }\n",
       "\n",
       "    .dataframe tbody tr th {\n",
       "        vertical-align: top;\n",
       "    }\n",
       "\n",
       "    .dataframe thead th {\n",
       "        text-align: right;\n",
       "    }\n",
       "</style>\n",
       "<table border=\"1\" class=\"dataframe\">\n",
       "  <thead>\n",
       "    <tr style=\"text-align: right;\">\n",
       "      <th></th>\n",
       "      <th>feature0</th>\n",
       "      <th>feature1</th>\n",
       "      <th>feature2</th>\n",
       "      <th>feature3</th>\n",
       "      <th>feature4</th>\n",
       "      <th>feature5</th>\n",
       "      <th>feature6</th>\n",
       "      <th>feature7</th>\n",
       "      <th>feature8</th>\n",
       "      <th>feature9</th>\n",
       "      <th>...</th>\n",
       "      <th>feature191</th>\n",
       "      <th>feature192</th>\n",
       "      <th>feature193</th>\n",
       "      <th>feature194</th>\n",
       "      <th>feature195</th>\n",
       "      <th>feature196</th>\n",
       "      <th>feature197</th>\n",
       "      <th>feature198</th>\n",
       "      <th>feature199</th>\n",
       "      <th>target</th>\n",
       "    </tr>\n",
       "  </thead>\n",
       "  <tbody>\n",
       "    <tr>\n",
       "      <th>0</th>\n",
       "      <td>-9190.740746</td>\n",
       "      <td>-2274.038323</td>\n",
       "      <td>-522.304543</td>\n",
       "      <td>726.862523</td>\n",
       "      <td>1179.220206</td>\n",
       "      <td>613.192757</td>\n",
       "      <td>-1781.927387</td>\n",
       "      <td>1646.479854</td>\n",
       "      <td>434.601598</td>\n",
       "      <td>-1193.474675</td>\n",
       "      <td>...</td>\n",
       "      <td>-166.740512</td>\n",
       "      <td>144.185464</td>\n",
       "      <td>132.797754</td>\n",
       "      <td>-17.766067</td>\n",
       "      <td>333.423583</td>\n",
       "      <td>163.859990</td>\n",
       "      <td>347.480864</td>\n",
       "      <td>-212.808808</td>\n",
       "      <td>-143.715694</td>\n",
       "      <td>True</td>\n",
       "    </tr>\n",
       "    <tr>\n",
       "      <th>1</th>\n",
       "      <td>-648.355255</td>\n",
       "      <td>-1378.276661</td>\n",
       "      <td>-5614.751156</td>\n",
       "      <td>562.457985</td>\n",
       "      <td>2898.570600</td>\n",
       "      <td>-4448.947910</td>\n",
       "      <td>1702.615912</td>\n",
       "      <td>1857.723015</td>\n",
       "      <td>-1468.871267</td>\n",
       "      <td>-552.715463</td>\n",
       "      <td>...</td>\n",
       "      <td>11.870355</td>\n",
       "      <td>293.228075</td>\n",
       "      <td>-53.272997</td>\n",
       "      <td>52.384545</td>\n",
       "      <td>-89.065392</td>\n",
       "      <td>-292.015893</td>\n",
       "      <td>-263.404139</td>\n",
       "      <td>29.516324</td>\n",
       "      <td>-350.008054</td>\n",
       "      <td>False</td>\n",
       "    </tr>\n",
       "    <tr>\n",
       "      <th>2</th>\n",
       "      <td>7753.858384</td>\n",
       "      <td>-3640.015055</td>\n",
       "      <td>575.266506</td>\n",
       "      <td>-448.804039</td>\n",
       "      <td>6521.302809</td>\n",
       "      <td>640.703171</td>\n",
       "      <td>884.696331</td>\n",
       "      <td>-1189.858518</td>\n",
       "      <td>-182.575784</td>\n",
       "      <td>-1472.273880</td>\n",
       "      <td>...</td>\n",
       "      <td>-385.924342</td>\n",
       "      <td>-505.375763</td>\n",
       "      <td>-178.313912</td>\n",
       "      <td>0.611899</td>\n",
       "      <td>-217.317062</td>\n",
       "      <td>-230.632358</td>\n",
       "      <td>-479.820515</td>\n",
       "      <td>553.503411</td>\n",
       "      <td>-13.793253</td>\n",
       "      <td>True</td>\n",
       "    </tr>\n",
       "    <tr>\n",
       "      <th>3</th>\n",
       "      <td>-9017.476220</td>\n",
       "      <td>1898.475238</td>\n",
       "      <td>1821.033275</td>\n",
       "      <td>112.923307</td>\n",
       "      <td>367.663830</td>\n",
       "      <td>-239.767015</td>\n",
       "      <td>-697.202096</td>\n",
       "      <td>717.886417</td>\n",
       "      <td>-1545.713188</td>\n",
       "      <td>1522.942660</td>\n",
       "      <td>...</td>\n",
       "      <td>-132.199158</td>\n",
       "      <td>265.769199</td>\n",
       "      <td>491.521287</td>\n",
       "      <td>-31.144046</td>\n",
       "      <td>-459.969347</td>\n",
       "      <td>471.314684</td>\n",
       "      <td>206.545360</td>\n",
       "      <td>127.305169</td>\n",
       "      <td>-62.728174</td>\n",
       "      <td>True</td>\n",
       "    </tr>\n",
       "    <tr>\n",
       "      <th>4</th>\n",
       "      <td>11125.538391</td>\n",
       "      <td>2430.489640</td>\n",
       "      <td>-8981.051365</td>\n",
       "      <td>2799.620329</td>\n",
       "      <td>711.138646</td>\n",
       "      <td>-904.820793</td>\n",
       "      <td>-1680.996723</td>\n",
       "      <td>-2335.881668</td>\n",
       "      <td>6851.171443</td>\n",
       "      <td>1578.728750</td>\n",
       "      <td>...</td>\n",
       "      <td>195.275903</td>\n",
       "      <td>-75.332166</td>\n",
       "      <td>-308.285105</td>\n",
       "      <td>-148.127307</td>\n",
       "      <td>58.004578</td>\n",
       "      <td>-73.645763</td>\n",
       "      <td>-317.620183</td>\n",
       "      <td>13.884317</td>\n",
       "      <td>-63.960656</td>\n",
       "      <td>True</td>\n",
       "    </tr>\n",
       "  </tbody>\n",
       "</table>\n",
       "<p>5 rows × 201 columns</p>\n",
       "</div>"
      ],
      "text/plain": [
       "       feature0     feature1     feature2     feature3     feature4  \\\n",
       "0  -9190.740746 -2274.038323  -522.304543   726.862523  1179.220206   \n",
       "1   -648.355255 -1378.276661 -5614.751156   562.457985  2898.570600   \n",
       "2   7753.858384 -3640.015055   575.266506  -448.804039  6521.302809   \n",
       "3  -9017.476220  1898.475238  1821.033275   112.923307   367.663830   \n",
       "4  11125.538391  2430.489640 -8981.051365  2799.620329   711.138646   \n",
       "\n",
       "      feature5     feature6     feature7     feature8     feature9   ...    \\\n",
       "0   613.192757 -1781.927387  1646.479854   434.601598 -1193.474675   ...     \n",
       "1 -4448.947910  1702.615912  1857.723015 -1468.871267  -552.715463   ...     \n",
       "2   640.703171   884.696331 -1189.858518  -182.575784 -1472.273880   ...     \n",
       "3  -239.767015  -697.202096   717.886417 -1545.713188  1522.942660   ...     \n",
       "4  -904.820793 -1680.996723 -2335.881668  6851.171443  1578.728750   ...     \n",
       "\n",
       "   feature191  feature192  feature193  feature194  feature195  feature196  \\\n",
       "0 -166.740512  144.185464  132.797754  -17.766067  333.423583  163.859990   \n",
       "1   11.870355  293.228075  -53.272997   52.384545  -89.065392 -292.015893   \n",
       "2 -385.924342 -505.375763 -178.313912    0.611899 -217.317062 -230.632358   \n",
       "3 -132.199158  265.769199  491.521287  -31.144046 -459.969347  471.314684   \n",
       "4  195.275903  -75.332166 -308.285105 -148.127307   58.004578  -73.645763   \n",
       "\n",
       "   feature197  feature198  feature199  target  \n",
       "0  347.480864 -212.808808 -143.715694    True  \n",
       "1 -263.404139   29.516324 -350.008054   False  \n",
       "2 -479.820515  553.503411  -13.793253    True  \n",
       "3  206.545360  127.305169  -62.728174    True  \n",
       "4 -317.620183   13.884317  -63.960656    True  \n",
       "\n",
       "[5 rows x 201 columns]"
      ]
     },
     "execution_count": 4,
     "metadata": {},
     "output_type": "execute_result"
    }
   ],
   "source": [
    "data.head()"
   ]
  },
  {
   "cell_type": "markdown",
   "metadata": {},
   "source": [
    "For convenience, we load the data as a \"pandas\" data frame, so we can use \"pandas\" and \"seaborn\" built in functions to explore the data."
   ]
  },
  {
   "cell_type": "code",
   "execution_count": 5,
   "metadata": {
    "scrolled": false
   },
   "outputs": [
    {
     "data": {
      "text/html": [
       "<div>\n",
       "<style scoped>\n",
       "    .dataframe tbody tr th:only-of-type {\n",
       "        vertical-align: middle;\n",
       "    }\n",
       "\n",
       "    .dataframe tbody tr th {\n",
       "        vertical-align: top;\n",
       "    }\n",
       "\n",
       "    .dataframe thead th {\n",
       "        text-align: right;\n",
       "    }\n",
       "</style>\n",
       "<table border=\"1\" class=\"dataframe\">\n",
       "  <thead>\n",
       "    <tr style=\"text-align: right;\">\n",
       "      <th></th>\n",
       "      <th>feature0</th>\n",
       "      <th>feature1</th>\n",
       "      <th>feature2</th>\n",
       "      <th>feature3</th>\n",
       "      <th>feature4</th>\n",
       "      <th>feature5</th>\n",
       "      <th>feature6</th>\n",
       "      <th>feature7</th>\n",
       "      <th>feature8</th>\n",
       "      <th>feature9</th>\n",
       "      <th>...</th>\n",
       "      <th>feature190</th>\n",
       "      <th>feature191</th>\n",
       "      <th>feature192</th>\n",
       "      <th>feature193</th>\n",
       "      <th>feature194</th>\n",
       "      <th>feature195</th>\n",
       "      <th>feature196</th>\n",
       "      <th>feature197</th>\n",
       "      <th>feature198</th>\n",
       "      <th>feature199</th>\n",
       "    </tr>\n",
       "  </thead>\n",
       "  <tbody>\n",
       "    <tr>\n",
       "      <th>count</th>\n",
       "      <td>35.000000</td>\n",
       "      <td>35.000000</td>\n",
       "      <td>35.000000</td>\n",
       "      <td>35.000000</td>\n",
       "      <td>35.000000</td>\n",
       "      <td>35.000000</td>\n",
       "      <td>35.000000</td>\n",
       "      <td>35.000000</td>\n",
       "      <td>35.000000</td>\n",
       "      <td>35.000000</td>\n",
       "      <td>...</td>\n",
       "      <td>35.000000</td>\n",
       "      <td>35.000000</td>\n",
       "      <td>35.000000</td>\n",
       "      <td>35.000000</td>\n",
       "      <td>35.000000</td>\n",
       "      <td>35.000000</td>\n",
       "      <td>35.000000</td>\n",
       "      <td>35.000000</td>\n",
       "      <td>35.000000</td>\n",
       "      <td>35.000000</td>\n",
       "    </tr>\n",
       "    <tr>\n",
       "      <th>mean</th>\n",
       "      <td>410.593226</td>\n",
       "      <td>472.165775</td>\n",
       "      <td>13.531449</td>\n",
       "      <td>-223.186845</td>\n",
       "      <td>112.426079</td>\n",
       "      <td>-313.087238</td>\n",
       "      <td>-314.802718</td>\n",
       "      <td>329.412720</td>\n",
       "      <td>67.316062</td>\n",
       "      <td>244.471329</td>\n",
       "      <td>...</td>\n",
       "      <td>-31.065258</td>\n",
       "      <td>-3.480713</td>\n",
       "      <td>3.323042</td>\n",
       "      <td>26.416372</td>\n",
       "      <td>-51.800336</td>\n",
       "      <td>-25.357913</td>\n",
       "      <td>9.082122</td>\n",
       "      <td>32.659413</td>\n",
       "      <td>72.714904</td>\n",
       "      <td>10.136104</td>\n",
       "    </tr>\n",
       "    <tr>\n",
       "      <th>std</th>\n",
       "      <td>7321.039990</td>\n",
       "      <td>2843.425397</td>\n",
       "      <td>3703.735568</td>\n",
       "      <td>2689.785826</td>\n",
       "      <td>2391.633826</td>\n",
       "      <td>2294.581696</td>\n",
       "      <td>1644.492900</td>\n",
       "      <td>1737.510399</td>\n",
       "      <td>1659.630796</td>\n",
       "      <td>1639.480111</td>\n",
       "      <td>...</td>\n",
       "      <td>251.653541</td>\n",
       "      <td>241.645920</td>\n",
       "      <td>233.203413</td>\n",
       "      <td>215.346079</td>\n",
       "      <td>245.298471</td>\n",
       "      <td>320.685525</td>\n",
       "      <td>296.782534</td>\n",
       "      <td>322.073924</td>\n",
       "      <td>330.317331</td>\n",
       "      <td>216.950055</td>\n",
       "    </tr>\n",
       "    <tr>\n",
       "      <th>min</th>\n",
       "      <td>-14673.827418</td>\n",
       "      <td>-9628.616565</td>\n",
       "      <td>-8981.051365</td>\n",
       "      <td>-8407.352016</td>\n",
       "      <td>-5652.127140</td>\n",
       "      <td>-6308.151873</td>\n",
       "      <td>-3699.978662</td>\n",
       "      <td>-4253.740791</td>\n",
       "      <td>-2315.080382</td>\n",
       "      <td>-4235.661024</td>\n",
       "      <td>...</td>\n",
       "      <td>-616.007419</td>\n",
       "      <td>-655.896444</td>\n",
       "      <td>-637.742172</td>\n",
       "      <td>-374.237596</td>\n",
       "      <td>-705.335403</td>\n",
       "      <td>-1158.288876</td>\n",
       "      <td>-549.977198</td>\n",
       "      <td>-479.820515</td>\n",
       "      <td>-353.839332</td>\n",
       "      <td>-350.008054</td>\n",
       "    </tr>\n",
       "    <tr>\n",
       "      <th>25%</th>\n",
       "      <td>-3330.524850</td>\n",
       "      <td>-946.807810</td>\n",
       "      <td>-2450.075317</td>\n",
       "      <td>-1335.662820</td>\n",
       "      <td>-841.807880</td>\n",
       "      <td>-1810.225948</td>\n",
       "      <td>-1598.396260</td>\n",
       "      <td>-909.921678</td>\n",
       "      <td>-1085.841062</td>\n",
       "      <td>-889.930000</td>\n",
       "      <td>...</td>\n",
       "      <td>-145.718845</td>\n",
       "      <td>-146.721170</td>\n",
       "      <td>-100.571921</td>\n",
       "      <td>-115.140659</td>\n",
       "      <td>-140.740419</td>\n",
       "      <td>-213.627963</td>\n",
       "      <td>-183.844078</td>\n",
       "      <td>-217.253479</td>\n",
       "      <td>-166.546848</td>\n",
       "      <td>-155.648700</td>\n",
       "    </tr>\n",
       "    <tr>\n",
       "      <th>50%</th>\n",
       "      <td>-81.594236</td>\n",
       "      <td>1056.444400</td>\n",
       "      <td>477.449365</td>\n",
       "      <td>153.258630</td>\n",
       "      <td>257.919912</td>\n",
       "      <td>-4.090027</td>\n",
       "      <td>-307.750696</td>\n",
       "      <td>137.155141</td>\n",
       "      <td>125.987149</td>\n",
       "      <td>329.671498</td>\n",
       "      <td>...</td>\n",
       "      <td>-16.137971</td>\n",
       "      <td>71.139773</td>\n",
       "      <td>-17.923165</td>\n",
       "      <td>-7.483535</td>\n",
       "      <td>-62.901326</td>\n",
       "      <td>58.004578</td>\n",
       "      <td>-16.348926</td>\n",
       "      <td>1.010692</td>\n",
       "      <td>37.036416</td>\n",
       "      <td>-32.957042</td>\n",
       "    </tr>\n",
       "    <tr>\n",
       "      <th>75%</th>\n",
       "      <td>5852.789673</td>\n",
       "      <td>2062.630606</td>\n",
       "      <td>2266.707701</td>\n",
       "      <td>1142.510713</td>\n",
       "      <td>949.999730</td>\n",
       "      <td>819.117084</td>\n",
       "      <td>573.766946</td>\n",
       "      <td>1664.519367</td>\n",
       "      <td>641.848113</td>\n",
       "      <td>1164.435975</td>\n",
       "      <td>...</td>\n",
       "      <td>104.419741</td>\n",
       "      <td>159.765314</td>\n",
       "      <td>171.675956</td>\n",
       "      <td>165.469767</td>\n",
       "      <td>94.511796</td>\n",
       "      <td>155.580726</td>\n",
       "      <td>207.627271</td>\n",
       "      <td>206.199825</td>\n",
       "      <td>155.637464</td>\n",
       "      <td>161.223660</td>\n",
       "    </tr>\n",
       "    <tr>\n",
       "      <th>max</th>\n",
       "      <td>18044.456097</td>\n",
       "      <td>5295.268924</td>\n",
       "      <td>5133.668466</td>\n",
       "      <td>4390.260430</td>\n",
       "      <td>6521.302809</td>\n",
       "      <td>4107.295817</td>\n",
       "      <td>3410.467586</td>\n",
       "      <td>3876.689761</td>\n",
       "      <td>6851.171443</td>\n",
       "      <td>4610.335348</td>\n",
       "      <td>...</td>\n",
       "      <td>544.636139</td>\n",
       "      <td>351.126918</td>\n",
       "      <td>416.232944</td>\n",
       "      <td>491.521287</td>\n",
       "      <td>559.969966</td>\n",
       "      <td>537.058111</td>\n",
       "      <td>842.864967</td>\n",
       "      <td>1001.905638</td>\n",
       "      <td>1350.441648</td>\n",
       "      <td>563.364761</td>\n",
       "    </tr>\n",
       "  </tbody>\n",
       "</table>\n",
       "<p>8 rows × 200 columns</p>\n",
       "</div>"
      ],
      "text/plain": [
       "           feature0     feature1     feature2     feature3     feature4  \\\n",
       "count     35.000000    35.000000    35.000000    35.000000    35.000000   \n",
       "mean     410.593226   472.165775    13.531449  -223.186845   112.426079   \n",
       "std     7321.039990  2843.425397  3703.735568  2689.785826  2391.633826   \n",
       "min   -14673.827418 -9628.616565 -8981.051365 -8407.352016 -5652.127140   \n",
       "25%    -3330.524850  -946.807810 -2450.075317 -1335.662820  -841.807880   \n",
       "50%      -81.594236  1056.444400   477.449365   153.258630   257.919912   \n",
       "75%     5852.789673  2062.630606  2266.707701  1142.510713   949.999730   \n",
       "max    18044.456097  5295.268924  5133.668466  4390.260430  6521.302809   \n",
       "\n",
       "          feature5     feature6     feature7     feature8     feature9  \\\n",
       "count    35.000000    35.000000    35.000000    35.000000    35.000000   \n",
       "mean   -313.087238  -314.802718   329.412720    67.316062   244.471329   \n",
       "std    2294.581696  1644.492900  1737.510399  1659.630796  1639.480111   \n",
       "min   -6308.151873 -3699.978662 -4253.740791 -2315.080382 -4235.661024   \n",
       "25%   -1810.225948 -1598.396260  -909.921678 -1085.841062  -889.930000   \n",
       "50%      -4.090027  -307.750696   137.155141   125.987149   329.671498   \n",
       "75%     819.117084   573.766946  1664.519367   641.848113  1164.435975   \n",
       "max    4107.295817  3410.467586  3876.689761  6851.171443  4610.335348   \n",
       "\n",
       "          ...      feature190  feature191  feature192  feature193  feature194  \\\n",
       "count     ...       35.000000   35.000000   35.000000   35.000000   35.000000   \n",
       "mean      ...      -31.065258   -3.480713    3.323042   26.416372  -51.800336   \n",
       "std       ...      251.653541  241.645920  233.203413  215.346079  245.298471   \n",
       "min       ...     -616.007419 -655.896444 -637.742172 -374.237596 -705.335403   \n",
       "25%       ...     -145.718845 -146.721170 -100.571921 -115.140659 -140.740419   \n",
       "50%       ...      -16.137971   71.139773  -17.923165   -7.483535  -62.901326   \n",
       "75%       ...      104.419741  159.765314  171.675956  165.469767   94.511796   \n",
       "max       ...      544.636139  351.126918  416.232944  491.521287  559.969966   \n",
       "\n",
       "        feature195  feature196   feature197   feature198  feature199  \n",
       "count    35.000000   35.000000    35.000000    35.000000   35.000000  \n",
       "mean    -25.357913    9.082122    32.659413    72.714904   10.136104  \n",
       "std     320.685525  296.782534   322.073924   330.317331  216.950055  \n",
       "min   -1158.288876 -549.977198  -479.820515  -353.839332 -350.008054  \n",
       "25%    -213.627963 -183.844078  -217.253479  -166.546848 -155.648700  \n",
       "50%      58.004578  -16.348926     1.010692    37.036416  -32.957042  \n",
       "75%     155.580726  207.627271   206.199825   155.637464  161.223660  \n",
       "max     537.058111  842.864967  1001.905638  1350.441648  563.364761  \n",
       "\n",
       "[8 rows x 200 columns]"
      ]
     },
     "execution_count": 5,
     "metadata": {},
     "output_type": "execute_result"
    }
   ],
   "source": [
    "data.describe() "
   ]
  },
  {
   "cell_type": "markdown",
   "metadata": {},
   "source": [
    "### Pie Chart\n",
    "The pie chart below shows that there is the same number of true and fake samples in the train data."
   ]
  },
  {
   "cell_type": "code",
   "execution_count": 6,
   "metadata": {},
   "outputs": [
    {
     "data": {
      "text/plain": [
       "Text(0.5,1,'Distribution of the two class')"
      ]
     },
     "execution_count": 6,
     "metadata": {},
     "output_type": "execute_result"
    },
    {
     "data": {
      "image/png": "[encoded data removed]",
      "text/plain": [
       "<Figure size 432x288 with 1 Axes>"
      ]
     },
     "metadata": {},
     "output_type": "display_data"
    }
   ],
   "source": [
    "%matplotlib inline\n",
    "import matplotlib.pyplot as plt\n",
    "import pandas as pd\n",
    "data_solution = pd.read_csv(\"sample_data/perso_train.solution\",header=None) \n",
    "data_solution.rename(columns={ data_solution.columns[0]: \"solution\" }, inplace=True)\n",
    "counts = data_solution['solution'].value_counts()\n",
    "values = data_solution['solution'].unique()\n",
    "colors = ['turquoise', 'seagreen']\n",
    "plt.pie(counts, labels=values, colors=colors)\n",
    "plt.axis('equal')\n",
    "plt.title(\"Distribution of the two class\")"
   ]
  },
  {
   "cell_type": "markdown",
   "metadata": {},
   "source": [
    "### Histograms\n",
    "Next, we can use histograms to represent the distribution of the data. \n",
    "By calling the function matplotlib.pyplot.hist(), we get histograms displaying the number of features (columns) belonging to each range of values for the mean, the std and the max.\n",
    "\n",
    "These graphs show that there is not too much gap between the values of each feature. For example, all features have values between 0 and 6 and a mean between 0 and 3.\n",
    "\n",
    "These results are not surprising since these features were extracted from images whose size we wanted to reduce and thus the features don't have a specific meaning.\n",
    "\n"
   ]
  },
  {
   "cell_type": "code",
   "execution_count": 7,
   "metadata": {
    "scrolled": true
   },
   "outputs": [
    {
     "data": {
      "image/png": "[encoded data removed]",
      "text/plain": [
       "<Figure size 432x288 with 1 Axes>"
      ]
     },
     "metadata": {
      "needs_background": "light"
     },
     "output_type": "display_data"
    },
    {
     "data": {
      "image/png": "[encoded data removed]",
      "text/plain": [
       "<Figure size 432x288 with 1 Axes>"
      ]
     },
     "metadata": {
      "needs_background": "light"
     },
     "output_type": "display_data"
    },
    {
     "data": {
      "image/png": "[encoded data removed]",
      "text/plain": [
       "<Figure size 432x288 with 1 Axes>"
      ]
     },
     "metadata": {
      "needs_background": "light"
     },
     "output_type": "display_data"
    }
   ],
   "source": [
    "# statistics of 1024 features\n",
    "g1=data.mean()\n",
    "plt.title(\"Distribution of mean\")\n",
    "g1.hist()\n",
    "plt.show()\n",
    "\n",
    "g2=data.std()\n",
    "plt.title(\"Distribution of std\")\n",
    "g2.hist()\n",
    "plt.show()\n",
    "\n",
    "g3=list(data.max())\n",
    "g3.pop()\n",
    "plt.title(\"Distribution of max\")\n",
    "plt.hist(g3)\n",
    "plt.show()"
   ]
  },
  {
   "cell_type": "markdown",
   "metadata": {},
   "source": [
    "### Feature importance\n",
    "\n",
    "The feature importance can help decide which features to keep in case you want to preform feature selection \n",
    "(e.g. because the data is too big). \n",
    "N.B.: The SelectFromModel class in scikit-learn can be used for feature selection\n",
    "\n",
    "Here we decided to keep all the features for now as their importance values are not that different. "
   ]
  },
  {
   "cell_type": "markdown",
   "metadata": {},
   "source": [
    "### Correlation matrix\n",
    "\n",
    "A good indicator to see whether feature selection will be efficient is to observe the coefficients of the correlation matrix. Indeed this matrix will show if the features are related to one another or not.\n",
    "\n",
    "Because of the size of the correlation matrix, we only display the matrix here for the first 20 most \"important\" features (cf the feature importance above).\n",
    "\n",
    "The values taken in this matrix range from -0.6 to 0.9 (excluding the diagonale of 1). Therefore, feature selection might be relevant (e.g. PCA, etc.)."
   ]
  },
  {
   "cell_type": "code",
   "execution_count": 8,
   "metadata": {
    "scrolled": true
   },
   "outputs": [
    {
     "name": "stderr",
     "output_type": "stream",
     "text": [
      "/home/min/anaconda3/lib/python3.7/site-packages/ipykernel_launcher.py:2: DeprecationWarning: numpy.core.umath_tests is an internal NumPy module and should not be imported. It will be removed in a future NumPy release.\n",
      "  \n"
     ]
    },
    {
     "data": {
      "image/png": "[encoded data removed]",
      "text/plain": [
       "<Figure size 432x288 with 1 Axes>"
      ]
     },
     "metadata": {
      "needs_background": "light"
     },
     "output_type": "display_data"
    },
    {
     "data": {
      "image/png": "[encoded data removed]",
      "text/plain": [
       "<Figure size 1008x720 with 2 Axes>"
      ]
     },
     "metadata": {
      "needs_background": "light"
     },
     "output_type": "display_data"
    }
   ],
   "source": [
    "# We use extratree classifier like exemples to show the importance order of all the features\n",
    "from numpy.core.umath_tests import inner1d\n",
    "y=data.target\n",
    "X=data.drop(\"target\",axis=1)\n",
    "from sklearn.ensemble import ExtraTreesClassifier\n",
    "import numpy as np\n",
    "forest = ExtraTreesClassifier(n_estimators=250,\n",
    "                              random_state=0)\n",
    "forest.fit(X, y)\n",
    "importances = forest.feature_importances_\n",
    "std = np.std([tree.feature_importances_ for tree in forest.estimators_],\n",
    "             axis=0)\n",
    "indices = np.argsort(importances)[::-1]\n",
    "plt.figure()\n",
    "plt.title(\"Feature importances\")\n",
    "plt.bar(range(100), importances[indices[:100]])\n",
    "plt.show()\n",
    "\n",
    "#correlation between 20 firsts the most importants features\n",
    "select=indices[:20]\n",
    "t=[]\n",
    "for i in select:\n",
    "    t.append(\"feature\"+str(i))\n",
    "import pandas as pd\n",
    "a = pd.DataFrame(data,columns = t)\n",
    "corr = a.corr()\n",
    "_, ax= plt.subplots(figsize = (14, 10))\n",
    "sns.heatmap(corr,cmap='RdBu', linewidths = 0.05, ax = ax)\n",
    "ax.set_title('Correlation between features')\n",
    "plt.show()"
   ]
  },
  {
   "cell_type": "code",
   "execution_count": 9,
   "metadata": {},
   "outputs": [
    {
     "name": "stdout",
     "output_type": "stream",
     "text": [
      "-0.4811079352657395\n",
      "0.5013346625595706\n"
     ]
    }
   ],
   "source": [
    "# Minimum value for all correlation coefficients\n",
    "tab = corr.min()\n",
    "print((tab.min()).min()) # The minimum value for all correlation coefficients in the correlation matrix (20x20) above is -0.6.\n",
    "\n",
    "# Maximum value\n",
    "tab2 = corr - np.eye(20)\n",
    "print((tab2.max()).max())# The maximum value for all correlation coefficients in the correlation matrix (20x20) above is 0.9."
   ]
  },
  {
   "cell_type": "markdown",
   "metadata": {},
   "source": [
    "<div style=\"background:#FFFFAA\">\n",
    "<h1>Step 2: Building a predictive model</h1>\n",
    "</div>"
   ]
  },
  {
   "cell_type": "markdown",
   "metadata": {},
   "source": [
    "<div style=\"background:#FFFFAA\">\n",
    "    <h2>Loading data with DataManager</h2>\n",
    "    <p>\n",
    "We reload the data with the AutoML DataManager class because this is more convenient:\n",
    "   <br>     <span style=\"color:red\"> Keep this, it illustrates how data in AutoML formal are loaded by the ingestion program </span>\n",
    "</div>"
   ]
  },
  {
   "cell_type": "code",
   "execution_count": 10,
   "metadata": {},
   "outputs": [
    {
     "name": "stdout",
     "output_type": "stream",
     "text": [
      "Info file found : /home/min/Téléchargements/PersoData/starting_kit/sample_data/perso_public.info\n",
      "DataManager : perso\n",
      "info:\n",
      "\tusage = Sample dataset perso data\n",
      "\tname = perso\n",
      "\ttask = bi-class.classification\n",
      "\ttarget_type = Numerical\n",
      "\tfeat_type = Numerical\n",
      "\tmetric = bac_metric\n",
      "\ttime_budget = 1200\n",
      "\tfeat_num = 200\n",
      "\ttarget_num = 2\n",
      "\tlabel_num = 2\n",
      "\ttrain_num = 50000\n",
      "\tvalid_num = 9408\n",
      "\ttest_num = 18817\n",
      "\thas_categorical = 0\n",
      "\thas_missing = 0\n",
      "\tis_sparse = 0\n",
      "\tformat = dense\n",
      "data:\n",
      "\tX_train = array(35, 200)\n",
      "\tY_train = array(35,)\n",
      "\tX_valid = array(5, 200)\n",
      "\tY_valid = array(5,)\n",
      "\tX_test = array(10, 200)\n",
      "\tY_test = array(10,)\n",
      "feat_type:\tarray(200,)\n",
      "feat_idx:\tarray(0,)\n",
      "\n",
      "perso\n"
     ]
    }
   ],
   "source": [
    "from data_manager import DataManager\n",
    "D = DataManager(data_name, data_dir, replace_missing=True)\n",
    "print(D)\n",
    "print(data_name)"
   ]
  },
  {
   "cell_type": "markdown",
   "metadata": {},
   "source": [
    "<div style=\"background:#FFFFAA\">\n",
    "    <h2>Training a predictive model</h2>\n",
    "    <p>\n",
    "We provide an example of predictive model (for classification or regression) in the `sample_code_submission/` directory. It is a quite stupid model: it makes constant predictions. Replace it with your own model.\n",
    "    </div>"
   ]
  },
  {
   "cell_type": "code",
   "execution_count": 11,
   "metadata": {},
   "outputs": [],
   "source": [
    "from numpy.core.umath_tests import inner1d\n",
    "from data_io import write\n",
    "from model import model"
   ]
  },
  {
   "cell_type": "markdown",
   "metadata": {},
   "source": [
    "<div style=\"background:#FFFFAA\">\n",
    "an instance of the model (run the constructor) and attempt to reload a previously saved version from `sample_code_submission/`:\n",
    "    \n",
    "</div>"
   ]
  },
  {
   "cell_type": "code",
   "execution_count": 12,
   "metadata": {},
   "outputs": [
    {
     "name": "stdout",
     "output_type": "stream",
     "text": [
      "perso\n",
      "sample_code_submission/\n",
      "sample_code_submission/perso\n"
     ]
    }
   ],
   "source": [
    "#Model LogisticRegression of scikit-learn\n",
    "M = model()\n",
    "trained_model_name = model_dir + data_name\n",
    "print(data_name)\n",
    "print(model_dir)\n",
    "print(trained_model_name)\n",
    "# Uncomment the next line to re-load an already trained model\n",
    "#M = M.load(trained_model_name)                  "
   ]
  },
  {
   "cell_type": "markdown",
   "metadata": {},
   "source": [
    "<div style=\"background:#FFFFAA\">\n",
    "    Train the model (unless you reloaded a trained model) and make predictions. \n",
    "</div>"
   ]
  },
  {
   "cell_type": "code",
   "execution_count": 13,
   "metadata": {},
   "outputs": [
    {
     "name": "stdout",
     "output_type": "stream",
     "text": [
      "FIT: dim(X)= [35, 200]\n",
      "FIT: dim(y)= [35, 1]\n",
      "PREDICT: dim(X)= [35, 200]\n",
      "PREDICT: dim(y)= [35, 1]\n",
      "PREDICT: dim(X)= [5, 200]\n",
      "PREDICT: dim(y)= [5, 1]\n",
      "PREDICT: dim(X)= [10, 200]\n",
      "PREDICT: dim(y)= [10, 1]\n"
     ]
    }
   ],
   "source": [
    "if not(M.is_trained):\n",
    "    X_train = D.data['X_train']\n",
    "    Y_train = D.data['Y_train']\n",
    "    M.fit(X_train, Y_train)                     \n",
    "\n",
    "Y_hat_train = M.predict(D.data['X_train'])\n",
    "Y_hat_valid = M.predict(D.data['X_valid'])\n",
    "Y_hat_test = M.predict(D.data['X_test'])\n",
    "Y_test = D.data['Y_test']\n",
    "Y_valid = D.data['Y_valid']"
   ]
  },
  {
   "cell_type": "markdown",
   "metadata": {},
   "source": [
    "<div style=\"background:#FFFFAA\">\n",
    "    <b> Save the trained model </b> (will be ready to reload next time around) and save the prediction results. IMPORTANT: if you save the trained model, it will be bundled with your sample code submission. Therefore your model will NOT be retrained on the challenge platform. Remove the pickle from the submission if you want the model to be retrained on the platform.\n",
    "</div>"
   ]
  },
  {
   "cell_type": "code",
   "execution_count": 14,
   "metadata": {},
   "outputs": [
    {
     "name": "stdout",
     "output_type": "stream",
     "text": [
      "sample_result_submission/perso_test.predict\r\n",
      "sample_result_submission/perso_train.predict\r\n",
      "sample_result_submission/perso_valid.predict\r\n"
     ]
    }
   ],
   "source": [
    "M.save(trained_model_name)                 \n",
    "result_name = result_dir + data_name\n",
    "from data_io import write\n",
    "write(result_name + '_train.predict', Y_hat_train)\n",
    "write(result_name + '_valid.predict', Y_hat_valid)\n",
    "write(result_name + '_test.predict', Y_hat_test)\n",
    "!ls $result_name*"
   ]
  },
  {
   "cell_type": "markdown",
   "metadata": {},
   "source": [
    "<div style=\"background:#FFFFAA\">\n",
    "    <h2>Scoring the results</h2>\n",
    "    <h3>Load the challenge metric</h3>\n",
    "    <p>\n",
    "<b>The metric chosen for your challenge</b> is identified in the \"metric.txt\" file found in the `scoring_function/` directory. The function \"get_metric\" searches first for a metric having that name in my_metric.py, then in libscores.py, then in sklearn.metric.\n",
    "    </div>"
   ]
  },
  {
   "cell_type": "markdown",
   "metadata": {},
   "source": [
    "#### Metric : AUC_metric \n",
    "ROC curves are typically used in binary classification to study the output of a classifier"
   ]
  },
  {
   "cell_type": "code",
   "execution_count": 15,
   "metadata": {},
   "outputs": [
    {
     "name": "stdout",
     "output_type": "stream",
     "text": [
      "Using scoring metric: roc_auc_score\n"
     ]
    }
   ],
   "source": [
    "from libscores import get_metric\n",
    "metric_name, scoring_function = get_metric()\n",
    "print('Using scoring metric:', metric_name)"
   ]
  },
  {
   "cell_type": "markdown",
   "metadata": {},
   "source": [
    "<div style=\"background:#FFFFAA\">\n",
    "    <h3> Training performance </h3>\n",
    "    <p>\n",
    "The participants normally posess target values (labels) only for training examples (except for the sample data). We compute with the `example` metric the training score, which should be zero for perfect predictions.\n",
    "        </div>"
   ]
  },
  {
   "cell_type": "code",
   "execution_count": 16,
   "metadata": {
    "scrolled": true
   },
   "outputs": [
    {
     "name": "stdout",
     "output_type": "stream",
     "text": [
      "Training score for the roc_auc_score metric = 1.0000\n",
      "Ideal score for the roc_auc_score metric = 1.0000\n",
      "Test score for the roc_auc_score metric = 0.0417\n",
      "Valid score for the roc_auc_score metric = 0.0000\n"
     ]
    },
    {
     "data": {
      "image/png": "[encoded data removed]",
      "text/plain": [
       "<Figure size 360x216 with 2 Axes>"
      ]
     },
     "metadata": {
      "needs_background": "light"
     },
     "output_type": "display_data"
    },
    {
     "data": {
      "image/png": "[encoded data removed]",
      "text/plain": [
       "<Figure size 432x288 with 1 Axes>"
      ]
     },
     "metadata": {
      "needs_background": "light"
     },
     "output_type": "display_data"
    },
    {
     "data": {
      "image/png": "[encoded data removed]",
      "text/plain": [
       "<Figure size 360x216 with 2 Axes>"
      ]
     },
     "metadata": {
      "needs_background": "light"
     },
     "output_type": "display_data"
    },
    {
     "data": {
      "image/png": "[encoded data removed]",
      "text/plain": [
       "<Figure size 432x288 with 1 Axes>"
      ]
     },
     "metadata": {
      "needs_background": "light"
     },
     "output_type": "display_data"
    },
    {
     "data": {
      "image/png": "[encoded data removed]",
      "text/plain": [
       "<Figure size 360x216 with 2 Axes>"
      ]
     },
     "metadata": {
      "needs_background": "light"
     },
     "output_type": "display_data"
    },
    {
     "data": {
      "image/png": "[encoded data removed]",
      "text/plain": [
       "<Figure size 432x288 with 1 Axes>"
      ]
     },
     "metadata": {
      "needs_background": "light"
     },
     "output_type": "display_data"
    }
   ],
   "source": [
    "#AUC_metric\n",
    "from sklearn import metrics\n",
    "n_classes=2\n",
    "def fpr_tpr(solution, prediction):\n",
    "    #fpr, tpr, thresholds = metrics.roc_curve(solution, prediction, pos_label=1)\n",
    "    for i in range(n_classes):\n",
    "        fpr, tpr, _ = metrics.roc_curve(solution, prediction)\n",
    "        roc_auc = metrics.auc(fpr, tpr)\n",
    "    return (fpr,tpr)\n",
    "\n",
    "fpr_train,tpr_train = fpr_tpr(Y_train, Y_hat_train)\n",
    "fpr_test,tpr_test = fpr_tpr(Y_test, Y_hat_test)\n",
    "fpr_valid,tpr_valid = fpr_tpr(Y_valid, Y_hat_valid)\n",
    "\n",
    "print('Training score for the', metric_name, 'metric = %5.4f' % scoring_function(Y_train, Y_hat_train))\n",
    "print('Ideal score for the', metric_name, 'metric = %5.4f' % scoring_function(Y_train, Y_train))\n",
    "print('Test score for the', metric_name, 'metric = %5.4f' % scoring_function(Y_test, Y_hat_test))\n",
    "print('Valid score for the', metric_name, 'metric = %5.4f' % scoring_function(Y_valid, Y_hat_valid))\n",
    "\n",
    "#Confusion matrix for AUC_metric\n",
    "from sklearn.metrics import confusion_matrix\n",
    "import seaborn as sn\n",
    "import matplotlib.pyplot as plt\n",
    "def p2c(prediction,threshold=0.5) : \n",
    "    c = []\n",
    "    for ele in prediction : \n",
    "        if(ele>=0.5) : \n",
    "            c.append(1)\n",
    "        else : \n",
    "            c.append(0)\n",
    "    return np.array(c)\n",
    "\n",
    "\n",
    "def plot_cm_matrix(solution,prediction,title) :\n",
    "    prediction = p2c(prediction)\n",
    "    cm = confusion_matrix(solution, prediction)\n",
    "    df_cm = pd.DataFrame(cm, index = [i for i in \"01\"],columns = [i for i in \"01\"])\n",
    "    plt.figure(figsize = (5,3))\n",
    "    sn.heatmap(df_cm, annot=True)\n",
    "    plt.title(title)\n",
    "\n",
    "def plot_ROC(fpr,tpr,title) :\n",
    "    plt.figure()\n",
    "    lw = 2\n",
    "    plt.plot(fpr, tpr, color='darkorange',lw=lw)\n",
    "    plt.plot([0, 1], [0, 1], color='navy', lw=lw, linestyle='--')\n",
    "    plt.xlim([0.0, 1.0])\n",
    "    plt.ylim([0.0, 1.05])\n",
    "    plt.xlabel('False Positive Rate')\n",
    "    plt.ylabel('True Positive Rate')\n",
    "    plt.title(title)\n",
    "    plt.show()\n",
    "\n",
    "plot_cm_matrix(Y_train,Y_hat_train,\"Confusion matrix for train data\") \n",
    "plot_ROC(fpr_train,tpr_train,\"ROC curve for train data\")\n",
    "plot_cm_matrix(Y_test,Y_hat_test,\"Confusion matrix for test data\") \n",
    "plot_ROC(fpr_test,tpr_test,\"ROC curve for test data\")\n",
    "plot_cm_matrix(Y_valid,Y_hat_valid,\"Confusion matrix for valid data\") \n",
    "plot_ROC(fpr_valid,tpr_valid,\"ROC curve for valid data\")"
   ]
  },
  {
   "cell_type": "markdown",
   "metadata": {},
   "source": [
    "You can add here other scores and result visualization."
   ]
  },
  {
   "cell_type": "markdown",
   "metadata": {},
   "source": [
    "<div style=\"background:#FFFFAA\">\n",
    "    <h3>Cross-validation performance</h3>\n",
    "    <p>\n",
    "The participants do not have access to the labels Y_valid and Y_test to self-assess their validation and test performances. But training performance is not a good prediction of validation or test performance. Using cross-validation, the training data is split into multiple training/test folds, which allows participants to self-assess their model during development. The average CV result and 95% confidence interval is displayed.\n",
    "   </div>"
   ]
  },
  {
   "cell_type": "code",
   "execution_count": 17,
   "metadata": {},
   "outputs": [
    {
     "name": "stdout",
     "output_type": "stream",
     "text": [
      "FIT: dim(X)= [28, 200]\n",
      "FIT: dim(y)= [28, 1]\n",
      "PREDICT: dim(X)= [7, 200]\n",
      "PREDICT: dim(y)= [7, 1]\n",
      "FIT: dim(X)= [28, 200]\n",
      "FIT: dim(y)= [28, 1]\n",
      "PREDICT: dim(X)= [7, 200]\n",
      "PREDICT: dim(y)= [7, 1]\n",
      "FIT: dim(X)= [28, 200]\n",
      "FIT: dim(y)= [28, 1]\n",
      "PREDICT: dim(X)= [7, 200]\n",
      "PREDICT: dim(y)= [7, 1]\n",
      "FIT: dim(X)= [28, 200]\n",
      "FIT: dim(y)= [28, 1]\n",
      "PREDICT: dim(X)= [7, 200]\n",
      "PREDICT: dim(y)= [7, 1]\n",
      "FIT: dim(X)= [28, 200]\n",
      "FIT: dim(y)= [28, 1]\n",
      "PREDICT: dim(X)= [7, 200]\n",
      "PREDICT: dim(y)= [7, 1]\n",
      "\n",
      "CV score (95 perc. CI): 0.54 (+/- 0.55)\n"
     ]
    }
   ],
   "source": [
    "from sklearn.metrics import make_scorer\n",
    "from sklearn.model_selection import cross_val_score\n",
    "scores = cross_val_score(M, X_train, Y_train, cv=5, scoring=make_scorer(scoring_function))\n",
    "print('\\nCV score (95 perc. CI): %0.2f (+/- %0.2f)' % (scores.mean(), scores.std() * 2))"
   ]
  },
  {
   "cell_type": "markdown",
   "metadata": {},
   "source": [
    "<div style=\"background:#FFFFAA\">\n",
    "<h1> Step 3: Making a submission </h1> \n",
    "\n",
    "<h2> Unit testing </h2> \n",
    "\n",
    "It is <b><span style=\"color:red\">important that you test your submission files before submitting them</span></b>. All you have to do to make a submission is modify the file <code>model.py</code> in the <code>sample_code_submission/</code> directory, then run this test to make sure everything works fine. This is the actual program that will be run on the server to test your submission. \n",
    "<br>\n",
    "Keep the sample code simple.\n",
    "</div>"
   ]
  },
  {
   "cell_type": "code",
   "execution_count": 18,
   "metadata": {
    "scrolled": true
   },
   "outputs": [
    {
     "name": "stdout",
     "output_type": "stream",
     "text": [
      "Using input_dir: /home/min/Téléchargements/PersoData/starting_kit/sample_data\n",
      "Using output_dir: /home/min/Téléchargements/PersoData/starting_kit/sample_result_submission\n",
      "Using program_dir: /home/min/Téléchargements/PersoData/starting_kit/ingestion_program\n",
      "Using submission_dir: /home/min/Téléchargements/PersoData/starting_kit/sample_code_submission\n",
      "\n",
      "========== Ingestion program version 6 ==========\n",
      "\n",
      "************************************************\n",
      "******** Processing dataset Perso ********\n",
      "************************************************\n",
      "========= Reading and converting data ==========\n",
      "Info file found : /home/min/Téléchargements/PersoData/starting_kit/sample_data/perso_public.info\n",
      "========= Reading /home/min/Téléchargements/PersoData/starting_kit/sample_data/perso_feat.type\n",
      "[+] Success in  0.00 sec\n",
      "========= Reading /home/min/Téléchargements/PersoData/starting_kit/sample_data/perso_train.data\n",
      "Replace missing values by 0 (slow, sorry)\n",
      "[+] Success in  0.00 sec\n",
      "========= Reading /home/min/Téléchargements/PersoData/starting_kit/sample_data/perso_train.solution\n",
      "[+] Success in  0.00 sec\n",
      "========= Reading /home/min/Téléchargements/PersoData/starting_kit/sample_data/perso_valid.data\n",
      "Replace missing values by 0 (slow, sorry)\n",
      "[+] Success in  0.00 sec\n",
      "========= Reading /home/min/Téléchargements/PersoData/starting_kit/sample_data/perso_valid.solution\n",
      "[+] Success in  0.00 sec\n",
      "========= Reading /home/min/Téléchargements/PersoData/starting_kit/sample_data/perso_test.data\n",
      "Replace missing values by 0 (slow, sorry)\n",
      "[+] Success in  0.00 sec\n",
      "========= Reading /home/min/Téléchargements/PersoData/starting_kit/sample_data/perso_test.solution\n",
      "[+] Success in  0.00 sec\n",
      "DataManager : perso\n",
      "info:\n",
      "\tusage = Sample dataset perso data\n",
      "\tname = perso\n",
      "\ttask = bi-class.classification\n",
      "\ttarget_type = Numerical\n",
      "\tfeat_type = Numerical\n",
      "\tmetric = bac_metric\n",
      "\ttime_budget = 1200\n",
      "\tfeat_num = 200\n",
      "\ttarget_num = 2\n",
      "\tlabel_num = 2\n",
      "\ttrain_num = 50000\n",
      "\tvalid_num = 9408\n",
      "\ttest_num = 18817\n",
      "\thas_categorical = 0\n",
      "\thas_missing = 0\n",
      "\tis_sparse = 0\n",
      "\tformat = dense\n",
      "data:\n",
      "\tX_train = array(35, 200)\n",
      "\tY_train = array(35,)\n",
      "\tX_valid = array(5, 200)\n",
      "\tY_valid = array(5,)\n",
      "\tX_test = array(10, 200)\n",
      "\tY_test = array(10,)\n",
      "feat_type:\tarray(200,)\n",
      "feat_idx:\tarray(200,)\n",
      "\n",
      "[+] Size of uploaded data  56.00 bytes\n",
      "[+] Cumulated time budget (all tasks so far)  1200.00 sec\n",
      "[+] Time budget for this task 1200.00 sec\n",
      "[+] Remaining time after reading data 1200.00 sec\n",
      "======== Creating model ==========\n",
      "**********************************************************\n",
      "****** Attempting to reload model to avoid training ******\n",
      "**********************************************************\n",
      "Model reloaded from: /home/min/Téléchargements/PersoData/starting_kit/sample_code_submission/perso_model.pickle\n",
      "[+] Model reloaded, no need to train!\n",
      "[+] Prediction success, time spent so far  0.01 sec\n",
      "======== Saving results to: /home/min/Téléchargements/PersoData/starting_kit/sample_result_submission\n",
      "[+] Results saved, time spent so far  0.01 sec\n",
      "[+] End cycle, time left 1199.99 sec\n",
      "[+] Done\n",
      "[+] Overall time spent  0.77 sec ::  Overall time budget 1200.00 sec\n"
     ]
    }
   ],
   "source": [
    "!python $problem_dir/ingestion.py $data_dir $result_dir $problem_dir $model_dir"
   ]
  },
  {
   "cell_type": "markdown",
   "metadata": {},
   "source": [
    "<div style=\"background:#FFFFAA\">\n",
    "Also test the scoring program:\n",
    "    </div>"
   ]
  },
  {
   "cell_type": "code",
   "execution_count": 19,
   "metadata": {},
   "outputs": [
    {
     "name": "stdout",
     "output_type": "stream",
     "text": [
      "======= Set 1 (Perso_test): roc_auc_score(set1_score)=0.250000000000 =======\r\n",
      "======= Set 2 (Perso_train): roc_auc_score(set2_score)=1.000000000000 =======\r\n",
      "======= Set 3 (Perso_valid): roc_auc_score(set3_score)=0.125000000000 =======\r\n"
     ]
    }
   ],
   "source": [
    "scoring_output_dir = '../scoring_output_dir'\n",
    "!python $score_dir/score.py $data_dir $result_dir $scoring_output_dir"
   ]
  },
  {
   "cell_type": "markdown",
   "metadata": {
    "collapsed": true
   },
   "source": [
    "<div style=\"background:#FFFFAA\">\n",
    "    <h1> Preparing the submission </h1>\n",
    "\n",
    "Zip the contents of `sample_code_submission/` (without the directory), or download the challenge public_data and run the command in the previous cell, after replacing sample_data by public_data.\n",
    "Then zip the contents of `sample_result_submission/` (without the directory).\n",
    "<b><span style=\"color:red\">Do NOT zip the data with your submissions</span></b>."
   ]
  },
  {
   "cell_type": "code",
   "execution_count": 20,
   "metadata": {},
   "outputs": [
    {
     "name": "stdout",
     "output_type": "stream",
     "text": [
      "Submit one of these files:\n",
      "../sample_code_submission_19-01-14-22-48.zip\n",
      "../sample_result_submission_19-01-14-22-48.zip\n"
     ]
    }
   ],
   "source": [
    "import datetime \n",
    "from data_io import zipdir\n",
    "the_date = datetime.datetime.now().strftime(\"%y-%m-%d-%H-%M\")\n",
    "sample_code_submission = '../sample_code_submission_' + the_date + '.zip'\n",
    "sample_result_submission = '../sample_result_submission_' + the_date + '.zip'\n",
    "zipdir(sample_code_submission, model_dir)\n",
    "zipdir(sample_result_submission, result_dir)\n",
    "print(\"Submit one of these files:\\n\" + sample_code_submission + \"\\n\" + sample_result_submission)"
   ]
  }
 ],
 "metadata": {
  "kernelspec": {
   "display_name": "Python 3",
   "language": "python",
   "name": "python3"
  },
  "language_info": {
   "codemirror_mode": {
    "name": "ipython",
    "version": 3
   },
   "file_extension": ".py",
   "mimetype": "text/x-python",
   "name": "python",
   "nbconvert_exporter": "python",
   "pygments_lexer": "ipython3",
   "version": "3.7.0"
  }
 },
 "nbformat": 4,
 "nbformat_minor": 1
}
