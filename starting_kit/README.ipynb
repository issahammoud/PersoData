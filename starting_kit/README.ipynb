{
 "cells": [
  {
   "cell_type": "markdown",
   "metadata": {},
   "source": [
    "<div style=\"background:#FFFFAA\">\n",
    "<img src=\"logo.jpg\", width=150, ALIGN=\"left\", border=20>\n",
    "<center>\n",
    "<h1>Sample Starting Kit </h1>\n",
    " <br>This code was tested with <br>\n",
    "Python 3.6.6 |Anaconda custom (64-bit)| (default, Jun 28 2018, 11:07:29) (https://anaconda.org/)<br>\n",
    "<i> Adapted for Chalab by Isabelle Guyon from original code of Balázs Kégl</i> <br>\n",
    "<a href=\"http://www.datascience-paris-saclay.fr\">Paris Saclay Center for Data Science (CDS)</a>\n",
    "</center>\n",
    "<br>\n",
    "<br>\n",
    "<br>\n",
    "<p>\n",
    "ALL INFORMATION, SOFTWARE, DOCUMENTATION, AND DATA ARE PROVIDED \"AS-IS\". The CDS, CHALEARN, AND/OR OTHER ORGANIZERS OR CODE AUTHORS DISCLAIM ANY EXPRESSED OR IMPLIED WARRANTIES, INCLUDING, BUT NOT LIMITED TO, THE IMPLIED WARRANTIES OF MERCHANTABILITY AND FITNESS FOR ANY PARTICULAR PURPOSE, AND THE WARRANTY OF NON-INFRIGEMENT OF ANY THIRD PARTY'S INTELLECTUAL PROPERTY RIGHTS. IN NO EVENT SHALL AUTHORS AND ORGANIZERS BE LIABLE FOR ANY SPECIAL, \n",
    "INDIRECT OR CONSEQUENTIAL DAMAGES OR ANY DAMAGES WHATSOEVER ARISING OUT OF OR IN CONNECTION WITH THE USE OR PERFORMANCE OF SOFTWARE, DOCUMENTS, MATERIALS, PUBLICATIONS, OR INFORMATION MADE AVAILABLE FOR THE CHALLENGE. \n",
    "</div>"
   ]
  },
  {
   "cell_type": "markdown",
   "metadata": {},
   "source": [
    "<div style=\"background:#FFFFAA\">\n",
    "    <h2>Introduction </h2>\n",
    "    <p>\n",
    "In an era where computer graphics techniques for image generation are reaching stunning levels of quality, it becomes more and more challenging to detect fake from true, authentic images. However, this raises a lot of legal issues, mainly dealing with forgery. This project focuses mainly on the efficiency of Generative Adversarial Network (GAN) algorithms for producing art forgery and we will try to beat the state-of-the-art models that detect it. In fact, the Fine Arts Expert Institute in Geneva estimates that as much as 50 percent of artworks currently in circulation may be forgeries. Although the standard approach for image classification which is deep neural networks and especially Convolutional Neural Networks (CNNs) works very well nowadays, GAN performs strongly on generating fake images. By focusing on the art forgery aspect, we will try to bring a more specific perspective on the issue of image forgery.\n",
    " \n",
    " <br>\n",
    "    <span style=\"color:red\"> Keep the next block. </span>\n",
    "</div>"
   ]
  },
  {
   "cell_type": "code",
   "execution_count": 40,
   "metadata": {},
   "outputs": [
    {
     "name": "stdout",
     "output_type": "stream",
     "text": [
      "The autoreload extension is already loaded. To reload it, use:\n",
      "  %reload_ext autoreload\n"
     ]
    }
   ],
   "source": [
    "%reload_ext autoreload\n",
    "model_dir = 'sample_code_submission/'                        # Change the model to a better one once you have one!\n",
    "result_dir = 'sample_result_submission/' \n",
    "problem_dir = 'ingestion_program/'  \n",
    "score_dir = 'scoring_program/'\n",
    "from sys import path; path.append(model_dir); path.append(problem_dir); path.append(score_dir); \n",
    "%matplotlib inline\n",
    "# Uncomment the next lines to auto-reload libraries (this causes some problem with pickles in Python 3)\n",
    "%load_ext autoreload\n",
    "%autoreload 2\n",
    "import seaborn as sns; sns.set()\n",
    "import warnings\n",
    "warnings.simplefilter(action='ignore', category=FutureWarning)"
   ]
  },
  {
   "cell_type": "markdown",
   "metadata": {},
   "source": [
    "<div style=\"background:#FFFFAA\">\n",
    "    <h1> Step 1: Exploratory data analysis </h1>\n",
    "<p>\n",
    "We provide sample_data with the starting kit, but to prepare your submission, you must fetch the public_data from the challenge website and point to it.\n",
    "    <br>\n",
    "    <span style=\"color:red\"> Just change the data name in the block below. In the rest of the section, replace the sample plots by anything you want. </span>\n",
    "</div>"
   ]
  },
  {
   "cell_type": "code",
   "execution_count": 41,
   "metadata": {},
   "outputs": [
    {
     "name": "stdout",
     "output_type": "stream",
     "text": [
      "perso_feat.name    perso_test.data\tperso_train.solution\r\n",
      "perso_label.name   perso_test.solution\tperso_valid.data\r\n",
      "perso_public.info  perso_train.data\tperso_valid.solution\r\n"
     ]
    }
   ],
   "source": [
    "#data_dir = 'sample_data'              # Change this to the directory where you put the input data\n",
    "data_dir = 'sample_data'          # The sample_data directory should contain only a very small subset of the data\n",
    "data_name = 'perso'\n",
    "!ls $data_dir"
   ]
  },
  {
   "cell_type": "code",
   "execution_count": 42,
   "metadata": {},
   "outputs": [
    {
     "name": "stdout",
     "output_type": "stream",
     "text": [
      "Reading sample_data/perso_train from AutoML format\n",
      "Number of examples = 50000\n",
      "Number of features = 200\n",
      "   Class\n",
      "0  False\n",
      "1   True\n",
      "Number of classes = 2\n"
     ]
    }
   ],
   "source": [
    "from data_io import read_as_df\n",
    "data = read_as_df(data_dir  + '/' + data_name)          # The perso_data is loaded as a Pandas Data Frame"
   ]
  },
  {
   "cell_type": "code",
   "execution_count": 43,
   "metadata": {
    "scrolled": true
   },
   "outputs": [
    {
     "data": {
      "text/html": [
       "<div>\n",
       "<style scoped>\n",
       "    .dataframe tbody tr th:only-of-type {\n",
       "        vertical-align: middle;\n",
       "    }\n",
       "\n",
       "    .dataframe tbody tr th {\n",
       "        vertical-align: top;\n",
       "    }\n",
       "\n",
       "    .dataframe thead th {\n",
       "        text-align: right;\n",
       "    }\n",
       "</style>\n",
       "<table border=\"1\" class=\"dataframe\">\n",
       "  <thead>\n",
       "    <tr style=\"text-align: right;\">\n",
       "      <th></th>\n",
       "      <th>feature0</th>\n",
       "      <th>feature1</th>\n",
       "      <th>feature2</th>\n",
       "      <th>feature3</th>\n",
       "      <th>feature4</th>\n",
       "      <th>feature5</th>\n",
       "      <th>feature6</th>\n",
       "      <th>feature7</th>\n",
       "      <th>feature8</th>\n",
       "      <th>feature9</th>\n",
       "      <th>...</th>\n",
       "      <th>feature191</th>\n",
       "      <th>feature192</th>\n",
       "      <th>feature193</th>\n",
       "      <th>feature194</th>\n",
       "      <th>feature195</th>\n",
       "      <th>feature196</th>\n",
       "      <th>feature197</th>\n",
       "      <th>feature198</th>\n",
       "      <th>feature199</th>\n",
       "      <th>target</th>\n",
       "    </tr>\n",
       "  </thead>\n",
       "  <tbody>\n",
       "    <tr>\n",
       "      <th>0</th>\n",
       "      <td>3042.307373</td>\n",
       "      <td>-1333.242933</td>\n",
       "      <td>6732.392375</td>\n",
       "      <td>2085.126005</td>\n",
       "      <td>1410.385991</td>\n",
       "      <td>-4900.850136</td>\n",
       "      <td>4478.037525</td>\n",
       "      <td>5942.602079</td>\n",
       "      <td>-1356.044548</td>\n",
       "      <td>5561.677729</td>\n",
       "      <td>...</td>\n",
       "      <td>-436.636685</td>\n",
       "      <td>-273.371130</td>\n",
       "      <td>-361.295100</td>\n",
       "      <td>-192.580851</td>\n",
       "      <td>-119.146372</td>\n",
       "      <td>-168.527167</td>\n",
       "      <td>98.151759</td>\n",
       "      <td>-55.826544</td>\n",
       "      <td>-181.006453</td>\n",
       "      <td>False</td>\n",
       "    </tr>\n",
       "    <tr>\n",
       "      <th>1</th>\n",
       "      <td>-5257.018928</td>\n",
       "      <td>-3612.530905</td>\n",
       "      <td>-653.811253</td>\n",
       "      <td>1556.302623</td>\n",
       "      <td>437.089999</td>\n",
       "      <td>-1864.308990</td>\n",
       "      <td>-2219.343765</td>\n",
       "      <td>349.887382</td>\n",
       "      <td>-827.362829</td>\n",
       "      <td>-209.218850</td>\n",
       "      <td>...</td>\n",
       "      <td>68.629802</td>\n",
       "      <td>166.945900</td>\n",
       "      <td>65.417898</td>\n",
       "      <td>24.095048</td>\n",
       "      <td>39.023749</td>\n",
       "      <td>-248.450039</td>\n",
       "      <td>-157.497271</td>\n",
       "      <td>131.516227</td>\n",
       "      <td>-408.190559</td>\n",
       "      <td>True</td>\n",
       "    </tr>\n",
       "    <tr>\n",
       "      <th>2</th>\n",
       "      <td>-5249.986457</td>\n",
       "      <td>3544.891962</td>\n",
       "      <td>-4823.476747</td>\n",
       "      <td>904.164062</td>\n",
       "      <td>331.936111</td>\n",
       "      <td>5162.063420</td>\n",
       "      <td>-1283.343070</td>\n",
       "      <td>-3282.461338</td>\n",
       "      <td>-833.187720</td>\n",
       "      <td>-273.846339</td>\n",
       "      <td>...</td>\n",
       "      <td>-51.794919</td>\n",
       "      <td>-118.046193</td>\n",
       "      <td>-53.585664</td>\n",
       "      <td>-217.080530</td>\n",
       "      <td>-225.214007</td>\n",
       "      <td>302.705842</td>\n",
       "      <td>-21.015393</td>\n",
       "      <td>-402.149134</td>\n",
       "      <td>-18.379699</td>\n",
       "      <td>False</td>\n",
       "    </tr>\n",
       "    <tr>\n",
       "      <th>3</th>\n",
       "      <td>4921.114200</td>\n",
       "      <td>4099.977591</td>\n",
       "      <td>12449.881177</td>\n",
       "      <td>172.185218</td>\n",
       "      <td>-628.131316</td>\n",
       "      <td>-1983.925267</td>\n",
       "      <td>-223.775953</td>\n",
       "      <td>193.755101</td>\n",
       "      <td>674.072869</td>\n",
       "      <td>-1960.717353</td>\n",
       "      <td>...</td>\n",
       "      <td>376.720379</td>\n",
       "      <td>295.038177</td>\n",
       "      <td>66.038577</td>\n",
       "      <td>-749.817785</td>\n",
       "      <td>609.591309</td>\n",
       "      <td>-1161.370750</td>\n",
       "      <td>219.507160</td>\n",
       "      <td>-448.793460</td>\n",
       "      <td>-112.129587</td>\n",
       "      <td>True</td>\n",
       "    </tr>\n",
       "    <tr>\n",
       "      <th>4</th>\n",
       "      <td>1796.592122</td>\n",
       "      <td>6436.731411</td>\n",
       "      <td>-1049.132409</td>\n",
       "      <td>785.186070</td>\n",
       "      <td>-1284.207796</td>\n",
       "      <td>5601.338361</td>\n",
       "      <td>-112.767047</td>\n",
       "      <td>803.536859</td>\n",
       "      <td>-1040.617335</td>\n",
       "      <td>-613.947702</td>\n",
       "      <td>...</td>\n",
       "      <td>-207.016200</td>\n",
       "      <td>-322.162072</td>\n",
       "      <td>-18.480787</td>\n",
       "      <td>-160.741854</td>\n",
       "      <td>-16.479425</td>\n",
       "      <td>317.872033</td>\n",
       "      <td>199.864269</td>\n",
       "      <td>-187.961832</td>\n",
       "      <td>195.963255</td>\n",
       "      <td>True</td>\n",
       "    </tr>\n",
       "  </tbody>\n",
       "</table>\n",
       "<p>5 rows × 201 columns</p>\n",
       "</div>"
      ],
      "text/plain": [
       "      feature0     feature1      feature2     feature3     feature4  \\\n",
       "0  3042.307373 -1333.242933   6732.392375  2085.126005  1410.385991   \n",
       "1 -5257.018928 -3612.530905   -653.811253  1556.302623   437.089999   \n",
       "2 -5249.986457  3544.891962  -4823.476747   904.164062   331.936111   \n",
       "3  4921.114200  4099.977591  12449.881177   172.185218  -628.131316   \n",
       "4  1796.592122  6436.731411  -1049.132409   785.186070 -1284.207796   \n",
       "\n",
       "      feature5     feature6     feature7     feature8     feature9   ...    \\\n",
       "0 -4900.850136  4478.037525  5942.602079 -1356.044548  5561.677729   ...     \n",
       "1 -1864.308990 -2219.343765   349.887382  -827.362829  -209.218850   ...     \n",
       "2  5162.063420 -1283.343070 -3282.461338  -833.187720  -273.846339   ...     \n",
       "3 -1983.925267  -223.775953   193.755101   674.072869 -1960.717353   ...     \n",
       "4  5601.338361  -112.767047   803.536859 -1040.617335  -613.947702   ...     \n",
       "\n",
       "   feature191  feature192  feature193  feature194  feature195   feature196  \\\n",
       "0 -436.636685 -273.371130 -361.295100 -192.580851 -119.146372  -168.527167   \n",
       "1   68.629802  166.945900   65.417898   24.095048   39.023749  -248.450039   \n",
       "2  -51.794919 -118.046193  -53.585664 -217.080530 -225.214007   302.705842   \n",
       "3  376.720379  295.038177   66.038577 -749.817785  609.591309 -1161.370750   \n",
       "4 -207.016200 -322.162072  -18.480787 -160.741854  -16.479425   317.872033   \n",
       "\n",
       "   feature197  feature198  feature199  target  \n",
       "0   98.151759  -55.826544 -181.006453   False  \n",
       "1 -157.497271  131.516227 -408.190559    True  \n",
       "2  -21.015393 -402.149134  -18.379699   False  \n",
       "3  219.507160 -448.793460 -112.129587    True  \n",
       "4  199.864269 -187.961832  195.963255    True  \n",
       "\n",
       "[5 rows x 201 columns]"
      ]
     },
     "execution_count": 43,
     "metadata": {},
     "output_type": "execute_result"
    }
   ],
   "source": [
    "data.head()"
   ]
  },
  {
   "cell_type": "markdown",
   "metadata": {},
   "source": [
    "For convenience, we load the data as a \"pandas\" data frame, so we can use \"pandas\" and \"seaborn\" built in functions to explore the data."
   ]
  },
  {
   "cell_type": "code",
   "execution_count": 44,
   "metadata": {
    "scrolled": false
   },
   "outputs": [
    {
     "data": {
      "text/html": [
       "<div>\n",
       "<style scoped>\n",
       "    .dataframe tbody tr th:only-of-type {\n",
       "        vertical-align: middle;\n",
       "    }\n",
       "\n",
       "    .dataframe tbody tr th {\n",
       "        vertical-align: top;\n",
       "    }\n",
       "\n",
       "    .dataframe thead th {\n",
       "        text-align: right;\n",
       "    }\n",
       "</style>\n",
       "<table border=\"1\" class=\"dataframe\">\n",
       "  <thead>\n",
       "    <tr style=\"text-align: right;\">\n",
       "      <th></th>\n",
       "      <th>feature0</th>\n",
       "      <th>feature1</th>\n",
       "      <th>feature2</th>\n",
       "      <th>feature3</th>\n",
       "      <th>feature4</th>\n",
       "      <th>feature5</th>\n",
       "      <th>feature6</th>\n",
       "      <th>feature7</th>\n",
       "      <th>feature8</th>\n",
       "      <th>feature9</th>\n",
       "      <th>...</th>\n",
       "      <th>feature190</th>\n",
       "      <th>feature191</th>\n",
       "      <th>feature192</th>\n",
       "      <th>feature193</th>\n",
       "      <th>feature194</th>\n",
       "      <th>feature195</th>\n",
       "      <th>feature196</th>\n",
       "      <th>feature197</th>\n",
       "      <th>feature198</th>\n",
       "      <th>feature199</th>\n",
       "    </tr>\n",
       "  </thead>\n",
       "  <tbody>\n",
       "    <tr>\n",
       "      <th>count</th>\n",
       "      <td>50000.000000</td>\n",
       "      <td>50000.000000</td>\n",
       "      <td>50000.000000</td>\n",
       "      <td>50000.000000</td>\n",
       "      <td>50000.000000</td>\n",
       "      <td>50000.000000</td>\n",
       "      <td>50000.000000</td>\n",
       "      <td>50000.000000</td>\n",
       "      <td>50000.000000</td>\n",
       "      <td>50000.000000</td>\n",
       "      <td>...</td>\n",
       "      <td>50000.000000</td>\n",
       "      <td>50000.000000</td>\n",
       "      <td>50000.000000</td>\n",
       "      <td>50000.000000</td>\n",
       "      <td>50000.000000</td>\n",
       "      <td>50000.000000</td>\n",
       "      <td>50000.000000</td>\n",
       "      <td>50000.000000</td>\n",
       "      <td>50000.000000</td>\n",
       "      <td>50000.000000</td>\n",
       "    </tr>\n",
       "    <tr>\n",
       "      <th>mean</th>\n",
       "      <td>-19.299439</td>\n",
       "      <td>0.673700</td>\n",
       "      <td>-7.878979</td>\n",
       "      <td>-7.789716</td>\n",
       "      <td>-13.312991</td>\n",
       "      <td>-3.251966</td>\n",
       "      <td>2.012209</td>\n",
       "      <td>-2.896106</td>\n",
       "      <td>-1.404412</td>\n",
       "      <td>2.176091</td>\n",
       "      <td>...</td>\n",
       "      <td>-0.155895</td>\n",
       "      <td>-0.716082</td>\n",
       "      <td>0.103564</td>\n",
       "      <td>1.450541</td>\n",
       "      <td>-0.383172</td>\n",
       "      <td>0.531905</td>\n",
       "      <td>-0.710642</td>\n",
       "      <td>0.124436</td>\n",
       "      <td>0.515815</td>\n",
       "      <td>-0.535219</td>\n",
       "    </tr>\n",
       "    <tr>\n",
       "      <th>std</th>\n",
       "      <td>9324.492115</td>\n",
       "      <td>3776.276595</td>\n",
       "      <td>3745.112668</td>\n",
       "      <td>3258.127449</td>\n",
       "      <td>2383.071530</td>\n",
       "      <td>2233.667154</td>\n",
       "      <td>1978.240753</td>\n",
       "      <td>1719.801105</td>\n",
       "      <td>1536.925580</td>\n",
       "      <td>1413.981738</td>\n",
       "      <td>...</td>\n",
       "      <td>255.081557</td>\n",
       "      <td>254.617156</td>\n",
       "      <td>251.953469</td>\n",
       "      <td>251.943526</td>\n",
       "      <td>250.641028</td>\n",
       "      <td>248.706585</td>\n",
       "      <td>247.448404</td>\n",
       "      <td>247.161069</td>\n",
       "      <td>246.929656</td>\n",
       "      <td>245.952941</td>\n",
       "    </tr>\n",
       "    <tr>\n",
       "      <th>min</th>\n",
       "      <td>-26541.282792</td>\n",
       "      <td>-19673.921343</td>\n",
       "      <td>-17564.665303</td>\n",
       "      <td>-19792.455513</td>\n",
       "      <td>-19752.746107</td>\n",
       "      <td>-12004.336145</td>\n",
       "      <td>-13943.961106</td>\n",
       "      <td>-9537.622187</td>\n",
       "      <td>-11964.139888</td>\n",
       "      <td>-9088.183213</td>\n",
       "      <td>...</td>\n",
       "      <td>-2106.052582</td>\n",
       "      <td>-1772.247467</td>\n",
       "      <td>-1684.910792</td>\n",
       "      <td>-1566.872313</td>\n",
       "      <td>-1699.156485</td>\n",
       "      <td>-1863.848333</td>\n",
       "      <td>-1826.022513</td>\n",
       "      <td>-1858.916824</td>\n",
       "      <td>-1615.085379</td>\n",
       "      <td>-2210.795324</td>\n",
       "    </tr>\n",
       "    <tr>\n",
       "      <th>25%</th>\n",
       "      <td>-6815.622901</td>\n",
       "      <td>-2324.501271</td>\n",
       "      <td>-2293.409463</td>\n",
       "      <td>-1739.634776</td>\n",
       "      <td>-1252.045302</td>\n",
       "      <td>-1291.257472</td>\n",
       "      <td>-1151.414836</td>\n",
       "      <td>-958.630847</td>\n",
       "      <td>-812.399145</td>\n",
       "      <td>-776.933067</td>\n",
       "      <td>...</td>\n",
       "      <td>-146.128612</td>\n",
       "      <td>-150.652996</td>\n",
       "      <td>-143.715262</td>\n",
       "      <td>-143.220866</td>\n",
       "      <td>-144.655942</td>\n",
       "      <td>-144.602770</td>\n",
       "      <td>-141.438449</td>\n",
       "      <td>-140.861220</td>\n",
       "      <td>-143.322670</td>\n",
       "      <td>-141.893001</td>\n",
       "    </tr>\n",
       "    <tr>\n",
       "      <th>50%</th>\n",
       "      <td>-585.547854</td>\n",
       "      <td>-178.375268</td>\n",
       "      <td>-267.084632</td>\n",
       "      <td>310.600430</td>\n",
       "      <td>-19.188294</td>\n",
       "      <td>-42.265968</td>\n",
       "      <td>-108.415677</td>\n",
       "      <td>23.756369</td>\n",
       "      <td>-19.399980</td>\n",
       "      <td>-3.119271</td>\n",
       "      <td>...</td>\n",
       "      <td>1.875973</td>\n",
       "      <td>0.280220</td>\n",
       "      <td>3.054514</td>\n",
       "      <td>0.375490</td>\n",
       "      <td>0.410837</td>\n",
       "      <td>-2.138193</td>\n",
       "      <td>-2.465137</td>\n",
       "      <td>0.865883</td>\n",
       "      <td>0.720304</td>\n",
       "      <td>-2.362880</td>\n",
       "    </tr>\n",
       "    <tr>\n",
       "      <th>75%</th>\n",
       "      <td>6314.532459</td>\n",
       "      <td>2229.457820</td>\n",
       "      <td>1961.576825</td>\n",
       "      <td>2005.536684</td>\n",
       "      <td>1245.365479</td>\n",
       "      <td>1252.222363</td>\n",
       "      <td>1029.003780</td>\n",
       "      <td>964.799865</td>\n",
       "      <td>797.244095</td>\n",
       "      <td>785.264809</td>\n",
       "      <td>...</td>\n",
       "      <td>145.611829</td>\n",
       "      <td>145.241309</td>\n",
       "      <td>145.791517</td>\n",
       "      <td>145.179477</td>\n",
       "      <td>144.125722</td>\n",
       "      <td>145.232183</td>\n",
       "      <td>139.040880</td>\n",
       "      <td>142.160673</td>\n",
       "      <td>143.382306</td>\n",
       "      <td>139.517723</td>\n",
       "    </tr>\n",
       "    <tr>\n",
       "      <th>max</th>\n",
       "      <td>29121.390340</td>\n",
       "      <td>19854.667996</td>\n",
       "      <td>22371.060474</td>\n",
       "      <td>23082.318684</td>\n",
       "      <td>21971.811440</td>\n",
       "      <td>12935.619142</td>\n",
       "      <td>14862.870035</td>\n",
       "      <td>11426.892621</td>\n",
       "      <td>12456.145410</td>\n",
       "      <td>11928.558809</td>\n",
       "      <td>...</td>\n",
       "      <td>1420.268069</td>\n",
       "      <td>1971.375845</td>\n",
       "      <td>2009.964416</td>\n",
       "      <td>4289.135642</td>\n",
       "      <td>1770.009376</td>\n",
       "      <td>2413.220923</td>\n",
       "      <td>2309.286124</td>\n",
       "      <td>1942.497085</td>\n",
       "      <td>2087.412012</td>\n",
       "      <td>2512.784207</td>\n",
       "    </tr>\n",
       "  </tbody>\n",
       "</table>\n",
       "<p>8 rows × 200 columns</p>\n",
       "</div>"
      ],
      "text/plain": [
       "           feature0      feature1      feature2      feature3      feature4  \\\n",
       "count  50000.000000  50000.000000  50000.000000  50000.000000  50000.000000   \n",
       "mean     -19.299439      0.673700     -7.878979     -7.789716    -13.312991   \n",
       "std     9324.492115   3776.276595   3745.112668   3258.127449   2383.071530   \n",
       "min   -26541.282792 -19673.921343 -17564.665303 -19792.455513 -19752.746107   \n",
       "25%    -6815.622901  -2324.501271  -2293.409463  -1739.634776  -1252.045302   \n",
       "50%     -585.547854   -178.375268   -267.084632    310.600430    -19.188294   \n",
       "75%     6314.532459   2229.457820   1961.576825   2005.536684   1245.365479   \n",
       "max    29121.390340  19854.667996  22371.060474  23082.318684  21971.811440   \n",
       "\n",
       "           feature5      feature6      feature7      feature8      feature9  \\\n",
       "count  50000.000000  50000.000000  50000.000000  50000.000000  50000.000000   \n",
       "mean      -3.251966      2.012209     -2.896106     -1.404412      2.176091   \n",
       "std     2233.667154   1978.240753   1719.801105   1536.925580   1413.981738   \n",
       "min   -12004.336145 -13943.961106  -9537.622187 -11964.139888  -9088.183213   \n",
       "25%    -1291.257472  -1151.414836   -958.630847   -812.399145   -776.933067   \n",
       "50%      -42.265968   -108.415677     23.756369    -19.399980     -3.119271   \n",
       "75%     1252.222363   1029.003780    964.799865    797.244095    785.264809   \n",
       "max    12935.619142  14862.870035  11426.892621  12456.145410  11928.558809   \n",
       "\n",
       "           ...         feature190    feature191    feature192    feature193  \\\n",
       "count      ...       50000.000000  50000.000000  50000.000000  50000.000000   \n",
       "mean       ...          -0.155895     -0.716082      0.103564      1.450541   \n",
       "std        ...         255.081557    254.617156    251.953469    251.943526   \n",
       "min        ...       -2106.052582  -1772.247467  -1684.910792  -1566.872313   \n",
       "25%        ...        -146.128612   -150.652996   -143.715262   -143.220866   \n",
       "50%        ...           1.875973      0.280220      3.054514      0.375490   \n",
       "75%        ...         145.611829    145.241309    145.791517    145.179477   \n",
       "max        ...        1420.268069   1971.375845   2009.964416   4289.135642   \n",
       "\n",
       "         feature194    feature195    feature196    feature197    feature198  \\\n",
       "count  50000.000000  50000.000000  50000.000000  50000.000000  50000.000000   \n",
       "mean      -0.383172      0.531905     -0.710642      0.124436      0.515815   \n",
       "std      250.641028    248.706585    247.448404    247.161069    246.929656   \n",
       "min    -1699.156485  -1863.848333  -1826.022513  -1858.916824  -1615.085379   \n",
       "25%     -144.655942   -144.602770   -141.438449   -140.861220   -143.322670   \n",
       "50%        0.410837     -2.138193     -2.465137      0.865883      0.720304   \n",
       "75%      144.125722    145.232183    139.040880    142.160673    143.382306   \n",
       "max     1770.009376   2413.220923   2309.286124   1942.497085   2087.412012   \n",
       "\n",
       "         feature199  \n",
       "count  50000.000000  \n",
       "mean      -0.535219  \n",
       "std      245.952941  \n",
       "min    -2210.795324  \n",
       "25%     -141.893001  \n",
       "50%       -2.362880  \n",
       "75%      139.517723  \n",
       "max     2512.784207  \n",
       "\n",
       "[8 rows x 200 columns]"
      ]
     },
     "execution_count": 44,
     "metadata": {},
     "output_type": "execute_result"
    }
   ],
   "source": [
    "data.describe() "
   ]
  },
  {
   "cell_type": "markdown",
   "metadata": {},
   "source": [
    "### Pie Chart\n",
    "The pie chart below shows that there is the same number of true and fake samples in the train data."
   ]
  },
  {
   "cell_type": "code",
   "execution_count": 45,
   "metadata": {},
   "outputs": [
    {
     "data": {
      "text/plain": [
       "Text(0.5,1,'Distribution of the two class')"
      ]
     },
     "execution_count": 45,
     "metadata": {},
     "output_type": "execute_result"
    },
    {
     "data": {
      "image/png": "[encoded data removed]",
      "text/plain": [
       "<Figure size 432x288 with 1 Axes>"
      ]
     },
     "metadata": {},
     "output_type": "display_data"
    }
   ],
   "source": [
    "%matplotlib inline\n",
    "import matplotlib.pyplot as plt\n",
    "import pandas as pd\n",
    "data_solution = pd.read_csv(\"sample_data/perso_train.solution\",header=None) \n",
    "data_solution.rename(columns={ data_solution.columns[0]: \"solution\" }, inplace=True)\n",
    "counts = data_solution['solution'].value_counts()\n",
    "values = data_solution['solution'].unique()\n",
    "colors = ['turquoise', 'seagreen']\n",
    "plt.pie(counts, labels=values, colors=colors)\n",
    "plt.axis('equal')\n",
    "plt.title(\"Distribution of the two class\")"
   ]
  },
  {
   "cell_type": "markdown",
   "metadata": {},
   "source": [
    "### Histograms\n",
    "Next, we can use histograms to represent the distribution of the data. \n",
    "By calling the function matplotlib.pyplot.hist(), we get histograms displaying the number of features (columns) belonging to each range of values for the mean, the std and the max.\n",
    "\n",
    "These graphs show that there is not too much gap between the values of each feature. For example, all features have values between 0 and 6 and a mean between 0 and 3.\n",
    "\n",
    "These results are not surprising since these features were extracted from images whose size we wanted to reduce and thus the features don't have a specific meaning.\n",
    "\n"
   ]
  },
  {
   "cell_type": "code",
   "execution_count": 46,
   "metadata": {
    "scrolled": true
   },
   "outputs": [
    {
     "data": {
      "image/png": "[encoded data removed]",
      "text/plain": [
       "<Figure size 432x288 with 1 Axes>"
      ]
     },
     "metadata": {
      "needs_background": "light"
     },
     "output_type": "display_data"
    },
    {
     "data": {
      "image/png": "[encoded data removed]",
      "text/plain": [
       "<Figure size 432x288 with 1 Axes>"
      ]
     },
     "metadata": {
      "needs_background": "light"
     },
     "output_type": "display_data"
    },
    {
     "data": {
      "image/png": "[encoded data removed]",
      "text/plain": [
       "<Figure size 432x288 with 1 Axes>"
      ]
     },
     "metadata": {
      "needs_background": "light"
     },
     "output_type": "display_data"
    }
   ],
   "source": [
    "# statistics of 1024 features\n",
    "g1=data.mean()\n",
    "plt.title(\"Distribution of mean\")\n",
    "g1.hist()\n",
    "plt.show()\n",
    "\n",
    "g2=data.std()\n",
    "plt.title(\"Distribution of std\")\n",
    "g2.hist()\n",
    "plt.show()\n",
    "\n",
    "g3=list(data.max())\n",
    "g3.pop()\n",
    "plt.title(\"Distribution of max\")\n",
    "plt.hist(g3)\n",
    "plt.show()"
   ]
  },
  {
   "cell_type": "markdown",
   "metadata": {},
   "source": [
    "### Feature importance\n",
    "\n",
    "The feature importance can help decide which features to keep in case you want to preform feature selection \n",
    "(e.g. because the data is too big). \n",
    "N.B.: The SelectFromModel class in scikit-learn can be used for feature selection\n",
    "\n",
    "Here we decided to keep all the features for now as their importance values are not that different. "
   ]
  },
  {
   "cell_type": "markdown",
   "metadata": {},
   "source": [
    "### Correlation matrix\n",
    "\n",
    "A good indicator to see whether feature selection will be efficient is to observe the coefficients of the correlation matrix. Indeed this matrix will show if the features are related to one another or not.\n",
    "\n",
    "Because of the size of the correlation matrix, we only display the matrix here for the first 20 most \"important\" features (cf the feature importance above).\n",
    "\n",
    "The values taken in this matrix range from -0.6 to 0.9 (excluding the diagonale of 1). Therefore, feature selection might be relevant (e.g. PCA, etc.)."
   ]
  },
  {
   "cell_type": "code",
   "execution_count": 48,
   "metadata": {
    "scrolled": true
   },
   "outputs": [
    {
     "data": {
      "image/png": "[encoded data removed]",
      "text/plain": [
       "<Figure size 432x288 with 1 Axes>"
      ]
     },
     "metadata": {
      "needs_background": "light"
     },
     "output_type": "display_data"
    },
    {
     "data": {
      "image/png": "[encoded data removed]",
      "text/plain": [
       "<Figure size 1008x720 with 2 Axes>"
      ]
     },
     "metadata": {
      "needs_background": "light"
     },
     "output_type": "display_data"
    }
   ],
   "source": [
    "# We use extratree classifier like exemples to show the importance order of all the features\n",
    "from numpy.core.umath_tests import inner1d\n",
    "y=data.target\n",
    "X=data.drop(\"target\",axis=1)\n",
    "from sklearn.ensemble import ExtraTreesClassifier\n",
    "import numpy as np\n",
    "forest = ExtraTreesClassifier(n_estimators=250,\n",
    "                              random_state=0)\n",
    "forest.fit(X, y)\n",
    "importances = forest.feature_importances_\n",
    "std = np.std([tree.feature_importances_ for tree in forest.estimators_],\n",
    "             axis=0)\n",
    "indices = np.argsort(importances)[::-1]\n",
    "plt.figure()\n",
    "plt.title(\"Feature importances\")\n",
    "plt.bar(range(100), importances[indices[:100]])\n",
    "plt.show()\n",
    "\n",
    "#correlation between 20 firsts the most importants features\n",
    "select=indices[:20]\n",
    "t=[]\n",
    "for i in select:\n",
    "    t.append(\"feature\"+str(i))\n",
    "import pandas as pd\n",
    "a = pd.DataFrame(data,columns = t)\n",
    "corr = a.corr()\n",
    "_, ax= plt.subplots(figsize = (14, 10))\n",
    "sns.heatmap(corr,cmap='RdBu', linewidths = 0.05, ax = ax)\n",
    "ax.set_title('Correlation between features')\n",
    "plt.show()"
   ]
  },
  {
   "cell_type": "code",
   "execution_count": 49,
   "metadata": {},
   "outputs": [
    {
     "name": "stdout",
     "output_type": "stream",
     "text": [
      "-0.007744589239692308\n",
      "0.009034164097313559\n"
     ]
    }
   ],
   "source": [
    "# Minimum value for all correlation coefficients\n",
    "tab = corr.min()\n",
    "print((tab.min()).min()) # The minimum value for all correlation coefficients in the correlation matrix (20x20) above is -0.6.\n",
    "\n",
    "# Maximum value\n",
    "tab2 = corr - np.eye(20)\n",
    "print((tab2.max()).max())# The maximum value for all correlation coefficients in the correlation matrix (20x20) above is 0.9."
   ]
  },
  {
   "cell_type": "markdown",
   "metadata": {},
   "source": [
    "<div style=\"background:#FFFFAA\">\n",
    "<h1>Step 2: Building a predictive model</h1>\n",
    "</div>"
   ]
  },
  {
   "cell_type": "markdown",
   "metadata": {},
   "source": [
    "<div style=\"background:#FFFFAA\">\n",
    "    <h2>Loading data with DataManager</h2>\n",
    "    <p>\n",
    "We reload the data with the AutoML DataManager class because this is more convenient:\n",
    "   <br>     <span style=\"color:red\"> Keep this, it illustrates how data in AutoML formal are loaded by the ingestion program </span>\n",
    "</div>"
   ]
  },
  {
   "cell_type": "code",
   "execution_count": 50,
   "metadata": {},
   "outputs": [
    {
     "name": "stdout",
     "output_type": "stream",
     "text": [
      "Info file found : /home/min/Téléchargements/PersoData/starting_kit/sample_data/perso_public.info\n",
      "DataManager : perso\n",
      "info:\n",
      "\tusage = Sample dataset perso data\n",
      "\tname = perso\n",
      "\ttask = bi-class.classification\n",
      "\ttarget_type = Numerical\n",
      "\tfeat_type = Numerical\n",
      "\tmetric = bac_metric\n",
      "\ttime_budget = 1200\n",
      "\tfeat_num = 200\n",
      "\ttarget_num = 2\n",
      "\tlabel_num = 2\n",
      "\ttrain_num = 65856\n",
      "\tvalid_num = 9408\n",
      "\ttest_num = 18817\n",
      "\thas_categorical = 0\n",
      "\thas_missing = 0\n",
      "\tis_sparse = 0\n",
      "\tformat = dense\n",
      "data:\n",
      "\tX_train = array(50000, 200)\n",
      "\tY_train = array(50000,)\n",
      "\tX_valid = array(9408, 200)\n",
      "\tY_valid = array(9408,)\n",
      "\tX_test = array(18817, 200)\n",
      "\tY_test = array(18817,)\n",
      "feat_type:\tarray(200,)\n",
      "feat_idx:\tarray(0,)\n",
      "\n",
      "perso\n"
     ]
    }
   ],
   "source": [
    "from data_manager import DataManager\n",
    "D = DataManager(data_name, data_dir, replace_missing=True)\n",
    "print(D)\n",
    "print(data_name)"
   ]
  },
  {
   "cell_type": "markdown",
   "metadata": {},
   "source": [
    "<div style=\"background:#FFFFAA\">\n",
    "    <h2>Training a predictive model</h2>\n",
    "    <p>\n",
    "We provide an example of predictive model (for classification or regression) in the `sample_code_submission/` directory. It is a quite stupid model: it makes constant predictions. Replace it with your own model.\n",
    "    </div>"
   ]
  },
  {
   "cell_type": "code",
   "execution_count": 51,
   "metadata": {},
   "outputs": [],
   "source": [
    "from numpy.core.umath_tests import inner1d\n",
    "from data_io import write\n",
    "from model import model"
   ]
  },
  {
   "cell_type": "markdown",
   "metadata": {},
   "source": [
    "<div style=\"background:#FFFFAA\">\n",
    "an instance of the model (run the constructor) and attempt to reload a previously saved version from `sample_code_submission/`:\n",
    "    \n",
    "</div>"
   ]
  },
  {
   "cell_type": "code",
   "execution_count": 52,
   "metadata": {},
   "outputs": [
    {
     "name": "stdout",
     "output_type": "stream",
     "text": [
      "perso\n",
      "sample_code_submission/\n",
      "sample_code_submission/perso\n"
     ]
    }
   ],
   "source": [
    "#Model LogisticRegression of scikit-learn\n",
    "M = model()\n",
    "trained_model_name = model_dir + data_name\n",
    "print(data_name)\n",
    "print(model_dir)\n",
    "print(trained_model_name)\n",
    "# Uncomment the next line to re-load an already trained model\n",
    "#M = M.load(trained_model_name)                  "
   ]
  },
  {
   "cell_type": "markdown",
   "metadata": {},
   "source": [
    "<div style=\"background:#FFFFAA\">\n",
    "    Train the model (unless you reloaded a trained model) and make predictions. \n",
    "</div>"
   ]
  },
  {
   "cell_type": "code",
   "execution_count": 53,
   "metadata": {},
   "outputs": [
    {
     "name": "stdout",
     "output_type": "stream",
     "text": [
      "FIT: dim(X)= [50000, 200]\n",
      "FIT: dim(y)= [50000, 1]\n",
      "PREDICT: dim(X)= [50000, 200]\n",
      "PREDICT: dim(y)= [50000, 1]\n",
      "PREDICT: dim(X)= [9408, 200]\n",
      "PREDICT: dim(y)= [9408, 1]\n",
      "PREDICT: dim(X)= [18817, 200]\n",
      "PREDICT: dim(y)= [18817, 1]\n"
     ]
    }
   ],
   "source": [
    "if not(M.is_trained):\n",
    "    X_train = D.data['X_train']\n",
    "    Y_train = D.data['Y_train']\n",
    "    M.fit(X_train, Y_train)                     \n",
    "\n",
    "Y_hat_train = M.predict(D.data['X_train'])\n",
    "Y_hat_valid = M.predict(D.data['X_valid'])\n",
    "Y_hat_test = M.predict(D.data['X_test'])\n",
    "Y_test = D.data['Y_test']\n",
    "Y_valid = D.data['Y_valid']"
   ]
  },
  {
   "cell_type": "markdown",
   "metadata": {},
   "source": [
    "<div style=\"background:#FFFFAA\">\n",
    "    <b> Save the trained model </b> (will be ready to reload next time around) and save the prediction results. IMPORTANT: if you save the trained model, it will be bundled with your sample code submission. Therefore your model will NOT be retrained on the challenge platform. Remove the pickle from the submission if you want the model to be retrained on the platform.\n",
    "</div>"
   ]
  },
  {
   "cell_type": "code",
   "execution_count": 54,
   "metadata": {},
   "outputs": [
    {
     "name": "stdout",
     "output_type": "stream",
     "text": [
      "sample_result_submission/perso_test.predict\r\n",
      "sample_result_submission/perso_train.predict\r\n",
      "sample_result_submission/perso_valid.predict\r\n"
     ]
    }
   ],
   "source": [
    "M.save(trained_model_name)                 \n",
    "result_name = result_dir + data_name\n",
    "from data_io import write\n",
    "write(result_name + '_train.predict', Y_hat_train)\n",
    "write(result_name + '_valid.predict', Y_hat_valid)\n",
    "write(result_name + '_test.predict', Y_hat_test)\n",
    "!ls $result_name*"
   ]
  },
  {
   "cell_type": "markdown",
   "metadata": {},
   "source": [
    "<div style=\"background:#FFFFAA\">\n",
    "    <h2>Scoring the results</h2>\n",
    "    <h3>Load the challenge metric</h3>\n",
    "    <p>\n",
    "<b>The metric chosen for your challenge</b> is identified in the \"metric.txt\" file found in the `scoring_function/` directory. The function \"get_metric\" searches first for a metric having that name in my_metric.py, then in libscores.py, then in sklearn.metric.\n",
    "    </div>"
   ]
  },
  {
   "cell_type": "markdown",
   "metadata": {},
   "source": [
    "#### Metric : AUC_metric \n",
    "ROC curves are typically used in binary classification to study the output of a classifier"
   ]
  },
  {
   "cell_type": "code",
   "execution_count": 55,
   "metadata": {},
   "outputs": [
    {
     "name": "stdout",
     "output_type": "stream",
     "text": [
      "Using scoring metric: roc_auc_score\n"
     ]
    }
   ],
   "source": [
    "from libscores import get_metric\n",
    "metric_name, scoring_function = get_metric()\n",
    "print('Using scoring metric:', metric_name)"
   ]
  },
  {
   "cell_type": "markdown",
   "metadata": {},
   "source": [
    "<div style=\"background:#FFFFAA\">\n",
    "    <h3> Training performance </h3>\n",
    "    <p>\n",
    "The participants normally posess target values (labels) only for training examples (except for the sample data). We compute with the `example` metric the training score, which should be zero for perfect predictions.\n",
    "        </div>"
   ]
  },
  {
   "cell_type": "code",
   "execution_count": 56,
   "metadata": {
    "scrolled": true
   },
   "outputs": [
    {
     "name": "stdout",
     "output_type": "stream",
     "text": [
      "Training score for the roc_auc_score metric = 0.7853\n",
      "Ideal score for the roc_auc_score metric = 1.0000\n",
      "Test score for the roc_auc_score metric = 0.7815\n",
      "Valid score for the roc_auc_score metric = 0.7826\n"
     ]
    },
    {
     "data": {
      "image/png": "[encoded data removed]",
      "text/plain": [
       "<Figure size 360x216 with 2 Axes>"
      ]
     },
     "metadata": {
      "needs_background": "light"
     },
     "output_type": "display_data"
    },
    {
     "data": {
      "image/png": "[encoded data removed]",
      "text/plain": [
       "<Figure size 432x288 with 1 Axes>"
      ]
     },
     "metadata": {
      "needs_background": "light"
     },
     "output_type": "display_data"
    },
    {
     "data": {
      "image/png": "[encoded data removed]",
      "text/plain": [
       "<Figure size 360x216 with 2 Axes>"
      ]
     },
     "metadata": {
      "needs_background": "light"
     },
     "output_type": "display_data"
    },
    {
     "data": {
      "image/png": "[encoded data removed]",
      "text/plain": [
       "<Figure size 432x288 with 1 Axes>"
      ]
     },
     "metadata": {
      "needs_background": "light"
     },
     "output_type": "display_data"
    },
    {
     "data": {
      "image/png": "[encoded data removed]",
      "text/plain": [
       "<Figure size 360x216 with 2 Axes>"
      ]
     },
     "metadata": {
      "needs_background": "light"
     },
     "output_type": "display_data"
    },
    {
     "data": {
      "image/png": "[encoded data removed]",
      "text/plain": [
       "<Figure size 432x288 with 1 Axes>"
      ]
     },
     "metadata": {
      "needs_background": "light"
     },
     "output_type": "display_data"
    }
   ],
   "source": [
    "#AUC_metric\n",
    "from sklearn import metrics\n",
    "n_classes=2\n",
    "def fpr_tpr(solution, prediction):\n",
    "    #fpr, tpr, thresholds = metrics.roc_curve(solution, prediction, pos_label=1)\n",
    "    for i in range(n_classes):\n",
    "        fpr, tpr, _ = metrics.roc_curve(solution, prediction)\n",
    "        roc_auc = metrics.auc(fpr, tpr)\n",
    "    return (fpr,tpr)\n",
    "\n",
    "fpr_train,tpr_train = fpr_tpr(Y_train, Y_hat_train)\n",
    "fpr_test,tpr_test = fpr_tpr(Y_test, Y_hat_test)\n",
    "fpr_valid,tpr_valid = fpr_tpr(Y_valid, Y_hat_valid)\n",
    "\n",
    "print('Training score for the', metric_name, 'metric = %5.4f' % scoring_function(Y_train, Y_hat_train))\n",
    "print('Ideal score for the', metric_name, 'metric = %5.4f' % scoring_function(Y_train, Y_train))\n",
    "print('Test score for the', metric_name, 'metric = %5.4f' % scoring_function(Y_test, Y_hat_test))\n",
    "print('Valid score for the', metric_name, 'metric = %5.4f' % scoring_function(Y_valid, Y_hat_valid))\n",
    "\n",
    "#Confusion matrix for AUC_metric\n",
    "from sklearn.metrics import confusion_matrix\n",
    "import seaborn as sn\n",
    "import matplotlib.pyplot as plt\n",
    "def p2c(prediction,threshold=0.5) : \n",
    "    c = []\n",
    "    for ele in prediction : \n",
    "        if(ele>=0.5) : \n",
    "            c.append(1)\n",
    "        else : \n",
    "            c.append(0)\n",
    "    return np.array(c)\n",
    "\n",
    "\n",
    "def plot_cm_matrix(solution,prediction,title) :\n",
    "    prediction = p2c(prediction)\n",
    "    cm = confusion_matrix(solution, prediction)\n",
    "    df_cm = pd.DataFrame(cm, index = [i for i in \"01\"],columns = [i for i in \"01\"])\n",
    "    plt.figure(figsize = (5,3))\n",
    "    sn.heatmap(df_cm, annot=True)\n",
    "    plt.title(title)\n",
    "\n",
    "def plot_ROC(fpr,tpr,title) :\n",
    "    plt.figure()\n",
    "    lw = 2\n",
    "    plt.plot(fpr, tpr, color='darkorange',lw=lw)\n",
    "    plt.plot([0, 1], [0, 1], color='navy', lw=lw, linestyle='--')\n",
    "    plt.xlim([0.0, 1.0])\n",
    "    plt.ylim([0.0, 1.05])\n",
    "    plt.xlabel('False Positive Rate')\n",
    "    plt.ylabel('True Positive Rate')\n",
    "    plt.title(title)\n",
    "    plt.show()\n",
    "\n",
    "plot_cm_matrix(Y_train,Y_hat_train,\"Confusion matrix for train data\") \n",
    "plot_ROC(fpr_train,tpr_train,\"ROC curve for train data\")\n",
    "plot_cm_matrix(Y_test,Y_hat_test,\"Confusion matrix for test data\") \n",
    "plot_ROC(fpr_test,tpr_test,\"ROC curve for test data\")\n",
    "plot_cm_matrix(Y_valid,Y_hat_valid,\"Confusion matrix for valid data\") \n",
    "plot_ROC(fpr_valid,tpr_valid,\"ROC curve for valid data\")"
   ]
  },
  {
   "cell_type": "markdown",
   "metadata": {},
   "source": [
    "You can add here other scores and result visualization."
   ]
  },
  {
   "cell_type": "markdown",
   "metadata": {},
   "source": [
    "<div style=\"background:#FFFFAA\">\n",
    "    <h3>Cross-validation performance</h3>\n",
    "    <p>\n",
    "The participants do not have access to the labels Y_valid and Y_test to self-assess their validation and test performances. But training performance is not a good prediction of validation or test performance. Using cross-validation, the training data is split into multiple training/test folds, which allows participants to self-assess their model during development. The average CV result and 95% confidence interval is displayed.\n",
    "   </div>"
   ]
  },
  {
   "cell_type": "code",
   "execution_count": 57,
   "metadata": {},
   "outputs": [
    {
     "name": "stdout",
     "output_type": "stream",
     "text": [
      "FIT: dim(X)= [40000, 200]\n",
      "FIT: dim(y)= [40000, 1]\n",
      "PREDICT: dim(X)= [10000, 200]\n",
      "PREDICT: dim(y)= [10000, 1]\n",
      "FIT: dim(X)= [40000, 200]\n",
      "FIT: dim(y)= [40000, 1]\n",
      "PREDICT: dim(X)= [10000, 200]\n",
      "PREDICT: dim(y)= [10000, 1]\n",
      "FIT: dim(X)= [40000, 200]\n",
      "FIT: dim(y)= [40000, 1]\n",
      "PREDICT: dim(X)= [10000, 200]\n",
      "PREDICT: dim(y)= [10000, 1]\n",
      "FIT: dim(X)= [40000, 200]\n",
      "FIT: dim(y)= [40000, 1]\n",
      "PREDICT: dim(X)= [10000, 200]\n",
      "PREDICT: dim(y)= [10000, 1]\n",
      "FIT: dim(X)= [40000, 200]\n",
      "FIT: dim(y)= [40000, 1]\n",
      "PREDICT: dim(X)= [10000, 200]\n",
      "PREDICT: dim(y)= [10000, 1]\n",
      "\n",
      "CV score (95 perc. CI): 0.78 (+/- 0.01)\n"
     ]
    }
   ],
   "source": [
    "from sklearn.metrics import make_scorer\n",
    "from sklearn.model_selection import cross_val_score\n",
    "scores = cross_val_score(M, X_train, Y_train, cv=5, scoring=make_scorer(scoring_function))\n",
    "print('\\nCV score (95 perc. CI): %0.2f (+/- %0.2f)' % (scores.mean(), scores.std() * 2))"
   ]
  },
  {
   "cell_type": "markdown",
   "metadata": {},
   "source": [
    "<div style=\"background:#FFFFAA\">\n",
    "<h1> Step 3: Making a submission </h1> \n",
    "\n",
    "<h2> Unit testing </h2> \n",
    "\n",
    "It is <b><span style=\"color:red\">important that you test your submission files before submitting them</span></b>. All you have to do to make a submission is modify the file <code>model.py</code> in the <code>sample_code_submission/</code> directory, then run this test to make sure everything works fine. This is the actual program that will be run on the server to test your submission. \n",
    "<br>\n",
    "Keep the sample code simple.\n",
    "</div>"
   ]
  },
  {
   "cell_type": "code",
   "execution_count": 58,
   "metadata": {
    "scrolled": true
   },
   "outputs": [
    {
     "name": "stdout",
     "output_type": "stream",
     "text": [
      "Using input_dir: /home/min/Téléchargements/PersoData/starting_kit/sample_data\n",
      "Using output_dir: /home/min/Téléchargements/PersoData/starting_kit/sample_result_submission\n",
      "Using program_dir: /home/min/Téléchargements/PersoData/starting_kit/ingestion_program\n",
      "Using submission_dir: /home/min/Téléchargements/PersoData/starting_kit/sample_code_submission\n",
      "\n",
      "========== Ingestion program version 6 ==========\n",
      "\n",
      "************************************************\n",
      "******** Processing dataset Perso ********\n",
      "************************************************\n",
      "========= Reading and converting data ==========\n",
      "Info file found : /home/min/Téléchargements/PersoData/starting_kit/sample_data/perso_public.info\n",
      "========= Reading /home/min/Téléchargements/PersoData/starting_kit/sample_data/perso_feat.type\n",
      "[+] Success in  0.00 sec\n",
      "========= Reading /home/min/Téléchargements/PersoData/starting_kit/sample_data/perso_train.data\n",
      "Replace missing values by 0 (slow, sorry)\n",
      "[+] Success in  3.59 sec\n",
      "========= Reading /home/min/Téléchargements/PersoData/starting_kit/sample_data/perso_train.solution\n",
      "[+] Success in  0.09 sec\n",
      "========= Reading /home/min/Téléchargements/PersoData/starting_kit/sample_data/perso_valid.data\n",
      "Replace missing values by 0 (slow, sorry)\n",
      "[+] Success in  0.79 sec\n",
      "========= Reading /home/min/Téléchargements/PersoData/starting_kit/sample_data/perso_valid.solution\n",
      "[+] Success in  0.03 sec\n",
      "========= Reading /home/min/Téléchargements/PersoData/starting_kit/sample_data/perso_test.data\n",
      "Replace missing values by 0 (slow, sorry)\n",
      "[+] Success in  1.31 sec\n",
      "========= Reading /home/min/Téléchargements/PersoData/starting_kit/sample_data/perso_test.solution\n",
      "[+] Success in  0.01 sec\n",
      "DataManager : perso\n",
      "info:\n",
      "\tusage = Sample dataset perso data\n",
      "\tname = perso\n",
      "\ttask = bi-class.classification\n",
      "\ttarget_type = Numerical\n",
      "\tfeat_type = Numerical\n",
      "\tmetric = bac_metric\n",
      "\ttime_budget = 1200\n",
      "\tfeat_num = 200\n",
      "\ttarget_num = 2\n",
      "\tlabel_num = 2\n",
      "\ttrain_num = 65856\n",
      "\tvalid_num = 9408\n",
      "\ttest_num = 18817\n",
      "\thas_categorical = 0\n",
      "\thas_missing = 0\n",
      "\tis_sparse = 0\n",
      "\tformat = dense\n",
      "data:\n",
      "\tX_train = array(50000, 200)\n",
      "\tY_train = array(50000,)\n",
      "\tX_valid = array(9408, 200)\n",
      "\tY_valid = array(9408,)\n",
      "\tX_test = array(18817, 200)\n",
      "\tY_test = array(18817,)\n",
      "feat_type:\tarray(200,)\n",
      "feat_idx:\tarray(200,)\n",
      "\n",
      "[+] Size of uploaded data  56.00 bytes\n",
      "[+] Cumulated time budget (all tasks so far)  1200.00 sec\n",
      "[+] Time budget for this task 1200.00 sec\n",
      "[+] Remaining time after reading data 1193.99 sec\n",
      "======== Creating model ==========\n",
      "**********************************************************\n",
      "****** Attempting to reload model to avoid training ******\n",
      "**********************************************************\n",
      "Model reloaded from: /home/min/Téléchargements/PersoData/starting_kit/sample_code_submission/perso_model.pickle\n",
      "[+] Model reloaded, no need to train!\n",
      "[+] Prediction success, time spent so far  6.07 sec\n",
      "======== Saving results to: /home/min/Téléchargements/PersoData/starting_kit/sample_result_submission\n",
      "[+] Results saved, time spent so far  6.20 sec\n",
      "[+] End cycle, time left 1193.80 sec\n",
      "[+] Done\n",
      "[+] Overall time spent 13.15 sec ::  Overall time budget 1200.00 sec\n"
     ]
    }
   ],
   "source": [
    "!python $problem_dir/ingestion.py $data_dir $result_dir $problem_dir $model_dir"
   ]
  },
  {
   "cell_type": "markdown",
   "metadata": {},
   "source": [
    "<div style=\"background:#FFFFAA\">\n",
    "Also test the scoring program:\n",
    "    </div>"
   ]
  },
  {
   "cell_type": "code",
   "execution_count": 59,
   "metadata": {},
   "outputs": [
    {
     "name": "stdout",
     "output_type": "stream",
     "text": [
      "======= Set 1 (Perso_test): roc_auc_score(set1_score)=0.717008726982 =======\n",
      "======= Set 2 (Perso_train): roc_auc_score(set2_score)=0.721590811988 =======\n",
      "======= Set 3 (Perso_valid): roc_auc_score(set3_score)=0.714180682556 =======\n"
     ]
    }
   ],
   "source": [
    "scoring_output_dir = '../scoring_output_dir'\n",
    "!python $score_dir/score.py $data_dir $result_dir $scoring_output_dir"
   ]
  },
  {
   "cell_type": "markdown",
   "metadata": {
    "collapsed": true
   },
   "source": [
    "<div style=\"background:#FFFFAA\">\n",
    "    <h1> Preparing the submission </h1>\n",
    "\n",
    "Zip the contents of `sample_code_submission/` (without the directory), or download the challenge public_data and run the command in the previous cell, after replacing sample_data by public_data.\n",
    "Then zip the contents of `sample_result_submission/` (without the directory).\n",
    "<b><span style=\"color:red\">Do NOT zip the data with your submissions</span></b>."
   ]
  },
  {
   "cell_type": "code",
   "execution_count": 60,
   "metadata": {},
   "outputs": [
    {
     "name": "stdout",
     "output_type": "stream",
     "text": [
      "Submit one of these files:\n",
      "../sample_code_submission_19-01-10-17-54.zip\n",
      "../sample_result_submission_19-01-10-17-54.zip\n"
     ]
    }
   ],
   "source": [
    "import datetime \n",
    "from data_io import zipdir\n",
    "the_date = datetime.datetime.now().strftime(\"%y-%m-%d-%H-%M\")\n",
    "sample_code_submission = '../sample_code_submission_' + the_date + '.zip'\n",
    "sample_result_submission = '../sample_result_submission_' + the_date + '.zip'\n",
    "zipdir(sample_code_submission, model_dir)\n",
    "zipdir(sample_result_submission, result_dir)\n",
    "print(\"Submit one of these files:\\n\" + sample_code_submission + \"\\n\" + sample_result_submission)"
   ]
  }
 ],
 "metadata": {
  "kernelspec": {
   "display_name": "Python 3",
   "language": "python",
   "name": "python3"
  },
  "language_info": {
   "codemirror_mode": {
    "name": "ipython",
    "version": 3
   },
   "file_extension": ".py",
   "mimetype": "text/x-python",
   "name": "python",
   "nbconvert_exporter": "python",
   "pygments_lexer": "ipython3",
   "version": "3.7.0"
  }
 },
 "nbformat": 4,
 "nbformat_minor": 1
}
