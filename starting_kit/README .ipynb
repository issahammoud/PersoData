{
 "cells": [
  {
   "cell_type": "markdown",
   "metadata": {},
   "source": [
    "<div style=\"background:#FFFFAA\">\n",
    "<img src=\"logo.jpg\", width=150, ALIGN=\"left\", border=20>\n",
    "<center>\n",
    "<h1>Sample Starting Kit </h1>\n",
    " <br>This code was tested with <br>\n",
    "Python 3.6.6 |Anaconda custom (64-bit)| (default, Jun 28 2018, 11:07:29) (https://anaconda.org/)<br>\n",
    "<i> Adapted for Chalab by Isabelle Guyon from original code of Balázs Kégl</i> <br>\n",
    "<a href=\"http://www.datascience-paris-saclay.fr\">Paris Saclay Center for Data Science (CDS)</a>\n",
    "</center>\n",
    "<br>\n",
    "<br>\n",
    "<br>\n",
    "<p>\n",
    "ALL INFORMATION, SOFTWARE, DOCUMENTATION, AND DATA ARE PROVIDED \"AS-IS\". The CDS, CHALEARN, AND/OR OTHER ORGANIZERS OR CODE AUTHORS DISCLAIM ANY EXPRESSED OR IMPLIED WARRANTIES, INCLUDING, BUT NOT LIMITED TO, THE IMPLIED WARRANTIES OF MERCHANTABILITY AND FITNESS FOR ANY PARTICULAR PURPOSE, AND THE WARRANTY OF NON-INFRIGEMENT OF ANY THIRD PARTY'S INTELLECTUAL PROPERTY RIGHTS. IN NO EVENT SHALL AUTHORS AND ORGANIZERS BE LIABLE FOR ANY SPECIAL, \n",
    "INDIRECT OR CONSEQUENTIAL DAMAGES OR ANY DAMAGES WHATSOEVER ARISING OUT OF OR IN CONNECTION WITH THE USE OR PERFORMANCE OF SOFTWARE, DOCUMENTS, MATERIALS, PUBLICATIONS, OR INFORMATION MADE AVAILABLE FOR THE CHALLENGE. \n",
    "</div>"
   ]
  },
  {
   "cell_type": "markdown",
   "metadata": {},
   "source": [
    "<div style=\"background:#FFFFAA\">\n",
    "    <h2>Introduction </h2>\n",
    "    <p>\n",
    "In an era where computer graphics techniques for image generation are reaching stunning levels of quality, it becomes more and more challenging to detect fake from true, authentic images. However, this raises a lot of legal issues, mainly dealing with forgery. This project focuses mainly on the efficiency of Generative Adversarial Network (GAN) algorithms for producing art forgery and we will try to beat the state-of-the-art models that detect it. In fact, the Fine Arts Expert Institute in Geneva estimates that as much as 50 percent of artworks currently in circulation may be forgeries. Although the standard approach for image classification which is deep neural networks and especially Convolutional Neural Networks (CNNs) works very well nowadays, GAN performs strongly on generating fake images. By focusing on the art forgery aspect, we will try to bring a more specific perspective on the issue of image forgery.\n",
    " \n",
    " <br>\n",
    "    <span style=\"color:red\"> Keep the next block. </span>\n",
    "</div>"
   ]
  },
  {
   "cell_type": "code",
   "execution_count": 24,
   "metadata": {},
   "outputs": [
    {
     "name": "stdout",
     "output_type": "stream",
     "text": [
      "The autoreload extension is already loaded. To reload it, use:\n",
      "  %reload_ext autoreload\n"
     ]
    }
   ],
   "source": [
    "model_dir = 'sample_code_submission/'                        # Change the model to a better one once you have one!\n",
    "result_dir = 'sample_result_submission/' \n",
    "problem_dir = 'ingestion_program/'  \n",
    "score_dir = 'scoring_program/'\n",
    "from sys import path; path.append(model_dir); path.append(problem_dir); path.append(score_dir); \n",
    "%matplotlib inline\n",
    "# Uncomment the next lines to auto-reload libraries (this causes some problem with pickles in Python 3)\n",
    "%load_ext autoreload\n",
    "%autoreload 2\n",
    "import seaborn as sns; sns.set()\n",
    "import warnings\n",
    "warnings.simplefilter(action='ignore', category=FutureWarning)"
   ]
  },
  {
   "cell_type": "markdown",
   "metadata": {},
   "source": [
    "<div style=\"background:#FFFFAA\">\n",
    "    <h1> Step 1: Exploratory data analysis </h1>\n",
    "<p>\n",
    "We provide sample_data with the starting kit, but to prepare your submission, you must fetch the public_data from the challenge website and point to it.\n",
    "    <br>\n",
    "    <span style=\"color:red\"> Just change the data name in the block below. In the rest of the section, replace the sample plots by anything you want. </span>\n",
    "</div>"
   ]
  },
  {
   "cell_type": "code",
   "execution_count": 25,
   "metadata": {},
   "outputs": [
    {
     "name": "stdout",
     "output_type": "stream",
     "text": [
      "perso_feat.name    perso_test.data\tperso_train.solution\r\n",
      "perso_label.name   perso_test.solution\tperso_valid.data\r\n",
      "perso_public.info  perso_train.data\tperso_valid.solution\r\n"
     ]
    }
   ],
   "source": [
    "#data_dir = 'sample_data'              # Change this to the directory where you put the input data\n",
    "data_dir = 'sample_data'          # The sample_data directory should contain only a very small subset of the data\n",
    "data_name = 'perso'\n",
    "!ls $data_dir"
   ]
  },
  {
   "cell_type": "code",
   "execution_count": 26,
   "metadata": {},
   "outputs": [
    {
     "name": "stdout",
     "output_type": "stream",
     "text": [
      "Reading sample_data/perso_train from AutoML format\n",
      "Number of examples = 35698\n",
      "Number of features = 1024\n",
      "  Class\n",
      "0  faux\n",
      "1  vrai\n",
      "Number of classes = 2\n"
     ]
    }
   ],
   "source": [
    "from data_io import read_as_df\n",
    "data = read_as_df(data_dir  + '/' + data_name)          # The perso_data is loaded as a Pandas Data Frame"
   ]
  },
  {
   "cell_type": "code",
   "execution_count": 27,
   "metadata": {},
   "outputs": [
    {
     "data": {
      "text/html": [
       "<div>\n",
       "<style scoped>\n",
       "    .dataframe tbody tr th:only-of-type {\n",
       "        vertical-align: middle;\n",
       "    }\n",
       "\n",
       "    .dataframe tbody tr th {\n",
       "        vertical-align: top;\n",
       "    }\n",
       "\n",
       "    .dataframe thead th {\n",
       "        text-align: right;\n",
       "    }\n",
       "</style>\n",
       "<table border=\"1\" class=\"dataframe\">\n",
       "  <thead>\n",
       "    <tr style=\"text-align: right;\">\n",
       "      <th></th>\n",
       "      <th>feature0</th>\n",
       "      <th>feature1</th>\n",
       "      <th>feature2</th>\n",
       "      <th>feature3</th>\n",
       "      <th>feature4</th>\n",
       "      <th>feature5</th>\n",
       "      <th>feature6</th>\n",
       "      <th>feature7</th>\n",
       "      <th>feature8</th>\n",
       "      <th>feature9</th>\n",
       "      <th>...</th>\n",
       "      <th>feature1015</th>\n",
       "      <th>feature1016</th>\n",
       "      <th>feature1017</th>\n",
       "      <th>feature1018</th>\n",
       "      <th>feature1019</th>\n",
       "      <th>feature1020</th>\n",
       "      <th>feature1021</th>\n",
       "      <th>feature1022</th>\n",
       "      <th>feature1023</th>\n",
       "      <th>target</th>\n",
       "    </tr>\n",
       "  </thead>\n",
       "  <tbody>\n",
       "    <tr>\n",
       "      <th>0</th>\n",
       "      <td>0.000000</td>\n",
       "      <td>0.991223</td>\n",
       "      <td>0.000000</td>\n",
       "      <td>1.179900</td>\n",
       "      <td>0.229552</td>\n",
       "      <td>0.000000</td>\n",
       "      <td>0.806857</td>\n",
       "      <td>0.193503</td>\n",
       "      <td>0.661031</td>\n",
       "      <td>0.638868</td>\n",
       "      <td>...</td>\n",
       "      <td>0.405265</td>\n",
       "      <td>0.000000</td>\n",
       "      <td>1.067869</td>\n",
       "      <td>0.000000</td>\n",
       "      <td>0.251869</td>\n",
       "      <td>3.911684</td>\n",
       "      <td>0.057424</td>\n",
       "      <td>0.000000</td>\n",
       "      <td>0.000000</td>\n",
       "      <td>vrai</td>\n",
       "    </tr>\n",
       "    <tr>\n",
       "      <th>1</th>\n",
       "      <td>0.013235</td>\n",
       "      <td>0.116674</td>\n",
       "      <td>0.000000</td>\n",
       "      <td>2.944923</td>\n",
       "      <td>0.000000</td>\n",
       "      <td>0.000000</td>\n",
       "      <td>0.034661</td>\n",
       "      <td>0.469001</td>\n",
       "      <td>0.000000</td>\n",
       "      <td>0.000000</td>\n",
       "      <td>...</td>\n",
       "      <td>0.000000</td>\n",
       "      <td>0.000000</td>\n",
       "      <td>0.132913</td>\n",
       "      <td>1.881636</td>\n",
       "      <td>0.258803</td>\n",
       "      <td>4.548641</td>\n",
       "      <td>2.310249</td>\n",
       "      <td>0.000000</td>\n",
       "      <td>0.087061</td>\n",
       "      <td>faux</td>\n",
       "    </tr>\n",
       "    <tr>\n",
       "      <th>2</th>\n",
       "      <td>0.073264</td>\n",
       "      <td>0.000000</td>\n",
       "      <td>1.172958</td>\n",
       "      <td>0.000000</td>\n",
       "      <td>0.000000</td>\n",
       "      <td>0.660516</td>\n",
       "      <td>3.065500</td>\n",
       "      <td>0.122902</td>\n",
       "      <td>0.000000</td>\n",
       "      <td>0.022123</td>\n",
       "      <td>...</td>\n",
       "      <td>0.000000</td>\n",
       "      <td>0.687458</td>\n",
       "      <td>0.792497</td>\n",
       "      <td>1.721674</td>\n",
       "      <td>0.173794</td>\n",
       "      <td>0.000000</td>\n",
       "      <td>0.272112</td>\n",
       "      <td>0.000000</td>\n",
       "      <td>1.180532</td>\n",
       "      <td>vrai</td>\n",
       "    </tr>\n",
       "    <tr>\n",
       "      <th>3</th>\n",
       "      <td>0.291826</td>\n",
       "      <td>0.122871</td>\n",
       "      <td>0.023497</td>\n",
       "      <td>1.277038</td>\n",
       "      <td>2.022675</td>\n",
       "      <td>0.013820</td>\n",
       "      <td>0.000000</td>\n",
       "      <td>0.034559</td>\n",
       "      <td>0.020802</td>\n",
       "      <td>1.374242</td>\n",
       "      <td>...</td>\n",
       "      <td>0.100536</td>\n",
       "      <td>1.975286</td>\n",
       "      <td>1.126796</td>\n",
       "      <td>0.092962</td>\n",
       "      <td>0.037339</td>\n",
       "      <td>1.253586</td>\n",
       "      <td>1.530107</td>\n",
       "      <td>1.130002</td>\n",
       "      <td>0.546607</td>\n",
       "      <td>vrai</td>\n",
       "    </tr>\n",
       "    <tr>\n",
       "      <th>4</th>\n",
       "      <td>1.056612</td>\n",
       "      <td>0.000000</td>\n",
       "      <td>0.365567</td>\n",
       "      <td>2.164548</td>\n",
       "      <td>1.428988</td>\n",
       "      <td>0.177755</td>\n",
       "      <td>0.016242</td>\n",
       "      <td>0.115698</td>\n",
       "      <td>1.511041</td>\n",
       "      <td>0.506778</td>\n",
       "      <td>...</td>\n",
       "      <td>0.024997</td>\n",
       "      <td>2.502665</td>\n",
       "      <td>0.183676</td>\n",
       "      <td>0.564319</td>\n",
       "      <td>0.000000</td>\n",
       "      <td>0.212385</td>\n",
       "      <td>0.000000</td>\n",
       "      <td>2.620338</td>\n",
       "      <td>1.483160</td>\n",
       "      <td>vrai</td>\n",
       "    </tr>\n",
       "  </tbody>\n",
       "</table>\n",
       "<p>5 rows × 1025 columns</p>\n",
       "</div>"
      ],
      "text/plain": [
       "   feature0  feature1  feature2  feature3  feature4  feature5  feature6  \\\n",
       "0  0.000000  0.991223  0.000000  1.179900  0.229552  0.000000  0.806857   \n",
       "1  0.013235  0.116674  0.000000  2.944923  0.000000  0.000000  0.034661   \n",
       "2  0.073264  0.000000  1.172958  0.000000  0.000000  0.660516  3.065500   \n",
       "3  0.291826  0.122871  0.023497  1.277038  2.022675  0.013820  0.000000   \n",
       "4  1.056612  0.000000  0.365567  2.164548  1.428988  0.177755  0.016242   \n",
       "\n",
       "   feature7  feature8  feature9   ...    feature1015  feature1016  \\\n",
       "0  0.193503  0.661031  0.638868   ...       0.405265     0.000000   \n",
       "1  0.469001  0.000000  0.000000   ...       0.000000     0.000000   \n",
       "2  0.122902  0.000000  0.022123   ...       0.000000     0.687458   \n",
       "3  0.034559  0.020802  1.374242   ...       0.100536     1.975286   \n",
       "4  0.115698  1.511041  0.506778   ...       0.024997     2.502665   \n",
       "\n",
       "   feature1017  feature1018  feature1019  feature1020  feature1021  \\\n",
       "0     1.067869     0.000000     0.251869     3.911684     0.057424   \n",
       "1     0.132913     1.881636     0.258803     4.548641     2.310249   \n",
       "2     0.792497     1.721674     0.173794     0.000000     0.272112   \n",
       "3     1.126796     0.092962     0.037339     1.253586     1.530107   \n",
       "4     0.183676     0.564319     0.000000     0.212385     0.000000   \n",
       "\n",
       "   feature1022  feature1023  target  \n",
       "0     0.000000     0.000000    vrai  \n",
       "1     0.000000     0.087061    faux  \n",
       "2     0.000000     1.180532    vrai  \n",
       "3     1.130002     0.546607    vrai  \n",
       "4     2.620338     1.483160    vrai  \n",
       "\n",
       "[5 rows x 1025 columns]"
      ]
     },
     "execution_count": 27,
     "metadata": {},
     "output_type": "execute_result"
    }
   ],
   "source": [
    "data.head()"
   ]
  },
  {
   "cell_type": "markdown",
   "metadata": {},
   "source": [
    "For convenience, we load the data as a \"pandas\" data frame, so we can use \"pandas\" and \"seaborn\" built in functions to explore the data."
   ]
  },
  {
   "cell_type": "code",
   "execution_count": 28,
   "metadata": {
    "scrolled": false
   },
   "outputs": [
    {
     "data": {
      "text/html": [
       "<div>\n",
       "<style scoped>\n",
       "    .dataframe tbody tr th:only-of-type {\n",
       "        vertical-align: middle;\n",
       "    }\n",
       "\n",
       "    .dataframe tbody tr th {\n",
       "        vertical-align: top;\n",
       "    }\n",
       "\n",
       "    .dataframe thead th {\n",
       "        text-align: right;\n",
       "    }\n",
       "</style>\n",
       "<table border=\"1\" class=\"dataframe\">\n",
       "  <thead>\n",
       "    <tr style=\"text-align: right;\">\n",
       "      <th></th>\n",
       "      <th>feature0</th>\n",
       "      <th>feature1</th>\n",
       "      <th>feature2</th>\n",
       "      <th>feature3</th>\n",
       "      <th>feature4</th>\n",
       "      <th>feature5</th>\n",
       "      <th>feature6</th>\n",
       "      <th>feature7</th>\n",
       "      <th>feature8</th>\n",
       "      <th>feature9</th>\n",
       "      <th>...</th>\n",
       "      <th>feature1014</th>\n",
       "      <th>feature1015</th>\n",
       "      <th>feature1016</th>\n",
       "      <th>feature1017</th>\n",
       "      <th>feature1018</th>\n",
       "      <th>feature1019</th>\n",
       "      <th>feature1020</th>\n",
       "      <th>feature1021</th>\n",
       "      <th>feature1022</th>\n",
       "      <th>feature1023</th>\n",
       "    </tr>\n",
       "  </thead>\n",
       "  <tbody>\n",
       "    <tr>\n",
       "      <th>count</th>\n",
       "      <td>35698.000000</td>\n",
       "      <td>35698.000000</td>\n",
       "      <td>35698.000000</td>\n",
       "      <td>35698.000000</td>\n",
       "      <td>35698.000000</td>\n",
       "      <td>35698.000000</td>\n",
       "      <td>35698.000000</td>\n",
       "      <td>35698.000000</td>\n",
       "      <td>35698.000000</td>\n",
       "      <td>35698.000000</td>\n",
       "      <td>...</td>\n",
       "      <td>35698.000000</td>\n",
       "      <td>35698.000000</td>\n",
       "      <td>35698.000000</td>\n",
       "      <td>35698.000000</td>\n",
       "      <td>35698.000000</td>\n",
       "      <td>35698.000000</td>\n",
       "      <td>35698.000000</td>\n",
       "      <td>35698.000000</td>\n",
       "      <td>35698.000000</td>\n",
       "      <td>35698.000000</td>\n",
       "    </tr>\n",
       "    <tr>\n",
       "      <th>mean</th>\n",
       "      <td>0.319613</td>\n",
       "      <td>0.622106</td>\n",
       "      <td>0.566069</td>\n",
       "      <td>1.523294</td>\n",
       "      <td>0.748835</td>\n",
       "      <td>0.211562</td>\n",
       "      <td>0.573175</td>\n",
       "      <td>0.531644</td>\n",
       "      <td>0.367228</td>\n",
       "      <td>0.326813</td>\n",
       "      <td>...</td>\n",
       "      <td>0.458643</td>\n",
       "      <td>0.522804</td>\n",
       "      <td>0.283841</td>\n",
       "      <td>0.558640</td>\n",
       "      <td>0.832311</td>\n",
       "      <td>0.669303</td>\n",
       "      <td>2.148375</td>\n",
       "      <td>0.722895</td>\n",
       "      <td>0.784367</td>\n",
       "      <td>0.460061</td>\n",
       "    </tr>\n",
       "    <tr>\n",
       "      <th>std</th>\n",
       "      <td>0.482722</td>\n",
       "      <td>0.763492</td>\n",
       "      <td>0.720434</td>\n",
       "      <td>1.438029</td>\n",
       "      <td>0.909834</td>\n",
       "      <td>0.428852</td>\n",
       "      <td>0.715716</td>\n",
       "      <td>0.687100</td>\n",
       "      <td>0.597005</td>\n",
       "      <td>0.518084</td>\n",
       "      <td>...</td>\n",
       "      <td>0.667244</td>\n",
       "      <td>0.743753</td>\n",
       "      <td>0.530469</td>\n",
       "      <td>0.665155</td>\n",
       "      <td>0.904194</td>\n",
       "      <td>0.794725</td>\n",
       "      <td>2.185345</td>\n",
       "      <td>0.809400</td>\n",
       "      <td>1.156641</td>\n",
       "      <td>0.552339</td>\n",
       "    </tr>\n",
       "    <tr>\n",
       "      <th>min</th>\n",
       "      <td>0.000000</td>\n",
       "      <td>0.000000</td>\n",
       "      <td>0.000000</td>\n",
       "      <td>0.000000</td>\n",
       "      <td>0.000000</td>\n",
       "      <td>0.000000</td>\n",
       "      <td>0.000000</td>\n",
       "      <td>0.000000</td>\n",
       "      <td>0.000000</td>\n",
       "      <td>0.000000</td>\n",
       "      <td>...</td>\n",
       "      <td>0.000000</td>\n",
       "      <td>0.000000</td>\n",
       "      <td>0.000000</td>\n",
       "      <td>0.000000</td>\n",
       "      <td>0.000000</td>\n",
       "      <td>0.000000</td>\n",
       "      <td>0.000000</td>\n",
       "      <td>0.000000</td>\n",
       "      <td>0.000000</td>\n",
       "      <td>0.000000</td>\n",
       "    </tr>\n",
       "    <tr>\n",
       "      <th>25%</th>\n",
       "      <td>0.004001</td>\n",
       "      <td>0.060448</td>\n",
       "      <td>0.000000</td>\n",
       "      <td>0.298510</td>\n",
       "      <td>0.000000</td>\n",
       "      <td>0.000000</td>\n",
       "      <td>0.000000</td>\n",
       "      <td>0.055589</td>\n",
       "      <td>0.000000</td>\n",
       "      <td>0.000000</td>\n",
       "      <td>...</td>\n",
       "      <td>0.000000</td>\n",
       "      <td>0.000000</td>\n",
       "      <td>0.000000</td>\n",
       "      <td>0.062706</td>\n",
       "      <td>0.130860</td>\n",
       "      <td>0.040423</td>\n",
       "      <td>0.337907</td>\n",
       "      <td>0.023924</td>\n",
       "      <td>0.000000</td>\n",
       "      <td>0.042095</td>\n",
       "    </tr>\n",
       "    <tr>\n",
       "      <th>50%</th>\n",
       "      <td>0.099382</td>\n",
       "      <td>0.339811</td>\n",
       "      <td>0.237357</td>\n",
       "      <td>1.049824</td>\n",
       "      <td>0.359035</td>\n",
       "      <td>0.000000</td>\n",
       "      <td>0.272709</td>\n",
       "      <td>0.248670</td>\n",
       "      <td>0.086151</td>\n",
       "      <td>0.068445</td>\n",
       "      <td>...</td>\n",
       "      <td>0.095764</td>\n",
       "      <td>0.146711</td>\n",
       "      <td>0.017610</td>\n",
       "      <td>0.305404</td>\n",
       "      <td>0.507438</td>\n",
       "      <td>0.318267</td>\n",
       "      <td>1.043169</td>\n",
       "      <td>0.399679</td>\n",
       "      <td>0.127364</td>\n",
       "      <td>0.249356</td>\n",
       "    </tr>\n",
       "    <tr>\n",
       "      <th>75%</th>\n",
       "      <td>0.438083</td>\n",
       "      <td>0.915629</td>\n",
       "      <td>0.947605</td>\n",
       "      <td>2.467961</td>\n",
       "      <td>1.290433</td>\n",
       "      <td>0.217060</td>\n",
       "      <td>0.947295</td>\n",
       "      <td>0.762555</td>\n",
       "      <td>0.457150</td>\n",
       "      <td>0.450949</td>\n",
       "      <td>...</td>\n",
       "      <td>0.733225</td>\n",
       "      <td>0.818365</td>\n",
       "      <td>0.310937</td>\n",
       "      <td>0.817497</td>\n",
       "      <td>1.249837</td>\n",
       "      <td>1.102036</td>\n",
       "      <td>4.987215</td>\n",
       "      <td>1.247386</td>\n",
       "      <td>1.220534</td>\n",
       "      <td>0.693302</td>\n",
       "    </tr>\n",
       "    <tr>\n",
       "      <th>max</th>\n",
       "      <td>4.087942</td>\n",
       "      <td>5.663363</td>\n",
       "      <td>5.371092</td>\n",
       "      <td>5.876364</td>\n",
       "      <td>5.622160</td>\n",
       "      <td>4.575153</td>\n",
       "      <td>5.517611</td>\n",
       "      <td>5.974391</td>\n",
       "      <td>4.864227</td>\n",
       "      <td>4.534390</td>\n",
       "      <td>...</td>\n",
       "      <td>4.731530</td>\n",
       "      <td>4.863678</td>\n",
       "      <td>4.539263</td>\n",
       "      <td>5.256839</td>\n",
       "      <td>5.464465</td>\n",
       "      <td>4.779124</td>\n",
       "      <td>6.000000</td>\n",
       "      <td>4.819731</td>\n",
       "      <td>5.960360</td>\n",
       "      <td>4.316461</td>\n",
       "    </tr>\n",
       "  </tbody>\n",
       "</table>\n",
       "<p>8 rows × 1024 columns</p>\n",
       "</div>"
      ],
      "text/plain": [
       "           feature0      feature1      feature2      feature3      feature4  \\\n",
       "count  35698.000000  35698.000000  35698.000000  35698.000000  35698.000000   \n",
       "mean       0.319613      0.622106      0.566069      1.523294      0.748835   \n",
       "std        0.482722      0.763492      0.720434      1.438029      0.909834   \n",
       "min        0.000000      0.000000      0.000000      0.000000      0.000000   \n",
       "25%        0.004001      0.060448      0.000000      0.298510      0.000000   \n",
       "50%        0.099382      0.339811      0.237357      1.049824      0.359035   \n",
       "75%        0.438083      0.915629      0.947605      2.467961      1.290433   \n",
       "max        4.087942      5.663363      5.371092      5.876364      5.622160   \n",
       "\n",
       "           feature5      feature6      feature7      feature8      feature9  \\\n",
       "count  35698.000000  35698.000000  35698.000000  35698.000000  35698.000000   \n",
       "mean       0.211562      0.573175      0.531644      0.367228      0.326813   \n",
       "std        0.428852      0.715716      0.687100      0.597005      0.518084   \n",
       "min        0.000000      0.000000      0.000000      0.000000      0.000000   \n",
       "25%        0.000000      0.000000      0.055589      0.000000      0.000000   \n",
       "50%        0.000000      0.272709      0.248670      0.086151      0.068445   \n",
       "75%        0.217060      0.947295      0.762555      0.457150      0.450949   \n",
       "max        4.575153      5.517611      5.974391      4.864227      4.534390   \n",
       "\n",
       "           ...        feature1014   feature1015   feature1016   feature1017  \\\n",
       "count      ...       35698.000000  35698.000000  35698.000000  35698.000000   \n",
       "mean       ...           0.458643      0.522804      0.283841      0.558640   \n",
       "std        ...           0.667244      0.743753      0.530469      0.665155   \n",
       "min        ...           0.000000      0.000000      0.000000      0.000000   \n",
       "25%        ...           0.000000      0.000000      0.000000      0.062706   \n",
       "50%        ...           0.095764      0.146711      0.017610      0.305404   \n",
       "75%        ...           0.733225      0.818365      0.310937      0.817497   \n",
       "max        ...           4.731530      4.863678      4.539263      5.256839   \n",
       "\n",
       "        feature1018   feature1019   feature1020   feature1021   feature1022  \\\n",
       "count  35698.000000  35698.000000  35698.000000  35698.000000  35698.000000   \n",
       "mean       0.832311      0.669303      2.148375      0.722895      0.784367   \n",
       "std        0.904194      0.794725      2.185345      0.809400      1.156641   \n",
       "min        0.000000      0.000000      0.000000      0.000000      0.000000   \n",
       "25%        0.130860      0.040423      0.337907      0.023924      0.000000   \n",
       "50%        0.507438      0.318267      1.043169      0.399679      0.127364   \n",
       "75%        1.249837      1.102036      4.987215      1.247386      1.220534   \n",
       "max        5.464465      4.779124      6.000000      4.819731      5.960360   \n",
       "\n",
       "        feature1023  \n",
       "count  35698.000000  \n",
       "mean       0.460061  \n",
       "std        0.552339  \n",
       "min        0.000000  \n",
       "25%        0.042095  \n",
       "50%        0.249356  \n",
       "75%        0.693302  \n",
       "max        4.316461  \n",
       "\n",
       "[8 rows x 1024 columns]"
      ]
     },
     "execution_count": 28,
     "metadata": {},
     "output_type": "execute_result"
    }
   ],
   "source": [
    "data.describe() "
   ]
  },
  {
   "cell_type": "markdown",
   "metadata": {},
   "source": [
    "A histogram is a representation of the distribution of data. This function calls matplotlib.pyplot.hist(), on each series in the DataFrame, resulting in one histogram per column."
   ]
  },
  {
   "cell_type": "code",
   "execution_count": 29,
   "metadata": {},
   "outputs": [
    {
     "data": {
      "image/png": "[encoded data removed]",
      "text/plain": [
       "<Figure size 720x720 with 1 Axes>"
      ]
     },
     "metadata": {},
     "output_type": "display_data"
    }
   ],
   "source": [
    "data[\"feature0\"].hist(figsize=(10,10));"
   ]
  },
  {
   "cell_type": "markdown",
   "metadata": {},
   "source": [
    "<div style=\"background:#FFFFAA\">\n",
    "<h1>Step 2: Building a predictive model</h1>\n",
    "</div>"
   ]
  },
  {
   "cell_type": "markdown",
   "metadata": {},
   "source": [
    "<div style=\"background:#FFFFAA\">\n",
    "    <h2>Loading data with DataManager</h2>\n",
    "    <p>\n",
    "We reload the data with the AutoML DataManager class because this is more convenient:\n",
    "   <br>     <span style=\"color:red\"> Keep this, it illustrates how data in AutoML formal are loaded by the ingestion program </span>\n",
    "</div>"
   ]
  },
  {
   "cell_type": "code",
   "execution_count": 30,
   "metadata": {},
   "outputs": [
    {
     "name": "stdout",
     "output_type": "stream",
     "text": [
      "Info file found : /home/gjx/Desktop/m2aic2019-master/starting_kit/sample_data/perso_public.info\n",
      "DataManager : perso\n",
      "info:\n",
      "\tusage = Sample dataset perso data\n",
      "\tname = perso\n",
      "\ttask = bi-class.classification\n",
      "\ttarget_type = Numerical\n",
      "\tfeat_type = Numerical\n",
      "\tmetric = bac_metric\n",
      "\ttime_budget = 1200\n",
      "\tfeat_num = 1024\n",
      "\ttarget_num = 2\n",
      "\tlabel_num = 2\n",
      "\ttrain_num = 35698\n",
      "\tvalid_num = 5100\n",
      "\ttest_num = 10200\n",
      "\thas_categorical = 0\n",
      "\thas_missing = 0\n",
      "\tis_sparse = 0\n",
      "\tformat = dense\n",
      "data:\n",
      "\tX_train = array(35698, 1024)\n",
      "\tY_train = array(35698,)\n",
      "\tX_valid = array(5100, 1024)\n",
      "\tY_valid = array(5100,)\n",
      "\tX_test = array(10200, 1024)\n",
      "\tY_test = array(10200,)\n",
      "feat_type:\tarray(1024,)\n",
      "feat_idx:\tarray(0,)\n",
      "\n",
      "perso\n"
     ]
    }
   ],
   "source": [
    "from data_manager import DataManager\n",
    "D = DataManager(data_name, data_dir, replace_missing=True)\n",
    "print(D)\n",
    "print(data_name)"
   ]
  },
  {
   "cell_type": "markdown",
   "metadata": {},
   "source": [
    "<div style=\"background:#FFFFAA\">\n",
    "    <h2>Training a predictive model</h2>\n",
    "    <p>\n",
    "We provide an example of predictive model (for classification or regression) in the `sample_code_submission/` directory. It is a quite stupid model: it makes constant predictions. Replace it with your own model.\n",
    "    </div>"
   ]
  },
  {
   "cell_type": "code",
   "execution_count": 31,
   "metadata": {},
   "outputs": [],
   "source": [
    "from data_io import write\n",
    "from model import model"
   ]
  },
  {
   "cell_type": "markdown",
   "metadata": {},
   "source": [
    "<div style=\"background:#FFFFAA\">\n",
    "an instance of the model (run the constructor) and attempt to reload a previously saved version from `sample_code_submission/`:\n",
    "    \n",
    "</div>"
   ]
  },
  {
   "cell_type": "code",
   "execution_count": 32,
   "metadata": {},
   "outputs": [
    {
     "name": "stdout",
     "output_type": "stream",
     "text": [
      "perso\n",
      "sample_code_submission/\n",
      "sample_code_submission/perso\n"
     ]
    }
   ],
   "source": [
    "M = model()\n",
    "trained_model_name = model_dir + data_name\n",
    "print(data_name)\n",
    "print(model_dir)\n",
    "print(trained_model_name)\n",
    "# Uncomment the next line to re-load an already trained model\n",
    "#M = M.load(trained_model_name)                  "
   ]
  },
  {
   "cell_type": "markdown",
   "metadata": {},
   "source": [
    "<div style=\"background:#FFFFAA\">\n",
    "    Train the model (unless you reloaded a trained model) and make predictions. \n",
    "</div>"
   ]
  },
  {
   "cell_type": "code",
   "execution_count": 33,
   "metadata": {},
   "outputs": [
    {
     "name": "stdout",
     "output_type": "stream",
     "text": [
      "FIT: dim(X)= [35698, 1024]\n",
      "FIT: dim(y)= [35698, 1]\n",
      "PREDICT: dim(X)= [35698, 1024]\n",
      "PREDICT: dim(y)= [35698, 1]\n",
      "PREDICT: dim(X)= [5100, 1024]\n",
      "PREDICT: dim(y)= [5100, 1]\n",
      "PREDICT: dim(X)= [10200, 1024]\n",
      "PREDICT: dim(y)= [10200, 1]\n"
     ]
    }
   ],
   "source": [
    "if not(M.is_trained):\n",
    "    X_train = D.data['X_train']\n",
    "    Y_train = D.data['Y_train']\n",
    "    M.fit(X_train, Y_train)                     \n",
    "\n",
    "Y_hat_train = M.predict(D.data['X_train'])\n",
    "Y_hat_valid = M.predict(D.data['X_valid'])\n",
    "Y_hat_test = M.predict(D.data['X_test'])"
   ]
  },
  {
   "cell_type": "markdown",
   "metadata": {},
   "source": [
    "<div style=\"background:#FFFFAA\">\n",
    "    <b> Save the trained model </b> (will be ready to reload next time around) and save the prediction results. IMPORTANT: if you save the trained model, it will be bundled with your sample code submission. Therefore your model will NOT be retrained on the challenge platform. Remove the pickle from the submission if you want the model to be retrained on the platform.\n",
    "</div>"
   ]
  },
  {
   "cell_type": "code",
   "execution_count": 34,
   "metadata": {},
   "outputs": [
    {
     "name": "stdout",
     "output_type": "stream",
     "text": [
      "sample_result_submission/perso_test.predict\r\n",
      "sample_result_submission/perso_train.predict\r\n",
      "sample_result_submission/perso_valid.predict\r\n"
     ]
    }
   ],
   "source": [
    "M.save(trained_model_name)                 \n",
    "result_name = result_dir + data_name\n",
    "from data_io import write\n",
    "write(result_name + '_train.predict', Y_hat_train)\n",
    "write(result_name + '_valid.predict', Y_hat_valid)\n",
    "write(result_name + '_test.predict', Y_hat_test)\n",
    "!ls $result_name*"
   ]
  },
  {
   "cell_type": "markdown",
   "metadata": {},
   "source": [
    "<div style=\"background:#FFFFAA\">\n",
    "    <h2>Scoring the results</h2>\n",
    "    <h3>Load the challenge metric</h3>\n",
    "    <p>\n",
    "<b>The metric chosen for your challenge</b> is identified in the \"metric.txt\" file found in the `scoring_function/` directory. The function \"get_metric\" searches first for a metric having that name in my_metric.py, then in libscores.py, then in sklearn.metric.\n",
    "    </div>"
   ]
  },
  {
   "cell_type": "code",
   "execution_count": 35,
   "metadata": {},
   "outputs": [
    {
     "name": "stdout",
     "output_type": "stream",
     "text": [
      "Using scoring metric: accuracy_score\n"
     ]
    }
   ],
   "source": [
    "from libscores import get_metric\n",
    "metric_name, scoring_function = get_metric()\n",
    "print('Using scoring metric:', metric_name)\n",
    "# Uncomment the next line to display the code of the scoring metric\n",
    "#??scoring_function"
   ]
  },
  {
   "cell_type": "markdown",
   "metadata": {},
   "source": [
    "<div style=\"background:#FFFFAA\">\n",
    "    <h3> Training performance </h3>\n",
    "    <p>\n",
    "The participants normally posess target values (labels) only for training examples (except for the sample data). We compute with the `example` metric the training score, which should be zero for perfect predictions.\n",
    "        </div>"
   ]
  },
  {
   "cell_type": "code",
   "execution_count": 36,
   "metadata": {},
   "outputs": [
    {
     "name": "stdout",
     "output_type": "stream",
     "text": [
      "Training score for the accuracy_score metric = 1.0000\n",
      "Ideal score for the accuracy_score metric = 1.0000\n"
     ]
    }
   ],
   "source": [
    "print('Training score for the', metric_name, 'metric = %5.4f' % scoring_function(Y_train, Y_hat_train))\n",
    "print('Ideal score for the', metric_name, 'metric = %5.4f' % scoring_function(Y_train, Y_train))"
   ]
  },
  {
   "cell_type": "markdown",
   "metadata": {},
   "source": [
    "You can add here other scores and result visualization."
   ]
  },
  {
   "cell_type": "code",
   "execution_count": 37,
   "metadata": {},
   "outputs": [
    {
     "data": {
      "text/plain": [
       "array([[17842,     0],\n",
       "       [    0, 17856]])"
      ]
     },
     "execution_count": 37,
     "metadata": {},
     "output_type": "execute_result"
    }
   ],
   "source": [
    "from sklearn.metrics import confusion_matrix\n",
    "confusion_matrix(Y_train, Y_hat_train)"
   ]
  },
  {
   "cell_type": "markdown",
   "metadata": {},
   "source": [
    "<div style=\"background:#FFFFAA\">\n",
    "    <h3>Cross-validation performance</h3>\n",
    "    <p>\n",
    "The participants do not have access to the labels Y_valid and Y_test to self-assess their validation and test performances. But training performance is not a good prediction of validation or test performance. Using cross-validation, the training data is split into multiple training/test folds, which allows participants to self-assess their model during development. The average CV result and 95% confidence interval is displayed.\n",
    "   </div>"
   ]
  },
  {
   "cell_type": "code",
   "execution_count": 15,
   "metadata": {},
   "outputs": [
    {
     "name": "stdout",
     "output_type": "stream",
     "text": [
      "FIT: dim(X)= [28558, 1024]\n",
      "FIT: dim(y)= [28558, 1]\n",
      "PREDICT: dim(X)= [7140, 1024]\n",
      "PREDICT: dim(y)= [7140, 1]\n",
      "FIT: dim(X)= [28558, 1024]\n",
      "FIT: dim(y)= [28558, 1]\n",
      "PREDICT: dim(X)= [7140, 1024]\n",
      "PREDICT: dim(y)= [7140, 1]\n",
      "FIT: dim(X)= [28558, 1024]\n",
      "FIT: dim(y)= [28558, 1]\n",
      "PREDICT: dim(X)= [7140, 1024]\n",
      "PREDICT: dim(y)= [7140, 1]\n",
      "FIT: dim(X)= [28559, 1024]\n",
      "FIT: dim(y)= [28559, 1]\n",
      "PREDICT: dim(X)= [7139, 1024]\n",
      "PREDICT: dim(y)= [7139, 1]\n",
      "FIT: dim(X)= [28559, 1024]\n",
      "FIT: dim(y)= [28559, 1]\n",
      "PREDICT: dim(X)= [7139, 1024]\n",
      "PREDICT: dim(y)= [7139, 1]\n",
      "\n",
      "CV score (95 perc. CI): 0.99 (+/- 0.00)\n"
     ]
    }
   ],
   "source": [
    "from sklearn.metrics import make_scorer\n",
    "from sklearn.model_selection import cross_val_score\n",
    "scores = cross_val_score(M, X_train, Y_train, cv=5, scoring=make_scorer(scoring_function))\n",
    "print('\\nCV score (95 perc. CI): %0.2f (+/- %0.2f)' % (scores.mean(), scores.std() * 2))"
   ]
  },
  {
   "cell_type": "markdown",
   "metadata": {},
   "source": [
    "<div style=\"background:#FFFFAA\">\n",
    "<h1> Step 3: Making a submission </h1> \n",
    "\n",
    "<h2> Unit testing </h2> \n",
    "\n",
    "It is <b><span style=\"color:red\">important that you test your submission files before submitting them</span></b>. All you have to do to make a submission is modify the file <code>model.py</code> in the <code>sample_code_submission/</code> directory, then run this test to make sure everything works fine. This is the actual program that will be run on the server to test your submission. \n",
    "<br>\n",
    "Keep the sample code simple.\n",
    "</div>"
   ]
  },
  {
   "cell_type": "code",
   "execution_count": 38,
   "metadata": {
    "scrolled": true
   },
   "outputs": [
    {
     "name": "stdout",
     "output_type": "stream",
     "text": [
      "Using input_dir: /home/gjx/Desktop/m2aic2019-master/starting_kit/sample_data\n",
      "Using output_dir: /home/gjx/Desktop/m2aic2019-master/starting_kit/sample_result_submission\n",
      "Using program_dir: /home/gjx/Desktop/m2aic2019-master/starting_kit/ingestion_program\n",
      "Using submission_dir: /home/gjx/Desktop/m2aic2019-master/starting_kit/sample_code_submission\n",
      "/home/gjx/anaconda3/lib/python3.6/site-packages/sklearn/externals/joblib/externals/cloudpickle/cloudpickle.py:47: DeprecationWarning: the imp module is deprecated in favour of importlib; see the module's documentation for alternative uses\n",
      "  import imp\n",
      "\n",
      "========== Ingestion program version 6 ==========\n",
      "\n",
      "************************************************\n",
      "******** Processing dataset Perso ********\n",
      "************************************************\n",
      "========= Reading and converting data ==========\n",
      "Info file found : /home/gjx/Desktop/m2aic2019-master/starting_kit/sample_data/perso_public.info\n",
      "========= Reading /home/gjx/Desktop/m2aic2019-master/starting_kit/sample_data/perso_feat.type\n",
      "[+] Success in  0.00 sec\n",
      "========= Reading /home/gjx/Desktop/m2aic2019-master/starting_kit/sample_data/perso_train.data\n",
      "Replace missing values by 0 (slow, sorry)\n",
      "[+] Success in 130.51 sec\n",
      "========= Reading /home/gjx/Desktop/m2aic2019-master/starting_kit/sample_data/perso_train.solution\n",
      "[+] Success in  3.43 sec\n",
      "========= Reading /home/gjx/Desktop/m2aic2019-master/starting_kit/sample_data/perso_valid.data\n",
      "Replace missing values by 0 (slow, sorry)\n",
      "[+] Success in 14.69 sec\n",
      "========= Reading /home/gjx/Desktop/m2aic2019-master/starting_kit/sample_data/perso_valid.solution\n",
      "[+] Success in  1.51 sec\n",
      "========= Reading /home/gjx/Desktop/m2aic2019-master/starting_kit/sample_data/perso_test.data\n",
      "Replace missing values by 0 (slow, sorry)\n",
      "[+] Success in 21.86 sec\n",
      "========= Reading /home/gjx/Desktop/m2aic2019-master/starting_kit/sample_data/perso_test.solution\n",
      "[+] Success in  0.02 sec\n",
      "DataManager : perso\n",
      "info:\n",
      "\tusage = Sample dataset perso data\n",
      "\tname = perso\n",
      "\ttask = bi-class.classification\n",
      "\ttarget_type = Numerical\n",
      "\tfeat_type = Numerical\n",
      "\tmetric = bac_metric\n",
      "\ttime_budget = 1200\n",
      "\tfeat_num = 1024\n",
      "\ttarget_num = 2\n",
      "\tlabel_num = 2\n",
      "\ttrain_num = 35698\n",
      "\tvalid_num = 5100\n",
      "\ttest_num = 10200\n",
      "\thas_categorical = 0\n",
      "\thas_missing = 0\n",
      "\tis_sparse = 0\n",
      "\tformat = dense\n",
      "data:\n",
      "\tX_train = array(35698, 1024)\n",
      "\tY_train = array(35698,)\n",
      "\tX_valid = array(5100, 1024)\n",
      "\tY_valid = array(5100,)\n",
      "\tX_test = array(10200, 1024)\n",
      "\tY_test = array(10200,)\n",
      "feat_type:\tarray(1024,)\n",
      "feat_idx:\tarray(1024,)\n",
      "\n",
      "[+] Size of uploaded data  56.00 bytes\n",
      "[+] Cumulated time budget (all tasks so far)  1200.00 sec\n",
      "[+] Time budget for this task 1200.00 sec\n",
      "[+] Remaining time after reading data 1027.13 sec\n",
      "======== Creating model ==========\n",
      "**********************************************************\n",
      "****** Attempting to reload model to avoid training ******\n",
      "**********************************************************\n",
      "Model reloaded from: /home/gjx/Desktop/m2aic2019-master/starting_kit/sample_code_submission/perso_model.pickle\n",
      "[+] Model reloaded, no need to train!\n",
      "[+] Prediction success, time spent so far 173.10 sec\n",
      "======== Saving results to: /home/gjx/Desktop/m2aic2019-master/starting_kit/sample_result_submission\n",
      "[+] Results saved, time spent so far 173.25 sec\n",
      "[+] End cycle, time left 1026.75 sec\n",
      "[+] Done\n",
      "[+] Overall time spent 187.50 sec ::  Overall time budget 1200.00 sec\n"
     ]
    }
   ],
   "source": [
    "!python $problem_dir/ingestion.py $data_dir $result_dir $problem_dir $model_dir"
   ]
  },
  {
   "cell_type": "markdown",
   "metadata": {},
   "source": [
    "<div style=\"background:#FFFFAA\">\n",
    "Also test the scoring program:\n",
    "    </div>"
   ]
  },
  {
   "cell_type": "code",
   "execution_count": 39,
   "metadata": {},
   "outputs": [
    {
     "name": "stdout",
     "output_type": "stream",
     "text": [
      "/home/gjx/anaconda3/lib/python3.6/site-packages/sklearn/externals/joblib/externals/cloudpickle/cloudpickle.py:47: DeprecationWarning: the imp module is deprecated in favour of importlib; see the module's documentation for alternative uses\n",
      "  import imp\n",
      "======= Set 1 (Perso_test): accuracy_score(set1_score)=0.991960784314 =======\n",
      "======= Set 2 (Perso_train): accuracy_score(set2_score)=1.000000000000 =======\n",
      "======= Set 3 (Perso_valid): accuracy_score(set3_score)=0.994117647059 =======\n"
     ]
    }
   ],
   "source": [
    "scoring_output_dir = '../scoring_output_dir'\n",
    "!python $score_dir/score.py $data_dir $result_dir $scoring_output_dir"
   ]
  },
  {
   "cell_type": "markdown",
   "metadata": {
    "collapsed": true
   },
   "source": [
    "<div style=\"background:#FFFFAA\">\n",
    "    <h1> Preparing the submission </h1>\n",
    "\n",
    "Zip the contents of `sample_code_submission/` (without the directory), or download the challenge public_data and run the command in the previous cell, after replacing sample_data by public_data.\n",
    "Then zip the contents of `sample_result_submission/` (without the directory).\n",
    "<b><span style=\"color:red\">Do NOT zip the data with your submissions</span></b>."
   ]
  },
  {
   "cell_type": "code",
   "execution_count": 40,
   "metadata": {},
   "outputs": [
    {
     "name": "stdout",
     "output_type": "stream",
     "text": [
      "Submit one of these files:\n",
      "../sample_code_submission_18-11-20-21-52.zip\n",
      "../sample_result_submission_18-11-20-21-52.zip\n"
     ]
    }
   ],
   "source": [
    "import datetime \n",
    "from data_io import zipdir\n",
    "the_date = datetime.datetime.now().strftime(\"%y-%m-%d-%H-%M\")\n",
    "sample_code_submission = '../sample_code_submission_' + the_date + '.zip'\n",
    "sample_result_submission = '../sample_result_submission_' + the_date + '.zip'\n",
    "zipdir(sample_code_submission, model_dir)\n",
    "zipdir(sample_result_submission, result_dir)\n",
    "print(\"Submit one of these files:\\n\" + sample_code_submission + \"\\n\" + sample_result_submission)"
   ]
  },
  {
   "cell_type": "code",
   "execution_count": null,
   "metadata": {},
   "outputs": [],
   "source": []
  }
 ],
 "metadata": {
  "kernelspec": {
   "display_name": "Python 3",
   "language": "python",
   "name": "python3"
  },
  "language_info": {
   "codemirror_mode": {
    "name": "ipython",
    "version": 3
   },
   "file_extension": ".py",
   "mimetype": "text/x-python",
   "name": "python",
   "nbconvert_exporter": "python",
   "pygments_lexer": "ipython3",
   "version": "3.6.6"
  }
 },
 "nbformat": 4,
 "nbformat_minor": 1
}
