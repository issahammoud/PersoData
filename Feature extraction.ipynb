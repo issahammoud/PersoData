{
 "cells": [
  {
   "cell_type": "code",
   "execution_count": 1,
   "metadata": {},
   "outputs": [
    {
     "name": "stderr",
     "output_type": "stream",
     "text": [
      "Using TensorFlow backend.\n"
     ]
    }
   ],
   "source": [
    "import numpy as np\n",
    "import os\n",
    "import cv2\n",
    "from sklearn.model_selection import train_test_split\n",
    "from keras.applications.mobilenet import MobileNet, preprocess_input\n",
    "from keras.objectives import binary_crossentropy\n",
    "from keras.layers import Input, Dropout, GlobalAveragePooling2D\n",
    "from keras.layers import Flatten, Dense\n",
    "from keras.models import Model\n",
    "from keras.optimizers import adam\n",
    "from keras.callbacks import EarlyStopping, ModelCheckpoint, TensorBoard"
   ]
  },
  {
   "cell_type": "code",
   "execution_count": 2,
   "metadata": {},
   "outputs": [],
   "source": [
    "path = \"generated/\"\n",
    "l = os.listdir(path)\n",
    "X = []\n",
    "\n",
    "for img in l:\n",
    "    image = cv2.imread(os.path.join(path,img))\n",
    "    if(image.shape == (224,224,3)):\n",
    "        X.append(image)\n",
    "\n",
    "\n",
    "y = [0]*len(X)\n",
    " "
   ]
  },
  {
   "cell_type": "code",
   "execution_count": 3,
   "metadata": {},
   "outputs": [],
   "source": [
    "path = \"FakeData/\"\n",
    "\n",
    "l = os.listdir(path)\n",
    "\n",
    "for p in l:\n",
    "    \n",
    "    i = os.path.join(path,p)\n",
    "    \n",
    "    for img in os.listdir(i):\n",
    "        \n",
    "        image = cv2.imread(os.path.join(i,img))\n",
    "        \n",
    "        if(image.shape == (224,224,3)):\n",
    "            \n",
    "            X.append(image)\n",
    "                           \n",
    "                        \n",
    "\n",
    "y += [0]*(len(X) - len(y))"
   ]
  },
  {
   "cell_type": "code",
   "execution_count": 4,
   "metadata": {},
   "outputs": [
    {
     "data": {
      "text/plain": [
       "(25499, 25499)"
      ]
     },
     "execution_count": 4,
     "metadata": {},
     "output_type": "execute_result"
    }
   ],
   "source": [
    "len(X),len(y)"
   ]
  },
  {
   "cell_type": "code",
   "execution_count": 5,
   "metadata": {},
   "outputs": [],
   "source": [
    "path = \"wikiArts/\"\n",
    "\n",
    "l = os.listdir(path)\n",
    "\n",
    "nb = 0\n",
    "\n",
    "for p in l:\n",
    "    \n",
    "    z = os.path.join(path,p)\n",
    "    \n",
    "    for img in os.listdir(z):\n",
    "        \n",
    "        try:\n",
    "            \n",
    "            image = cv2.imread(os.path.join(z,img))\n",
    "        \n",
    "            if(nb < len(y) and image.shape == (224,224,3)):\n",
    "            \n",
    "                X.append(image)\n",
    "            \n",
    "                nb+=1\n",
    "        \n",
    "            else:\n",
    "            \n",
    "                break\n",
    "            \n",
    "        except :\n",
    "                continue\n",
    "    \n",
    "    if(nb >= len(y)):\n",
    "        break\n",
    "\n",
    "y += [1]*nb"
   ]
  },
  {
   "cell_type": "code",
   "execution_count": 6,
   "metadata": {},
   "outputs": [
    {
     "data": {
      "text/plain": [
       "(50998, 50998)"
      ]
     },
     "execution_count": 6,
     "metadata": {},
     "output_type": "execute_result"
    }
   ],
   "source": [
    "len(X),len(y)"
   ]
  },
  {
   "cell_type": "code",
   "execution_count": 7,
   "metadata": {},
   "outputs": [],
   "source": [
    "X = np.array(X)\n",
    "y = np.array(y)"
   ]
  },
  {
   "cell_type": "code",
   "execution_count": 8,
   "metadata": {},
   "outputs": [],
   "source": [
    "mobilenet = MobileNet(input_shape=(224,224,3), include_top=False)\n",
    "\n",
    "input = mobilenet.layers[0].input\n",
    "\n",
    "convolutions_output = mobilenet.layers[-1].output\n",
    "\n",
    "out = GlobalAveragePooling2D()(convolutions_output)\n",
    "\n",
    "fe_model = Model(inputs=input,\n",
    "              outputs=out,\n",
    "              name=\"MobileNet-224-feature-Extractor\")\n"
   ]
  },
  {
   "cell_type": "code",
   "execution_count": 9,
   "metadata": {},
   "outputs": [],
   "source": [
    "i = 0\n",
    "bs = 32\n",
    "\n",
    "transf = []\n",
    "while i < X.shape[0]:\n",
    "    img_batch = X[i: i+bs]\n",
    "    img_batch_preproc = preprocess_input(img_batch.astype('float32'))\n",
    "    transf.append(fe_model.predict(img_batch_preproc))\n",
    "    i += bs"
   ]
  },
  {
   "cell_type": "code",
   "execution_count": 10,
   "metadata": {},
   "outputs": [],
   "source": [
    "X = np.vstack(transf)"
   ]
  },
  {
   "cell_type": "code",
   "execution_count": 11,
   "metadata": {},
   "outputs": [
    {
     "data": {
      "text/plain": [
       "(50998, 1024)"
      ]
     },
     "execution_count": 11,
     "metadata": {},
     "output_type": "execute_result"
    }
   ],
   "source": [
    "X.shape"
   ]
  },
  {
   "cell_type": "code",
   "execution_count": 12,
   "metadata": {},
   "outputs": [],
   "source": [
    "idx = np.arange(X.shape[0])\n",
    "\n",
    "np.random.shuffle(idx)\n",
    "\n",
    "X = X[idx]\n",
    "y = y[idx]"
   ]
  },
  {
   "cell_type": "code",
   "execution_count": 13,
   "metadata": {},
   "outputs": [],
   "source": [
    "data = {\"paintings\" : X,\n",
    "        \"labels\" : y}"
   ]
  },
  {
   "cell_type": "code",
   "execution_count": 14,
   "metadata": {},
   "outputs": [],
   "source": [
    "np.save(\"data.npy\", data)"
   ]
  },
  {
   "cell_type": "code",
   "execution_count": 15,
   "metadata": {},
   "outputs": [],
   "source": [
    "test = np.load(\"data.npy\")[()]"
   ]
  },
  {
   "cell_type": "code",
   "execution_count": 16,
   "metadata": {},
   "outputs": [
    {
     "data": {
      "text/plain": [
       "((50998, 1024), (50998,))"
      ]
     },
     "execution_count": 16,
     "metadata": {},
     "output_type": "execute_result"
    }
   ],
   "source": [
    "test[\"paintings\"].shape,test[\"labels\"].shape"
   ]
  },
  {
   "cell_type": "code",
   "execution_count": null,
   "metadata": {},
   "outputs": [],
   "source": []
  }
 ],
 "metadata": {
  "kernelspec": {
   "display_name": "Python 3",
   "language": "python",
   "name": "python3"
  },
  "language_info": {
   "codemirror_mode": {
    "name": "ipython",
    "version": 3
   },
   "file_extension": ".py",
   "mimetype": "text/x-python",
   "name": "python",
   "nbconvert_exporter": "python",
   "pygments_lexer": "ipython3",
   "version": "3.6.0"
  }
 },
 "nbformat": 4,
 "nbformat_minor": 2
}
