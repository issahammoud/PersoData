{
 "cells": [
  {
   "cell_type": "code",
   "execution_count": null,
   "metadata": {},
   "outputs": [],
   "source": [
    "## split les data\n",
    "import numpy as np\n",
    "import pandas as pd\n",
    "data = np.load(\"../data_pca.npy\")[()] \n",
    "paintings = pd.DataFrame(data['paintings'])\n",
    "labels = data['labels']\n",
    "feats = []\n",
    "for i in range(200) :\n",
    "    feats.append(\"feature\"+str(i))\n",
    "paintings.columns = feats  \n",
    "paintings['labels']=labels\n",
    "data = paintings\n",
    "\n",
    "train_set, valid_set, test_set = np.split(data.sample(frac=1), [int(.7*len(data)), int(.8*len(data))])\n",
    "l=train_set['labels']\n",
    "t=train_set.drop(columns=['labels']).values\n",
    "np.savetxt('perso_train.data',t,fmt='%.6f',delimiter=' ')\n",
    "np.savetxt('perso_train.solution',l,fmt='%d',delimiter=' ')\n",
    "l=test_set['labels']\n",
    "t=test_set.drop(columns=['labels']).values\n",
    "np.savetxt('perso_test.data',t,fmt='%.6f',delimiter=' ')\n",
    "np.savetxt('perso_test.solution',l,fmt='%d',delimiter=' ')\n",
    "l=valid_set['labels']\n",
    "t=valid_set.drop(columns=['labels']).values\n",
    "np.savetxt('perso_valid.data',t,fmt='%.6f',delimiter=' ')\n",
    "np.savetxt('perso_valid.solution',l,fmt='%d',delimiter=' ')"
   ]
  }
 ],
 "metadata": {
  "kernelspec": {
   "display_name": "Python 3",
   "language": "python",
   "name": "python3"
  },
  "language_info": {
   "codemirror_mode": {
    "name": "ipython",
    "version": 3
   },
   "file_extension": ".py",
   "mimetype": "text/x-python",
   "name": "python",
   "nbconvert_exporter": "python",
   "pygments_lexer": "ipython3",
   "version": "3.7.0"
  }
 },
 "nbformat": 4,
 "nbformat_minor": 2
}
