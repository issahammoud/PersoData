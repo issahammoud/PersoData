{
 "cells": [
  {
   "cell_type": "markdown",
   "metadata": {},
   "source": [
    "<div style=\"background:#FFFFAA\">\n",
    "<img src=\"logo.jpg\", width=150, ALIGN=\"left\", border=20>\n",
    "<center>\n",
    "<h1>Sample Starting Kit </h1>\n",
    " <br>This code was tested with <br>\n",
    "Python 3.6.6 |Anaconda custom (64-bit)| (default, Jun 28 2018, 11:07:29) (https://anaconda.org/)<br>\n",
    "<i> Adapted for Chalab by Isabelle Guyon from original code of Balázs Kégl</i> <br>\n",
    "<a href=\"http://www.datascience-paris-saclay.fr\">Paris Saclay Center for Data Science (CDS)</a>\n",
    "</center>\n",
    "<br>\n",
    "<br>\n",
    "<br>\n",
    "<p>\n",
    "ALL INFORMATION, SOFTWARE, DOCUMENTATION, AND DATA ARE PROVIDED \"AS-IS\". The CDS, CHALEARN, AND/OR OTHER ORGANIZERS OR CODE AUTHORS DISCLAIM ANY EXPRESSED OR IMPLIED WARRANTIES, INCLUDING, BUT NOT LIMITED TO, THE IMPLIED WARRANTIES OF MERCHANTABILITY AND FITNESS FOR ANY PARTICULAR PURPOSE, AND THE WARRANTY OF NON-INFRIGEMENT OF ANY THIRD PARTY'S INTELLECTUAL PROPERTY RIGHTS. IN NO EVENT SHALL AUTHORS AND ORGANIZERS BE LIABLE FOR ANY SPECIAL, \n",
    "INDIRECT OR CONSEQUENTIAL DAMAGES OR ANY DAMAGES WHATSOEVER ARISING OUT OF OR IN CONNECTION WITH THE USE OR PERFORMANCE OF SOFTWARE, DOCUMENTS, MATERIALS, PUBLICATIONS, OR INFORMATION MADE AVAILABLE FOR THE CHALLENGE. \n",
    "</div>"
   ]
  },
  {
   "cell_type": "markdown",
   "metadata": {},
   "source": [
    "<div style=\"background:#FFFFAA\">\n",
    "    <h2>Introduction </h2>\n",
    "    <p>\n",
    "In an era where computer graphics techniques for image generation are reaching stunning levels of quality, it becomes more and more challenging to detect fake from true, authentic images. However, this raises a lot of legal issues, mainly dealing with forgery. This project focuses mainly on the efficiency of Generative Adversarial Network (GAN) algorithms for producing art forgery and we will try to beat the state-of-the-art models that detect it. In fact, the Fine Arts Expert Institute in Geneva estimates that as much as 50 percent of artworks currently in circulation may be forgeries. Although the standard approach for image classification which is deep neural networks and especially Convolutional Neural Networks (CNNs) works very well nowadays, GAN performs strongly on generating fake images. By focusing on the art forgery aspect, we will try to bring a more specific perspective on the issue of image forgery.\n",
    " \n",
    " <br>\n",
    "    <span style=\"color:red\"> Keep the next block. </span>\n",
    "</div>"
   ]
  },
  {
   "cell_type": "code",
   "execution_count": 1,
   "metadata": {},
   "outputs": [],
   "source": [
    "model_dir = 'sample_code_submission/'                        # Change the model to a better one once you have one!\n",
    "result_dir = 'sample_result_submission/' \n",
    "problem_dir = 'ingestion_program/'  \n",
    "score_dir = 'scoring_program/'\n",
    "from sys import path; path.append(model_dir); path.append(problem_dir); path.append(score_dir); \n",
    "%matplotlib inline\n",
    "# Uncomment the next lines to auto-reload libraries (this causes some problem with pickles in Python 3)\n",
    "%load_ext autoreload\n",
    "%autoreload 2\n",
    "import seaborn as sns; sns.set()\n",
    "import warnings\n",
    "warnings.simplefilter(action='ignore', category=FutureWarning)"
   ]
  },
  {
   "cell_type": "markdown",
   "metadata": {},
   "source": [
    "<div style=\"background:#FFFFAA\">\n",
    "    <h1> Step 1: Exploratory data analysis </h1>\n",
    "<p>\n",
    "We provide sample_data with the starting kit, but to prepare your submission, you must fetch the public_data from the challenge website and point to it.\n",
    "    <br>\n",
    "    <span style=\"color:red\"> Just change the data name in the block below. In the rest of the section, replace the sample plots by anything you want. </span>\n",
    "</div>"
   ]
  },
  {
   "cell_type": "code",
   "execution_count": 4,
   "metadata": {},
   "outputs": [
    {
     "name": "stdout",
     "output_type": "stream",
     "text": [
      "perso_feat.name    perso_test.data\tperso_train.solution\r\n",
      "perso_label.name   perso_test.solution\tperso_valid.data\r\n",
      "perso_public.info  perso_train.data\tperso_valid.solution\r\n"
     ]
    }
   ],
   "source": [
    "#data_dir = 'sample_data'              # Change this to the directory where you put the input data\n",
    "data_dir = 'sample_data'          # The sample_data directory should contain only a very small subset of the data\n",
    "data_name = 'perso'\n",
    "!ls $data_dir"
   ]
  },
  {
   "cell_type": "code",
   "execution_count": 5,
   "metadata": {},
   "outputs": [
    {
     "name": "stdout",
     "output_type": "stream",
     "text": [
      "Reading sample_data/perso_train from AutoML format\n",
      "Number of examples = 54\n",
      "Number of features = 50176\n",
      "   Class\n",
      "0  False\n",
      "1   True\n",
      "Number of classes = 2\n"
     ]
    }
   ],
   "source": [
    "from data_io import read_as_df\n",
    "data = read_as_df(data_dir  + '/' + data_name)          # The perso_data is loaded as a Pandas Data Frame"
   ]
  },
  {
   "cell_type": "code",
   "execution_count": 6,
   "metadata": {},
   "outputs": [
    {
     "data": {
      "text/html": [
       "<div>\n",
       "<style scoped>\n",
       "    .dataframe tbody tr th:only-of-type {\n",
       "        vertical-align: middle;\n",
       "    }\n",
       "\n",
       "    .dataframe tbody tr th {\n",
       "        vertical-align: top;\n",
       "    }\n",
       "\n",
       "    .dataframe thead th {\n",
       "        text-align: right;\n",
       "    }\n",
       "</style>\n",
       "<table border=\"1\" class=\"dataframe\">\n",
       "  <thead>\n",
       "    <tr style=\"text-align: right;\">\n",
       "      <th></th>\n",
       "      <th>feature0</th>\n",
       "      <th>feature1</th>\n",
       "      <th>feature2</th>\n",
       "      <th>feature3</th>\n",
       "      <th>feature4</th>\n",
       "      <th>feature5</th>\n",
       "      <th>feature6</th>\n",
       "      <th>feature7</th>\n",
       "      <th>feature8</th>\n",
       "      <th>feature9</th>\n",
       "      <th>...</th>\n",
       "      <th>feature50167</th>\n",
       "      <th>feature50168</th>\n",
       "      <th>feature50169</th>\n",
       "      <th>feature50170</th>\n",
       "      <th>feature50171</th>\n",
       "      <th>feature50172</th>\n",
       "      <th>feature50173</th>\n",
       "      <th>feature50174</th>\n",
       "      <th>feature50175</th>\n",
       "      <th>target</th>\n",
       "    </tr>\n",
       "  </thead>\n",
       "  <tbody>\n",
       "    <tr>\n",
       "      <th>0</th>\n",
       "      <td>0.811765</td>\n",
       "      <td>0.808823</td>\n",
       "      <td>0.752941</td>\n",
       "      <td>0.823529</td>\n",
       "      <td>0.800000</td>\n",
       "      <td>0.767647</td>\n",
       "      <td>0.788235</td>\n",
       "      <td>0.811765</td>\n",
       "      <td>0.773529</td>\n",
       "      <td>0.767647</td>\n",
       "      <td>...</td>\n",
       "      <td>0.905882</td>\n",
       "      <td>0.911765</td>\n",
       "      <td>0.911765</td>\n",
       "      <td>0.905882</td>\n",
       "      <td>0.908824</td>\n",
       "      <td>0.885294</td>\n",
       "      <td>0.905882</td>\n",
       "      <td>0.876471</td>\n",
       "      <td>0.914706</td>\n",
       "      <td>False</td>\n",
       "    </tr>\n",
       "    <tr>\n",
       "      <th>1</th>\n",
       "      <td>0.295425</td>\n",
       "      <td>0.224837</td>\n",
       "      <td>0.244444</td>\n",
       "      <td>0.252288</td>\n",
       "      <td>0.254902</td>\n",
       "      <td>0.219608</td>\n",
       "      <td>0.290196</td>\n",
       "      <td>0.296732</td>\n",
       "      <td>0.342484</td>\n",
       "      <td>0.332026</td>\n",
       "      <td>...</td>\n",
       "      <td>0.074510</td>\n",
       "      <td>0.090196</td>\n",
       "      <td>0.054902</td>\n",
       "      <td>0.062745</td>\n",
       "      <td>0.062745</td>\n",
       "      <td>0.035294</td>\n",
       "      <td>0.030065</td>\n",
       "      <td>0.050980</td>\n",
       "      <td>0.094118</td>\n",
       "      <td>True</td>\n",
       "    </tr>\n",
       "    <tr>\n",
       "      <th>2</th>\n",
       "      <td>0.917647</td>\n",
       "      <td>0.909804</td>\n",
       "      <td>0.972549</td>\n",
       "      <td>0.945098</td>\n",
       "      <td>0.956863</td>\n",
       "      <td>0.945098</td>\n",
       "      <td>0.929412</td>\n",
       "      <td>0.925490</td>\n",
       "      <td>0.937255</td>\n",
       "      <td>0.929412</td>\n",
       "      <td>...</td>\n",
       "      <td>0.866667</td>\n",
       "      <td>0.862745</td>\n",
       "      <td>0.819608</td>\n",
       "      <td>0.803922</td>\n",
       "      <td>0.870588</td>\n",
       "      <td>0.870588</td>\n",
       "      <td>0.870588</td>\n",
       "      <td>0.847059</td>\n",
       "      <td>0.850980</td>\n",
       "      <td>True</td>\n",
       "    </tr>\n",
       "    <tr>\n",
       "      <th>3</th>\n",
       "      <td>0.902941</td>\n",
       "      <td>0.850000</td>\n",
       "      <td>0.852941</td>\n",
       "      <td>0.864706</td>\n",
       "      <td>0.861765</td>\n",
       "      <td>0.867647</td>\n",
       "      <td>0.864706</td>\n",
       "      <td>0.870588</td>\n",
       "      <td>0.870588</td>\n",
       "      <td>0.852941</td>\n",
       "      <td>...</td>\n",
       "      <td>0.870588</td>\n",
       "      <td>0.861765</td>\n",
       "      <td>0.870588</td>\n",
       "      <td>0.864706</td>\n",
       "      <td>0.864706</td>\n",
       "      <td>0.864706</td>\n",
       "      <td>0.891176</td>\n",
       "      <td>0.894118</td>\n",
       "      <td>0.908824</td>\n",
       "      <td>False</td>\n",
       "    </tr>\n",
       "    <tr>\n",
       "      <th>4</th>\n",
       "      <td>0.958824</td>\n",
       "      <td>0.900000</td>\n",
       "      <td>0.867647</td>\n",
       "      <td>0.885294</td>\n",
       "      <td>0.914706</td>\n",
       "      <td>0.908824</td>\n",
       "      <td>0.923529</td>\n",
       "      <td>0.929412</td>\n",
       "      <td>0.900000</td>\n",
       "      <td>0.905882</td>\n",
       "      <td>...</td>\n",
       "      <td>0.973529</td>\n",
       "      <td>0.970588</td>\n",
       "      <td>0.964706</td>\n",
       "      <td>0.979412</td>\n",
       "      <td>0.970588</td>\n",
       "      <td>0.961765</td>\n",
       "      <td>0.970588</td>\n",
       "      <td>0.955882</td>\n",
       "      <td>0.982353</td>\n",
       "      <td>False</td>\n",
       "    </tr>\n",
       "  </tbody>\n",
       "</table>\n",
       "<p>5 rows × 50177 columns</p>\n",
       "</div>"
      ],
      "text/plain": [
       "   feature0  feature1  feature2  feature3  feature4  feature5  feature6  \\\n",
       "0  0.811765  0.808823  0.752941  0.823529  0.800000  0.767647  0.788235   \n",
       "1  0.295425  0.224837  0.244444  0.252288  0.254902  0.219608  0.290196   \n",
       "2  0.917647  0.909804  0.972549  0.945098  0.956863  0.945098  0.929412   \n",
       "3  0.902941  0.850000  0.852941  0.864706  0.861765  0.867647  0.864706   \n",
       "4  0.958824  0.900000  0.867647  0.885294  0.914706  0.908824  0.923529   \n",
       "\n",
       "   feature7  feature8  feature9   ...    feature50167  feature50168  \\\n",
       "0  0.811765  0.773529  0.767647   ...        0.905882      0.911765   \n",
       "1  0.296732  0.342484  0.332026   ...        0.074510      0.090196   \n",
       "2  0.925490  0.937255  0.929412   ...        0.866667      0.862745   \n",
       "3  0.870588  0.870588  0.852941   ...        0.870588      0.861765   \n",
       "4  0.929412  0.900000  0.905882   ...        0.973529      0.970588   \n",
       "\n",
       "   feature50169  feature50170  feature50171  feature50172  feature50173  \\\n",
       "0      0.911765      0.905882      0.908824      0.885294      0.905882   \n",
       "1      0.054902      0.062745      0.062745      0.035294      0.030065   \n",
       "2      0.819608      0.803922      0.870588      0.870588      0.870588   \n",
       "3      0.870588      0.864706      0.864706      0.864706      0.891176   \n",
       "4      0.964706      0.979412      0.970588      0.961765      0.970588   \n",
       "\n",
       "   feature50174  feature50175  target  \n",
       "0      0.876471      0.914706   False  \n",
       "1      0.050980      0.094118    True  \n",
       "2      0.847059      0.850980    True  \n",
       "3      0.894118      0.908824   False  \n",
       "4      0.955882      0.982353   False  \n",
       "\n",
       "[5 rows x 50177 columns]"
      ]
     },
     "execution_count": 6,
     "metadata": {},
     "output_type": "execute_result"
    }
   ],
   "source": [
    "data.head()"
   ]
  },
  {
   "cell_type": "markdown",
   "metadata": {},
   "source": [
    "For convenience, we load the data as a \"pandas\" data frame, so we can use \"pandas\" and \"seaborn\" built in functions to explore the data."
   ]
  },
  {
   "cell_type": "code",
   "execution_count": 7,
   "metadata": {
    "scrolled": false
   },
   "outputs": [
    {
     "data": {
      "text/html": [
       "<div>\n",
       "<style scoped>\n",
       "    .dataframe tbody tr th:only-of-type {\n",
       "        vertical-align: middle;\n",
       "    }\n",
       "\n",
       "    .dataframe tbody tr th {\n",
       "        vertical-align: top;\n",
       "    }\n",
       "\n",
       "    .dataframe thead th {\n",
       "        text-align: right;\n",
       "    }\n",
       "</style>\n",
       "<table border=\"1\" class=\"dataframe\">\n",
       "  <thead>\n",
       "    <tr style=\"text-align: right;\">\n",
       "      <th></th>\n",
       "      <th>feature0</th>\n",
       "      <th>feature1</th>\n",
       "      <th>feature2</th>\n",
       "      <th>feature3</th>\n",
       "      <th>feature4</th>\n",
       "      <th>feature5</th>\n",
       "      <th>feature6</th>\n",
       "      <th>feature7</th>\n",
       "      <th>feature8</th>\n",
       "      <th>feature9</th>\n",
       "      <th>...</th>\n",
       "      <th>feature50166</th>\n",
       "      <th>feature50167</th>\n",
       "      <th>feature50168</th>\n",
       "      <th>feature50169</th>\n",
       "      <th>feature50170</th>\n",
       "      <th>feature50171</th>\n",
       "      <th>feature50172</th>\n",
       "      <th>feature50173</th>\n",
       "      <th>feature50174</th>\n",
       "      <th>feature50175</th>\n",
       "    </tr>\n",
       "  </thead>\n",
       "  <tbody>\n",
       "    <tr>\n",
       "      <th>count</th>\n",
       "      <td>54.000000</td>\n",
       "      <td>54.000000</td>\n",
       "      <td>54.000000</td>\n",
       "      <td>54.000000</td>\n",
       "      <td>54.000000</td>\n",
       "      <td>54.000000</td>\n",
       "      <td>54.000000</td>\n",
       "      <td>54.000000</td>\n",
       "      <td>54.000000</td>\n",
       "      <td>54.000000</td>\n",
       "      <td>...</td>\n",
       "      <td>54.000000</td>\n",
       "      <td>54.000000</td>\n",
       "      <td>54.000000</td>\n",
       "      <td>54.000000</td>\n",
       "      <td>54.000000</td>\n",
       "      <td>54.000000</td>\n",
       "      <td>54.000000</td>\n",
       "      <td>54.000000</td>\n",
       "      <td>54.000000</td>\n",
       "      <td>54.000000</td>\n",
       "    </tr>\n",
       "    <tr>\n",
       "      <th>mean</th>\n",
       "      <td>0.657183</td>\n",
       "      <td>0.608872</td>\n",
       "      <td>0.609495</td>\n",
       "      <td>0.616394</td>\n",
       "      <td>0.618379</td>\n",
       "      <td>0.618700</td>\n",
       "      <td>0.631633</td>\n",
       "      <td>0.629654</td>\n",
       "      <td>0.622464</td>\n",
       "      <td>0.618966</td>\n",
       "      <td>...</td>\n",
       "      <td>0.594420</td>\n",
       "      <td>0.595389</td>\n",
       "      <td>0.593410</td>\n",
       "      <td>0.588822</td>\n",
       "      <td>0.588072</td>\n",
       "      <td>0.591661</td>\n",
       "      <td>0.590717</td>\n",
       "      <td>0.603916</td>\n",
       "      <td>0.607637</td>\n",
       "      <td>0.623644</td>\n",
       "    </tr>\n",
       "    <tr>\n",
       "      <th>std</th>\n",
       "      <td>0.290882</td>\n",
       "      <td>0.286738</td>\n",
       "      <td>0.292992</td>\n",
       "      <td>0.293070</td>\n",
       "      <td>0.299825</td>\n",
       "      <td>0.299415</td>\n",
       "      <td>0.295929</td>\n",
       "      <td>0.298080</td>\n",
       "      <td>0.294493</td>\n",
       "      <td>0.296942</td>\n",
       "      <td>...</td>\n",
       "      <td>0.296405</td>\n",
       "      <td>0.295602</td>\n",
       "      <td>0.291832</td>\n",
       "      <td>0.294073</td>\n",
       "      <td>0.292678</td>\n",
       "      <td>0.292480</td>\n",
       "      <td>0.286688</td>\n",
       "      <td>0.284513</td>\n",
       "      <td>0.279136</td>\n",
       "      <td>0.277298</td>\n",
       "    </tr>\n",
       "    <tr>\n",
       "      <th>min</th>\n",
       "      <td>0.090196</td>\n",
       "      <td>0.115033</td>\n",
       "      <td>0.064052</td>\n",
       "      <td>0.067974</td>\n",
       "      <td>0.045752</td>\n",
       "      <td>0.083660</td>\n",
       "      <td>0.069281</td>\n",
       "      <td>0.084967</td>\n",
       "      <td>0.088889</td>\n",
       "      <td>0.103268</td>\n",
       "      <td>...</td>\n",
       "      <td>0.030065</td>\n",
       "      <td>0.041830</td>\n",
       "      <td>0.028758</td>\n",
       "      <td>0.020915</td>\n",
       "      <td>0.024837</td>\n",
       "      <td>0.040523</td>\n",
       "      <td>0.035294</td>\n",
       "      <td>0.030065</td>\n",
       "      <td>0.031373</td>\n",
       "      <td>0.041830</td>\n",
       "    </tr>\n",
       "    <tr>\n",
       "      <th>25%</th>\n",
       "      <td>0.366340</td>\n",
       "      <td>0.332353</td>\n",
       "      <td>0.345425</td>\n",
       "      <td>0.354248</td>\n",
       "      <td>0.363399</td>\n",
       "      <td>0.369608</td>\n",
       "      <td>0.352288</td>\n",
       "      <td>0.347059</td>\n",
       "      <td>0.349020</td>\n",
       "      <td>0.352614</td>\n",
       "      <td>...</td>\n",
       "      <td>0.338562</td>\n",
       "      <td>0.334967</td>\n",
       "      <td>0.358170</td>\n",
       "      <td>0.353268</td>\n",
       "      <td>0.344118</td>\n",
       "      <td>0.343791</td>\n",
       "      <td>0.336928</td>\n",
       "      <td>0.378758</td>\n",
       "      <td>0.425490</td>\n",
       "      <td>0.408497</td>\n",
       "    </tr>\n",
       "    <tr>\n",
       "      <th>50%</th>\n",
       "      <td>0.737909</td>\n",
       "      <td>0.668791</td>\n",
       "      <td>0.694281</td>\n",
       "      <td>0.715196</td>\n",
       "      <td>0.702941</td>\n",
       "      <td>0.714869</td>\n",
       "      <td>0.715359</td>\n",
       "      <td>0.722222</td>\n",
       "      <td>0.733170</td>\n",
       "      <td>0.735294</td>\n",
       "      <td>...</td>\n",
       "      <td>0.634804</td>\n",
       "      <td>0.615686</td>\n",
       "      <td>0.607843</td>\n",
       "      <td>0.588235</td>\n",
       "      <td>0.598693</td>\n",
       "      <td>0.606536</td>\n",
       "      <td>0.625490</td>\n",
       "      <td>0.620915</td>\n",
       "      <td>0.634640</td>\n",
       "      <td>0.617647</td>\n",
       "    </tr>\n",
       "    <tr>\n",
       "      <th>75%</th>\n",
       "      <td>0.930882</td>\n",
       "      <td>0.875000</td>\n",
       "      <td>0.864706</td>\n",
       "      <td>0.880392</td>\n",
       "      <td>0.898529</td>\n",
       "      <td>0.889216</td>\n",
       "      <td>0.899265</td>\n",
       "      <td>0.897794</td>\n",
       "      <td>0.886029</td>\n",
       "      <td>0.880882</td>\n",
       "      <td>...</td>\n",
       "      <td>0.879412</td>\n",
       "      <td>0.887500</td>\n",
       "      <td>0.882353</td>\n",
       "      <td>0.885294</td>\n",
       "      <td>0.886029</td>\n",
       "      <td>0.893382</td>\n",
       "      <td>0.878677</td>\n",
       "      <td>0.900000</td>\n",
       "      <td>0.887990</td>\n",
       "      <td>0.905882</td>\n",
       "    </tr>\n",
       "    <tr>\n",
       "      <th>max</th>\n",
       "      <td>0.993464</td>\n",
       "      <td>0.993464</td>\n",
       "      <td>0.996078</td>\n",
       "      <td>0.998693</td>\n",
       "      <td>1.000000</td>\n",
       "      <td>0.997386</td>\n",
       "      <td>0.994771</td>\n",
       "      <td>0.993464</td>\n",
       "      <td>0.994771</td>\n",
       "      <td>0.994771</td>\n",
       "      <td>...</td>\n",
       "      <td>1.000000</td>\n",
       "      <td>0.996078</td>\n",
       "      <td>0.996078</td>\n",
       "      <td>0.993464</td>\n",
       "      <td>0.990850</td>\n",
       "      <td>0.993464</td>\n",
       "      <td>0.993464</td>\n",
       "      <td>0.998693</td>\n",
       "      <td>0.992157</td>\n",
       "      <td>1.000000</td>\n",
       "    </tr>\n",
       "  </tbody>\n",
       "</table>\n",
       "<p>8 rows × 50176 columns</p>\n",
       "</div>"
      ],
      "text/plain": [
       "        feature0   feature1   feature2   feature3   feature4   feature5  \\\n",
       "count  54.000000  54.000000  54.000000  54.000000  54.000000  54.000000   \n",
       "mean    0.657183   0.608872   0.609495   0.616394   0.618379   0.618700   \n",
       "std     0.290882   0.286738   0.292992   0.293070   0.299825   0.299415   \n",
       "min     0.090196   0.115033   0.064052   0.067974   0.045752   0.083660   \n",
       "25%     0.366340   0.332353   0.345425   0.354248   0.363399   0.369608   \n",
       "50%     0.737909   0.668791   0.694281   0.715196   0.702941   0.714869   \n",
       "75%     0.930882   0.875000   0.864706   0.880392   0.898529   0.889216   \n",
       "max     0.993464   0.993464   0.996078   0.998693   1.000000   0.997386   \n",
       "\n",
       "        feature6   feature7   feature8   feature9      ...       feature50166  \\\n",
       "count  54.000000  54.000000  54.000000  54.000000      ...          54.000000   \n",
       "mean    0.631633   0.629654   0.622464   0.618966      ...           0.594420   \n",
       "std     0.295929   0.298080   0.294493   0.296942      ...           0.296405   \n",
       "min     0.069281   0.084967   0.088889   0.103268      ...           0.030065   \n",
       "25%     0.352288   0.347059   0.349020   0.352614      ...           0.338562   \n",
       "50%     0.715359   0.722222   0.733170   0.735294      ...           0.634804   \n",
       "75%     0.899265   0.897794   0.886029   0.880882      ...           0.879412   \n",
       "max     0.994771   0.993464   0.994771   0.994771      ...           1.000000   \n",
       "\n",
       "       feature50167  feature50168  feature50169  feature50170  feature50171  \\\n",
       "count     54.000000     54.000000     54.000000     54.000000     54.000000   \n",
       "mean       0.595389      0.593410      0.588822      0.588072      0.591661   \n",
       "std        0.295602      0.291832      0.294073      0.292678      0.292480   \n",
       "min        0.041830      0.028758      0.020915      0.024837      0.040523   \n",
       "25%        0.334967      0.358170      0.353268      0.344118      0.343791   \n",
       "50%        0.615686      0.607843      0.588235      0.598693      0.606536   \n",
       "75%        0.887500      0.882353      0.885294      0.886029      0.893382   \n",
       "max        0.996078      0.996078      0.993464      0.990850      0.993464   \n",
       "\n",
       "       feature50172  feature50173  feature50174  feature50175  \n",
       "count     54.000000     54.000000     54.000000     54.000000  \n",
       "mean       0.590717      0.603916      0.607637      0.623644  \n",
       "std        0.286688      0.284513      0.279136      0.277298  \n",
       "min        0.035294      0.030065      0.031373      0.041830  \n",
       "25%        0.336928      0.378758      0.425490      0.408497  \n",
       "50%        0.625490      0.620915      0.634640      0.617647  \n",
       "75%        0.878677      0.900000      0.887990      0.905882  \n",
       "max        0.993464      0.998693      0.992157      1.000000  \n",
       "\n",
       "[8 rows x 50176 columns]"
      ]
     },
     "execution_count": 7,
     "metadata": {},
     "output_type": "execute_result"
    }
   ],
   "source": [
    "data.describe() "
   ]
  },
  {
   "cell_type": "markdown",
   "metadata": {},
   "source": [
    "With this fan diagram, we can see that there are the same number of the true and the fake samples in the train data"
   ]
  },
  {
   "cell_type": "code",
   "execution_count": 8,
   "metadata": {},
   "outputs": [
    {
     "data": {
      "text/plain": [
       "(-1.1118964382271597,\n",
       " 1.1005664970584361,\n",
       " -1.1212646557994514,\n",
       " 1.1134463539527317)"
      ]
     },
     "execution_count": 8,
     "metadata": {},
     "output_type": "execute_result"
    },
    {
     "data": {
      "image/png": "[encoded data removed]",
      "text/plain": [
       "<Figure size 432x288 with 1 Axes>"
      ]
     },
     "metadata": {},
     "output_type": "display_data"
    }
   ],
   "source": [
    "%matplotlib inline\n",
    "import matplotlib.pyplot as plt\n",
    "import pandas as pd\n",
    "data_solution = pd.read_csv(\"sample_data/perso_train.solution\",header=None) \n",
    "data_solution.rename(columns={ data_solution.columns[0]: \"solution\" }, inplace=True)\n",
    "counts = data_solution['solution'].value_counts()\n",
    "values = data_solution['solution'].unique()\n",
    "colors = ['turquoise', 'seagreen']\n",
    "plt.pie(counts, labels=values, colors=colors)\n",
    "plt.axis('equal')"
   ]
  },
  {
   "cell_type": "markdown",
   "metadata": {},
   "source": [
    "A histogram is a representation of the distribution of data. This function calls matplotlib.pyplot.hist(), on each series in the DataFrame, resulting in one histogram per column.\n"
   ]
  },
  {
   "cell_type": "code",
   "execution_count": 11,
   "metadata": {},
   "outputs": [
    {
     "data": {
      "image/png": "[encoded data removed]",
      "text/plain": [
       "<Figure size 432x288 with 1 Axes>"
      ]
     },
     "metadata": {
      "needs_background": "light"
     },
     "output_type": "display_data"
    },
    {
     "data": {
      "image/png": "[encoded data removed]",
      "text/plain": [
       "<Figure size 432x288 with 1 Axes>"
      ]
     },
     "metadata": {
      "needs_background": "light"
     },
     "output_type": "display_data"
    },
    {
     "data": {
      "image/png": "[encoded data removed]",
      "text/plain": [
       "<Figure size 432x288 with 1 Axes>"
      ]
     },
     "metadata": {
      "needs_background": "light"
     },
     "output_type": "display_data"
    }
   ],
   "source": [
    "# statistics of 1024 features\n",
    "g1=data.mean()\n",
    "plt.title(\"Distribution of mean\")\n",
    "g1.hist()\n",
    "plt.show()\n",
    "\n",
    "g2=data.std()\n",
    "plt.title(\"Distribution of std\")\n",
    "g2.hist()\n",
    "plt.show()\n",
    "\n",
    "g3=list(data.max())\n",
    "g3.pop()\n",
    "plt.title(\"Distribution of max\")\n",
    "plt.hist(g3)\n",
    "plt.show()"
   ]
  },
  {
   "cell_type": "code",
   "execution_count": 14,
   "metadata": {},
   "outputs": [
    {
     "data": {
      "image/png": "[encoded data removed]",
      "text/plain": [
       "<Figure size 432x288 with 1 Axes>"
      ]
     },
     "metadata": {
      "needs_background": "light"
     },
     "output_type": "display_data"
    },
    {
     "data": {
      "image/png": "[encoded data removed]",
      "text/plain": [
       "<Figure size 1008x720 with 2 Axes>"
      ]
     },
     "metadata": {
      "needs_background": "light"
     },
     "output_type": "display_data"
    }
   ],
   "source": [
    "# Assign features according to model\n",
    "y=data.target\n",
    "X=data.drop(\"target\",axis=1)\n",
    "from sklearn.ensemble import ExtraTreesClassifier\n",
    "from numpy.core.umath_tests import inner1d\n",
    "import numpy as np\n",
    "forest = ExtraTreesClassifier(n_estimators=250,\n",
    "                              random_state=0)\n",
    "forest.fit(X, y)\n",
    "importances = forest.feature_importances_\n",
    "std = np.std([tree.feature_importances_ for tree in forest.estimators_],\n",
    "             axis=0)\n",
    "indices = np.argsort(importances)[::-1]\n",
    "plt.figure()\n",
    "plt.title(\"Feature importances\")\n",
    "plt.bar(range(100), importances[indices[:100]])\n",
    "plt.show()\n",
    "select=indices[:20]\n",
    "t=[]\n",
    "for i in select:\n",
    "    t.append(\"feature\"+str(i))\n",
    "import pandas as pd\n",
    "a = pd.DataFrame(data,columns = t)\n",
    "\n",
    "corr = a.corr()\n",
    "_, ax= plt.subplots(figsize = (14, 10))\n",
    "sns.heatmap(corr,cmap='RdBu', linewidths = 0.05, ax = ax)\n",
    "ax.set_title('Correlation between features')\n",
    "plt.show()"
   ]
  },
  {
   "cell_type": "markdown",
   "metadata": {},
   "source": [
    "<div style=\"background:#FFFFAA\">\n",
    "<h1>Step 2: Building a predictive model</h1>\n",
    "</div>"
   ]
  },
  {
   "cell_type": "markdown",
   "metadata": {},
   "source": [
    "<div style=\"background:#FFFFAA\">\n",
    "    <h2>Loading data with DataManager</h2>\n",
    "    <p>\n",
    "We reload the data with the AutoML DataManager class because this is more convenient:\n",
    "   <br>     <span style=\"color:red\"> Keep this, it illustrates how data in AutoML formal are loaded by the ingestion program </span>\n",
    "</div>"
   ]
  },
  {
   "cell_type": "code",
   "execution_count": 15,
   "metadata": {},
   "outputs": [
    {
     "name": "stdout",
     "output_type": "stream",
     "text": [
      "Info file found : /home/min/workspace/s5/PersoData/starting_kit_real/sample_data/perso_public.info\n",
      "DataManager : perso\n",
      "info:\n",
      "\tusage = Sample dataset perso data\n",
      "\tname = perso\n",
      "\ttask = bi-class.classification\n",
      "\ttarget_type = Numerical\n",
      "\tfeat_type = Numerical\n",
      "\tmetric = bac_metric\n",
      "\ttime_budget = 1200\n",
      "\tfeat_num = 50176\n",
      "\ttarget_num = 2\n",
      "\tlabel_num = 2\n",
      "\ttrain_num = 54\n",
      "\tvalid_num = 48\n",
      "\ttest_num = 48\n",
      "\thas_categorical = 0\n",
      "\thas_missing = 0\n",
      "\tis_sparse = 0\n",
      "\tformat = dense\n",
      "data:\n",
      "\tX_train = array(54, 50176)\n",
      "\tY_train = array(54,)\n",
      "\tX_valid = array(48, 50176)\n",
      "\tY_valid = array(48,)\n",
      "\tX_test = array(48, 50176)\n",
      "\tY_test = array(48,)\n",
      "feat_type:\tarray(50176,)\n",
      "feat_idx:\tarray(0,)\n",
      "\n",
      "perso\n"
     ]
    }
   ],
   "source": [
    "from data_manager import DataManager\n",
    "D = DataManager(data_name, data_dir, replace_missing=True)\n",
    "print(D)\n",
    "print(data_name)"
   ]
  },
  {
   "cell_type": "markdown",
   "metadata": {},
   "source": [
    "<div style=\"background:#FFFFAA\">\n",
    "    <h2>Training a predictive model</h2>\n",
    "    <p>\n",
    "We provide an example of predictive model (for classification or regression) in the `sample_code_submission/` directory. It is a quite stupid model: it makes constant predictions. Replace it with your own model.\n",
    "    </div>"
   ]
  },
  {
   "cell_type": "code",
   "execution_count": 17,
   "metadata": {},
   "outputs": [],
   "source": [
    "from numpy.core.umath_tests import inner1d\n",
    "from data_io import write\n",
    "from model import model"
   ]
  },
  {
   "cell_type": "markdown",
   "metadata": {},
   "source": [
    "<div style=\"background:#FFFFAA\">\n",
    "an instance of the model (run the constructor) and attempt to reload a previously saved version from `sample_code_submission/`:\n",
    "    \n",
    "</div>"
   ]
  },
  {
   "cell_type": "code",
   "execution_count": 18,
   "metadata": {},
   "outputs": [
    {
     "name": "stdout",
     "output_type": "stream",
     "text": [
      "perso\n",
      "sample_code_submission/\n",
      "sample_code_submission/perso\n"
     ]
    }
   ],
   "source": [
    "M = model()\n",
    "trained_model_name = model_dir + data_name\n",
    "print(data_name)\n",
    "print(model_dir)\n",
    "print(trained_model_name)\n",
    "# Uncomment the next line to re-load an already trained model\n",
    "#M = M.load(trained_model_name)                  "
   ]
  },
  {
   "cell_type": "markdown",
   "metadata": {},
   "source": [
    "<div style=\"background:#FFFFAA\">\n",
    "    Train the model (unless you reloaded a trained model) and make predictions. \n",
    "</div>"
   ]
  },
  {
   "cell_type": "code",
   "execution_count": 20,
   "metadata": {},
   "outputs": [
    {
     "name": "stdout",
     "output_type": "stream",
     "text": [
      "PREDICT: dim(X)= [54, 50176]\n",
      "PREDICT: dim(y)= [54, 1]\n",
      "PREDICT: dim(X)= [48, 50176]\n",
      "PREDICT: dim(y)= [48, 1]\n",
      "PREDICT: dim(X)= [48, 50176]\n",
      "PREDICT: dim(y)= [48, 1]\n"
     ]
    }
   ],
   "source": [
    "if not(M.is_trained):\n",
    "    X_train = D.data['X_train']\n",
    "    Y_train = D.data['Y_train']\n",
    "    M.fit(X_train, Y_train)                     \n",
    "\n",
    "Y_hat_train = M.predict(D.data['X_train'])\n",
    "Y_hat_valid = M.predict(D.data['X_valid'])\n",
    "Y_hat_test = M.predict(D.data['X_test'])\n",
    "Y_test = D.data['Y_test']\n",
    "Y_valid = D.data['Y_valid']"
   ]
  },
  {
   "cell_type": "markdown",
   "metadata": {},
   "source": [
    "<div style=\"background:#FFFFAA\">\n",
    "    <b> Save the trained model </b> (will be ready to reload next time around) and save the prediction results. IMPORTANT: if you save the trained model, it will be bundled with your sample code submission. Therefore your model will NOT be retrained on the challenge platform. Remove the pickle from the submission if you want the model to be retrained on the platform.\n",
    "</div>"
   ]
  },
  {
   "cell_type": "code",
   "execution_count": 21,
   "metadata": {},
   "outputs": [
    {
     "name": "stdout",
     "output_type": "stream",
     "text": [
      "sample_result_submission/perso_test.predict\r\n",
      "sample_result_submission/perso_train.predict\r\n",
      "sample_result_submission/perso_valid.predict\r\n"
     ]
    }
   ],
   "source": [
    "M.save(trained_model_name)                 \n",
    "result_name = result_dir + data_name\n",
    "from data_io import write\n",
    "write(result_name + '_train.predict', Y_hat_train)\n",
    "write(result_name + '_valid.predict', Y_hat_valid)\n",
    "write(result_name + '_test.predict', Y_hat_test)\n",
    "!ls $result_name*"
   ]
  },
  {
   "cell_type": "markdown",
   "metadata": {},
   "source": [
    "<div style=\"background:#FFFFAA\">\n",
    "    <h2>Scoring the results</h2>\n",
    "    <h3>Load the challenge metric</h3>\n",
    "    <p>\n",
    "<b>The metric chosen for your challenge</b> is identified in the \"metric.txt\" file found in the `scoring_function/` directory. The function \"get_metric\" searches first for a metric having that name in my_metric.py, then in libscores.py, then in sklearn.metric.\n",
    "    </div>"
   ]
  },
  {
   "cell_type": "code",
   "execution_count": 27,
   "metadata": {
    "scrolled": true
   },
   "outputs": [
    {
     "name": "stdout",
     "output_type": "stream",
     "text": [
      "Using scoring metric: accuracy_score\n"
     ]
    }
   ],
   "source": [
    "'''from libscores import get_metric\n",
    "metric_name, scoring_function = get_metric()\n",
    "print('Using scoring metric:', metric_name)\n",
    "# Uncomment the next line to display the code of the scoring metric\n",
    "#??scoring_function\n",
    "'''"
   ]
  },
  {
   "cell_type": "markdown",
   "metadata": {},
   "source": [
    "#### Metric : AUC_metric \n",
    "ROC curves are typically used in binary classification to study the output of a classifier"
   ]
  },
  {
   "cell_type": "code",
   "execution_count": 22,
   "metadata": {},
   "outputs": [
    {
     "name": "stdout",
     "output_type": "stream",
     "text": [
      "Using scoring metric: AUC_metric\n"
     ]
    }
   ],
   "source": [
    "from libscores import get_metric\n",
    "metric_name, scoring_function = get_metric()\n",
    "print('Using scoring metric:', metric_name)"
   ]
  },
  {
   "cell_type": "markdown",
   "metadata": {},
   "source": [
    "<div style=\"background:#FFFFAA\">\n",
    "    <h3> Training performance </h3>\n",
    "    <p>\n",
    "The participants normally posess target values (labels) only for training examples (except for the sample data). We compute with the `example` metric the training score, which should be zero for perfect predictions.\n",
    "        </div>"
   ]
  },
  {
   "cell_type": "code",
   "execution_count": 25,
   "metadata": {},
   "outputs": [
    {
     "name": "stdout",
     "output_type": "stream",
     "text": [
      "Training score for the AUC_metric metric = 1.0000\n",
      "Ideal score for the AUC_metric metric = 1.0000\n",
      "Test score for the AUC_metric metric = 0.8413\n",
      "Valid score for the AUC_metric metric = 0.8164\n"
     ]
    }
   ],
   "source": [
    "'''\n",
    "print('Training score for the', metric_name, 'metric = %5.4f' % scoring_function(Y_train, Y_hat_train))\n",
    "print('Ideal score for the', metric_name, 'metric = %5.4f' % scoring_function(Y_train, Y_train))\n",
    "print('Test score for the', metric_name, 'metric = %5.4f' % scoring_function(Y_test, Y_hat_test))\n",
    "print('Valid score for the', metric_name, 'metric = %5.4f' % scoring_function(Y_valid, Y_hat_valid))\n",
    "'''"
   ]
  },
  {
   "cell_type": "markdown",
   "metadata": {},
   "source": [
    "You can add here other scores and result visualization."
   ]
  },
  {
   "cell_type": "code",
   "execution_count": 23,
   "metadata": {},
   "outputs": [
    {
     "name": "stdout",
     "output_type": "stream",
     "text": [
      "Training score for the AUC_metric metric = 1.0000\n",
      "Ideal score for the AUC_metric metric = 1.0000\n",
      "Test score for the AUC_metric metric = 0.8413\n",
      "Valid score for the AUC_metric metric = 0.8164\n"
     ]
    },
    {
     "data": {
      "image/png": "[encoded data removed]",
      "text/plain": [
       "<Figure size 360x216 with 2 Axes>"
      ]
     },
     "metadata": {
      "needs_background": "light"
     },
     "output_type": "display_data"
    },
    {
     "data": {
      "image/png": "[encoded data removed]",
      "text/plain": [
       "<Figure size 360x216 with 1 Axes>"
      ]
     },
     "metadata": {
      "needs_background": "light"
     },
     "output_type": "display_data"
    },
    {
     "data": {
      "image/png": "[encoded data removed]",
      "text/plain": [
       "<Figure size 360x216 with 2 Axes>"
      ]
     },
     "metadata": {
      "needs_background": "light"
     },
     "output_type": "display_data"
    },
    {
     "data": {
      "image/png": "[encoded data removed]",
      "text/plain": [
       "<Figure size 360x216 with 1 Axes>"
      ]
     },
     "metadata": {
      "needs_background": "light"
     },
     "output_type": "display_data"
    },
    {
     "data": {
      "image/png": "[encoded data removed]",
      "text/plain": [
       "<Figure size 360x216 with 2 Axes>"
      ]
     },
     "metadata": {
      "needs_background": "light"
     },
     "output_type": "display_data"
    },
    {
     "data": {
      "image/png": "[encoded data removed]",
      "text/plain": [
       "<Figure size 360x216 with 1 Axes>"
      ]
     },
     "metadata": {
      "needs_background": "light"
     },
     "output_type": "display_data"
    }
   ],
   "source": [
    "#AUC_metric\n",
    "from sklearn import metrics\n",
    "def fpr_tpr(solution, prediction):\n",
    "    fpr, tpr, thresholds = metrics.roc_curve(solution, prediction, pos_label=1)\n",
    "    return (fpr,tpr)\n",
    "fpr_train,tpr_train = fpr_tpr(Y_train, Y_hat_train)\n",
    "fpr_test,tpr_test = fpr_tpr(Y_test, Y_hat_test)\n",
    "fpr_valid,tpr_valid = fpr_tpr(Y_valid, Y_hat_valid)\n",
    "print('Training score for the', metric_name, 'metric = %5.4f' % scoring_function(Y_train, Y_hat_train))\n",
    "print('Ideal score for the', metric_name, 'metric = %5.4f' % scoring_function(Y_train, Y_hat_train))\n",
    "print('Test score for the', metric_name, 'metric = %5.4f' % scoring_function(Y_test, Y_hat_test))\n",
    "print('Valid score for the', metric_name, 'metric = %5.4f' % scoring_function(Y_valid, Y_hat_valid))\n",
    "\n",
    "#Confusion matrix for AUC_metric\n",
    "from sklearn.metrics import confusion_matrix\n",
    "import seaborn as sn\n",
    "import matplotlib.pyplot as plt\n",
    "def plot_cm_matrix(solution,prediction,title) : \n",
    "    cm = confusion_matrix(solution, prediction)\n",
    "    df_cm = pd.DataFrame(cm, index = [i for i in \"01\"],columns = [i for i in \"01\"])\n",
    "    plt.figure(figsize = (5,3))\n",
    "    sn.heatmap(df_cm, annot=True)\n",
    "    plt.title(title)\n",
    "\n",
    "def plot_ROC(fpr,tpr,title) :\n",
    "    plt.figure(figsize = (5,3))\n",
    "    plt.plot(fpr,tpr)\n",
    "    plt.title(title)\n",
    "\n",
    "plot_cm_matrix(Y_train,Y_hat_train,\"Confusion matrix for train data\") \n",
    "plot_ROC(fpr_train,tpr_train,\"ROC curve for train data\")\n",
    "plot_cm_matrix(Y_test,Y_hat_test,\"Confusion matrix for test data\") \n",
    "plot_ROC(fpr_test,tpr_test,\"ROC curve for test data\")\n",
    "plot_cm_matrix(Y_valid,Y_hat_valid,\"Confusion matrix for valid data\") \n",
    "plot_ROC(fpr_valid,tpr_valid,\"ROC curve for valid data\")"
   ]
  },
  {
   "cell_type": "markdown",
   "metadata": {},
   "source": [
    "<div style=\"background:#FFFFAA\">\n",
    "    <h3>Cross-validation performance</h3>\n",
    "    <p>\n",
    "The participants do not have access to the labels Y_valid and Y_test to self-assess their validation and test performances. But training performance is not a good prediction of validation or test performance. Using cross-validation, the training data is split into multiple training/test folds, which allows participants to self-assess their model during development. The average CV result and 95% confidence interval is displayed.\n",
    "   </div>"
   ]
  },
  {
   "cell_type": "code",
   "execution_count": 24,
   "metadata": {},
   "outputs": [
    {
     "name": "stdout",
     "output_type": "stream",
     "text": [
      "FIT: dim(X)= [43, 50176]\n",
      "FIT: dim(y)= [43, 1]\n",
      "PREDICT: dim(X)= [11, 50176]\n",
      "PREDICT: dim(y)= [11, 1]\n",
      "FIT: dim(X)= [43, 50176]\n",
      "FIT: dim(y)= [43, 1]\n",
      "PREDICT: dim(X)= [11, 50176]\n",
      "PREDICT: dim(y)= [11, 1]\n",
      "FIT: dim(X)= [43, 50176]\n",
      "FIT: dim(y)= [43, 1]\n",
      "PREDICT: dim(X)= [11, 50176]\n",
      "PREDICT: dim(y)= [11, 1]\n",
      "FIT: dim(X)= [43, 50176]\n",
      "FIT: dim(y)= [43, 1]\n",
      "PREDICT: dim(X)= [11, 50176]\n",
      "PREDICT: dim(y)= [11, 1]\n",
      "FIT: dim(X)= [44, 50176]\n",
      "FIT: dim(y)= [44, 1]\n",
      "PREDICT: dim(X)= [10, 50176]\n",
      "PREDICT: dim(y)= [10, 1]\n",
      "\n",
      "CV score (95 perc. CI): 0.83 (+/- 0.20)\n"
     ]
    }
   ],
   "source": [
    "from sklearn.metrics import make_scorer\n",
    "from sklearn.model_selection import cross_val_score\n",
    "scores = cross_val_score(M, X_train, Y_train, cv=5, scoring=make_scorer(scoring_function))\n",
    "print('\\nCV score (95 perc. CI): %0.2f (+/- %0.2f)' % (scores.mean(), scores.std() * 2))"
   ]
  },
  {
   "cell_type": "markdown",
   "metadata": {},
   "source": [
    "<div style=\"background:#FFFFAA\">\n",
    "<h1> Step 3: Making a submission </h1> \n",
    "\n",
    "<h2> Unit testing </h2> \n",
    "\n",
    "It is <b><span style=\"color:red\">important that you test your submission files before submitting them</span></b>. All you have to do to make a submission is modify the file <code>model.py</code> in the <code>sample_code_submission/</code> directory, then run this test to make sure everything works fine. This is the actual program that will be run on the server to test your submission. \n",
    "<br>\n",
    "Keep the sample code simple.\n",
    "</div>"
   ]
  },
  {
   "cell_type": "code",
   "execution_count": null,
   "metadata": {
    "scrolled": true
   },
   "outputs": [],
   "source": [
    "!python $problem_dir/ingestion.py $data_dir $result_dir $problem_dir $model_dir"
   ]
  },
  {
   "cell_type": "markdown",
   "metadata": {},
   "source": [
    "<div style=\"background:#FFFFAA\">\n",
    "Also test the scoring program:\n",
    "    </div>"
   ]
  },
  {
   "cell_type": "code",
   "execution_count": 16,
   "metadata": {},
   "outputs": [
    {
     "name": "stdout",
     "output_type": "stream",
     "text": [
      "======= Set 1 (Perso_test): accuracy_score(set1_score)=0.920000000000 =======\r\n",
      "======= Set 2 (Perso_train): accuracy_score(set2_score)=1.000000000000 =======\r\n",
      "======= Set 3 (Perso_valid): accuracy_score(set3_score)=0.900000000000 =======\r\n"
     ]
    }
   ],
   "source": [
    "scoring_output_dir = '../scoring_output_dir'\n",
    "!python $score_dir/score.py $data_dir $result_dir $scoring_output_dir"
   ]
  },
  {
   "cell_type": "markdown",
   "metadata": {
    "collapsed": true
   },
   "source": [
    "<div style=\"background:#FFFFAA\">\n",
    "    <h1> Preparing the submission </h1>\n",
    "\n",
    "Zip the contents of `sample_code_submission/` (without the directory), or download the challenge public_data and run the command in the previous cell, after replacing sample_data by public_data.\n",
    "Then zip the contents of `sample_result_submission/` (without the directory).\n",
    "<b><span style=\"color:red\">Do NOT zip the data with your submissions</span></b>."
   ]
  },
  {
   "cell_type": "code",
   "execution_count": 17,
   "metadata": {},
   "outputs": [
    {
     "name": "stdout",
     "output_type": "stream",
     "text": [
      "Submit one of these files:\n",
      "../sample_code_submission_18-11-21-19-52.zip\n",
      "../sample_result_submission_18-11-21-19-52.zip\n"
     ]
    }
   ],
   "source": [
    "import datetime \n",
    "from data_io import zipdir\n",
    "the_date = datetime.datetime.now().strftime(\"%y-%m-%d-%H-%M\")\n",
    "sample_code_submission = '../sample_code_submission_' + the_date + '.zip'\n",
    "sample_result_submission = '../sample_result_submission_' + the_date + '.zip'\n",
    "zipdir(sample_code_submission, model_dir)\n",
    "zipdir(sample_result_submission, result_dir)\n",
    "print(\"Submit one of these files:\\n\" + sample_code_submission + \"\\n\" + sample_result_submission)"
   ]
  }
 ],
 "metadata": {
  "kernelspec": {
   "display_name": "Python 3",
   "language": "python",
   "name": "python3"
  },
  "language_info": {
   "codemirror_mode": {
    "name": "ipython",
    "version": 3
   },
   "file_extension": ".py",
   "mimetype": "text/x-python",
   "name": "python",
   "nbconvert_exporter": "python",
   "pygments_lexer": "ipython3",
   "version": "3.7.0"
  }
 },
 "nbformat": 4,
 "nbformat_minor": 1
}
