{
 "cells": [
  {
   "cell_type": "code",
   "execution_count": 1,
   "metadata": {},
   "outputs": [],
   "source": [
    "# coding=utf-8\n",
    "import requests\n",
    "from bs4 import BeautifulSoup\n",
    "import json\n",
    "import urllib.request \n",
    "import os\n",
    "import sys"
   ]
  },
  {
   "cell_type": "code",
   "execution_count": 2,
   "metadata": {},
   "outputs": [
    {
     "name": "stdout",
     "output_type": "stream",
     "text": [
      "2700\n"
     ]
    }
   ],
   "source": [
    "# we will save all the images in directory wikiArts\n",
    "dirName='wikiArts'\n",
    "if not os.path.exists(dirName):\n",
    "    os.makedirs(dirName)\n",
    "\n",
    "# for every artist, get the lien for his images\n",
    "# in the database, there are 2978 artists, but due to the error of theri server, I can only get 2700 artists \n",
    "with open(\"final.html\",\"r\") as f : \n",
    "    content = f.read()\n",
    "soup = BeautifulSoup(content,\"lxml\")\n",
    "ul =  soup.find(\"ul\", class_=\"wiki-artistgallery-container ng-isolate-scope\")\n",
    "href = []\n",
    "for ele in ul.find_all(\"a\") :   \n",
    "    href.append(ele[\"href\"])\n",
    "href = href[::2]\n",
    "# It should be 2700, because there aer 2700 artists\n",
    "print (len(href))"
   ]
  },
  {
   "cell_type": "code",
   "execution_count": 3,
   "metadata": {},
   "outputs": [],
   "source": [
    "# the name of all the artists\n",
    "nom = []\n",
    "i=0\n",
    "for ele in href :   \n",
    "    nom.append(ele.split('/')[-1])\n",
    "    href[i] = href[i] + \"/all-works/text-list\"\n",
    "    i+=1"
   ]
  },
  {
   "cell_type": "code",
   "execution_count": null,
   "metadata": {},
   "outputs": [],
   "source": [
    "# for every artist, make a directory\n",
    "url_base = \"https://www.wikiart.org\"\n",
    "err = 537\n",
    "for i in range(1370,len(nom)) :\n",
    "    name = nom[i]\n",
    "    lien = href[i]\n",
    "    if not os.path.exists(dirName+\"/\"+name):\n",
    "        os.makedirs(dirName+\"/\"+name)\n",
    "    directory = dirName+\"/\"+name\n",
    "    # go to the page where has all the works of ith artist\n",
    "    html=requests.get(lien)\n",
    "    soup = BeautifulSoup(html.text,\"lxml\")\n",
    "    ul =  soup.find(\"ul\", class_=\"painting-list-text\")\n",
    "    # for every work of this artist, we save the lien of the work in href_images\n",
    "    href_images = []\n",
    "    for ele in ul.find_all(\"a\") :   \n",
    "        href_images.append(url_base+ele[\"href\"])\n",
    "    # for every work, we save it in the directory of this artist\n",
    "    for ele in href_images[0:] : \n",
    "        try:\n",
    "            html_image = requests.get(ele)\n",
    "            soup = BeautifulSoup(html_image.text,\"lxml\")\n",
    "            img =  soup.find(\"img\", class_=\"ms-zoom-cursor\")\n",
    "        \n",
    "            src = img[\"src\"]\n",
    "            filename = src.split('/')[-1]\n",
    "            if not os.path.exists(\"./\"+directory+\"/\"+filename):\n",
    "            \n",
    "                urllib.request.urlretrieve(src,directory+\"/\"+filename)\n",
    "        \n",
    "        except (TypeError,ConnectionError,UnicodeEncodeError,ValueError,IndexError,OSError):\n",
    "            err+=1\n",
    "\n",
    "print(\"{} images are lost\".format(err))"
   ]
  }
 ],
 "metadata": {
  "kernelspec": {
   "display_name": "Python 3",
   "language": "python",
   "name": "python3"
  },
  "language_info": {
   "codemirror_mode": {
    "name": "ipython",
    "version": 3
   },
   "file_extension": ".py",
   "mimetype": "text/x-python",
   "name": "python",
   "nbconvert_exporter": "python",
   "pygments_lexer": "ipython3",
   "version": "3.6.6"
  },
  "varInspector": {
   "cols": {
    "lenName": 16,
    "lenType": 16,
    "lenVar": 40
   },
   "kernels_config": {
    "python": {
     "delete_cmd_postfix": "",
     "delete_cmd_prefix": "del ",
     "library": "var_list.py",
     "varRefreshCmd": "print(var_dic_list())"
    },
    "r": {
     "delete_cmd_postfix": ") ",
     "delete_cmd_prefix": "rm(",
     "library": "var_list.r",
     "varRefreshCmd": "cat(var_dic_list()) "
    }
   },
   "types_to_exclude": [
    "module",
    "function",
    "builtin_function_or_method",
    "instance",
    "_Feature"
   ],
   "window_display": false
  }
 },
 "nbformat": 4,
 "nbformat_minor": 2
}
