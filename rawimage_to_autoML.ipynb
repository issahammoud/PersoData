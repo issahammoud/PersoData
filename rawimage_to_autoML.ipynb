{
 "cells": [
  {
   "cell_type": "code",
   "execution_count": 1,
   "metadata": {},
   "outputs": [],
   "source": [
    "import pickle\n",
    "with open(\"raw_data.pickle\",\"rb\") as file1 : \n",
    "    d = pickle.load(file1)"
   ]
  },
  {
   "cell_type": "code",
   "execution_count": 11,
   "metadata": {
    "scrolled": false
   },
   "outputs": [
    {
     "data": {
      "text/plain": [
       "94081"
      ]
     },
     "execution_count": 11,
     "metadata": {},
     "output_type": "execute_result"
    }
   ],
   "source": [
    "len(d['paintings'])"
   ]
  },
  {
   "cell_type": "code",
   "execution_count": 12,
   "metadata": {},
   "outputs": [],
   "source": [
    "X = d['paintings'][:30]\n",
    "Y = d['labels'][:30]"
   ]
  },
  {
   "cell_type": "code",
   "execution_count": 4,
   "metadata": {},
   "outputs": [],
   "source": [
    "feats = []\n",
    "for i in range(128) : \n",
    "    for j in range(128) : \n",
    "        for k in range(3) : \n",
    "            if(k%3==0) : \n",
    "                temp = \"pixel_\"+str(i)+\"_\"+str(j)+\"_R\"\n",
    "            elif(k%3==1) : \n",
    "                temp = \"pixel_\"+str(i)+\"_\"+str(j)+\"_G\"\n",
    "            elif(k%3==2) : \n",
    "                temp = \"pixel_\"+str(i)+\"_\"+str(j)+\"_B\"\n",
    "            feats.append(temp)\n",
    "with open(\"starting_kit_real_image/sample_data/perso_feat.name\",\"w\") as f :\n",
    "    for item in feats : \n",
    "        f.write(\"%s\\n\" % item)"
   ]
  },
  {
   "cell_type": "code",
   "execution_count": 13,
   "metadata": {
    "scrolled": false
   },
   "outputs": [
    {
     "name": "stderr",
     "output_type": "stream",
     "text": [
      "100%|██████████| 30/30 [00:00<00:00, 226.05it/s]\n"
     ]
    }
   ],
   "source": [
    "## Paintings\n",
    "import tqdm\n",
    "X_s =[]\n",
    "for ele in tqdm.tqdm(X) : \n",
    "    img = ele.reshape(128*128*3)\n",
    "    X_s.append(img)\n",
    "X = X_s\n",
    "del X_s"
   ]
  },
  {
   "cell_type": "code",
   "execution_count": 14,
   "metadata": {},
   "outputs": [],
   "source": [
    "## split les data\n",
    "import numpy as np\n",
    "import pandas as pd\n",
    "c = list(zip(X, Y))"
   ]
  },
  {
   "cell_type": "code",
   "execution_count": 15,
   "metadata": {},
   "outputs": [],
   "source": [
    "train_set, valid_set, test_set = np.split(c, [int(.7*len(c)), int(.8*len(c))])"
   ]
  },
  {
   "cell_type": "code",
   "execution_count": 16,
   "metadata": {},
   "outputs": [],
   "source": [
    "l,t = zip(*train_set)\n",
    "np.savetxt('starting_kit_real_image/sample_data/perso_train.data',l[:50000],fmt='%d',delimiter=' ')\n",
    "np.savetxt('starting_kit_real_image/sample_data/perso_train.solution',t[:50000],fmt='%d',delimiter=' ')"
   ]
  },
  {
   "cell_type": "code",
   "execution_count": 17,
   "metadata": {},
   "outputs": [],
   "source": [
    "l,t = zip(*test_set)\n",
    "np.savetxt('starting_kit_real_image/sample_data/perso_test.data',l,fmt='%d',delimiter=' ')\n",
    "np.savetxt('starting_kit_real_image/sample_data/perso_test.solution',t,fmt='%d',delimiter=' ')"
   ]
  },
  {
   "cell_type": "code",
   "execution_count": 18,
   "metadata": {},
   "outputs": [],
   "source": [
    "l,t = zip(*valid_set)\n",
    "np.savetxt('starting_kit_real_image/sample_data/perso_valid.data',l,fmt='%d',delimiter=' ')\n",
    "np.savetxt('starting_kit_real_image/sample_data/perso_valid.solution',t,fmt='%d',delimiter=' ')"
   ]
  }
 ],
 "metadata": {
  "kernelspec": {
   "display_name": "Python 3",
   "language": "python",
   "name": "python3"
  },
  "language_info": {
   "codemirror_mode": {
    "name": "ipython",
    "version": 3
   },
   "file_extension": ".py",
   "mimetype": "text/x-python",
   "name": "python",
   "nbconvert_exporter": "python",
   "pygments_lexer": "ipython3",
   "version": "3.7.0"
  }
 },
 "nbformat": 4,
 "nbformat_minor": 2
}
