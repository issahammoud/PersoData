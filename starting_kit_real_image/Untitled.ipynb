{
 "cells": [
  {
   "cell_type": "code",
   "execution_count": 1,
   "metadata": {
    "collapsed": true
   },
   "outputs": [],
   "source": [
    "import pickle\n",
    "with open(\"raw_data.pickle\",\"rb\") as file1 : \n",
    "    d = pickle.load(file1)"
   ]
  },
  {
   "cell_type": "code",
   "execution_count": 2,
   "metadata": {
    "collapsed": false
   },
   "outputs": [
    {
     "data": {
      "text/plain": [
       "{'labels': array([0, 0, 1, ..., 0, 1, 0]),\n",
       " 'paintings': array([[[[136, 149, 122],\n",
       "          [132, 143, 114],\n",
       "          [125, 131,  99],\n",
       "          ...,\n",
       "          [ 83, 132, 137],\n",
       "          [100, 150, 154],\n",
       "          [108, 159, 163]],\n",
       " \n",
       "         [[129, 141, 115],\n",
       "          [126, 136, 108],\n",
       "          [122, 125,  93],\n",
       "          ...,\n",
       "          [ 89, 139, 146],\n",
       "          [105, 156, 161],\n",
       "          [114, 164, 169]],\n",
       " \n",
       "         [[115, 125, 102],\n",
       "          [115, 121,  95],\n",
       "          [114, 112,  83],\n",
       "          ...,\n",
       "          [100, 154, 162],\n",
       "          [117, 167, 175],\n",
       "          [125, 174, 181]],\n",
       " \n",
       "         ...,\n",
       " \n",
       "         [[103,  86,  64],\n",
       "          [105,  86,  64],\n",
       "          [109,  88,  63],\n",
       "          ...,\n",
       "          [ 61,  58, 117],\n",
       "          [ 63,  63, 121],\n",
       "          [ 65,  66, 124]],\n",
       " \n",
       "         [[107,  97,  84],\n",
       "          [110,  99,  85],\n",
       "          [116, 103,  88],\n",
       "          ...,\n",
       "          [ 61,  68, 132],\n",
       "          [ 66,  74, 134],\n",
       "          [ 69,  77, 135]],\n",
       " \n",
       "         [[109, 103,  94],\n",
       "          [112, 105,  96],\n",
       "          [119, 110, 100],\n",
       "          ...,\n",
       "          [ 61,  73, 140],\n",
       "          [ 68,  79, 141],\n",
       "          [ 71,  82, 141]]],\n",
       " \n",
       " \n",
       "        [[[103,  62,  58],\n",
       "          [ 94,  55,  51],\n",
       "          [ 75,  42,  38],\n",
       "          ...,\n",
       "          [ 39,  37,  25],\n",
       "          [ 44,  45,  30],\n",
       "          [ 46,  49,  33]],\n",
       " \n",
       "         [[103,  63,  56],\n",
       "          [ 95,  57,  50],\n",
       "          [ 79,  45,  40],\n",
       "          ...,\n",
       "          [ 37,  36,  24],\n",
       "          [ 42,  44,  31],\n",
       "          [ 45,  48,  34]],\n",
       " \n",
       "         [[104,  64,  51],\n",
       "          [ 98,  60,  49],\n",
       "          [ 88,  51,  43],\n",
       "          ...,\n",
       "          [ 32,  34,  23],\n",
       "          [ 40,  43,  32],\n",
       "          [ 44,  47,  36]],\n",
       " \n",
       "         ...,\n",
       " \n",
       "         [[162, 196, 186],\n",
       "          [157, 192, 181],\n",
       "          [148, 184, 170],\n",
       "          ...,\n",
       "          [119, 162, 155],\n",
       "          [116, 154, 144],\n",
       "          [115, 149, 138]],\n",
       " \n",
       "         [[153, 189, 184],\n",
       "          [150, 186, 180],\n",
       "          [144, 182, 173],\n",
       "          ...,\n",
       "          [120, 158, 149],\n",
       "          [117, 151, 141],\n",
       "          [116, 148, 137]],\n",
       " \n",
       "         [[148, 185, 183],\n",
       "          [146, 183, 180],\n",
       "          [142, 180, 174],\n",
       "          ...,\n",
       "          [121, 156, 146],\n",
       "          [118, 150, 139],\n",
       "          [116, 147, 136]]],\n",
       " \n",
       " \n",
       "        [[[ 41,  40,  65],\n",
       "          [ 45,  42,  63],\n",
       "          [ 48,  44,  65],\n",
       "          ...,\n",
       "          [ 69,  74,  90],\n",
       "          [ 57,  58,  80],\n",
       "          [ 51,  44,  70]],\n",
       " \n",
       "         [[ 46,  39,  66],\n",
       "          [ 49,  40,  63],\n",
       "          [ 53,  42,  65],\n",
       "          ...,\n",
       "          [ 64,  69,  79],\n",
       "          [ 58,  53,  72],\n",
       "          [ 59,  43,  66]],\n",
       " \n",
       "         [[ 50,  41,  67],\n",
       "          [ 50,  39,  64],\n",
       "          [ 48,  40,  61],\n",
       "          ...,\n",
       "          [ 56,  66,  76],\n",
       "          [ 52,  56,  74],\n",
       "          [ 54,  48,  72]],\n",
       " \n",
       "         ...,\n",
       " \n",
       "         [[ 48,  37,  50],\n",
       "          [ 49,  37,  51],\n",
       "          [ 50,  39,  55],\n",
       "          ...,\n",
       "          [ 51,  37,  46],\n",
       "          [ 52,  50,  42],\n",
       "          [ 52,  44,  45]],\n",
       " \n",
       "         [[ 50,  39,  55],\n",
       "          [ 50,  39,  53],\n",
       "          [ 50,  39,  55],\n",
       "          ...,\n",
       "          [ 47,  40,  44],\n",
       "          [ 52,  53,  43],\n",
       "          [ 56,  47,  45]],\n",
       " \n",
       "         [[ 51,  40,  56],\n",
       "          [ 52,  39,  54],\n",
       "          [ 48,  37,  54],\n",
       "          ...,\n",
       "          [ 51,  41,  46],\n",
       "          [ 49,  59,  45],\n",
       "          [ 56,  54,  51]]],\n",
       " \n",
       " \n",
       "        ...,\n",
       " \n",
       " \n",
       "        [[[209, 200, 205],\n",
       "          [207, 197, 203],\n",
       "          [203, 192, 200],\n",
       "          ...,\n",
       "          [160, 185, 201],\n",
       "          [167, 189, 202],\n",
       "          [170, 191, 202]],\n",
       " \n",
       "         [[209, 200, 207],\n",
       "          [206, 198, 205],\n",
       "          [202, 193, 203],\n",
       "          ...,\n",
       "          [160, 186, 201],\n",
       "          [167, 189, 202],\n",
       "          [170, 191, 202]],\n",
       " \n",
       "         [[208, 201, 210],\n",
       "          [205, 199, 209],\n",
       "          [199, 194, 207],\n",
       "          ...,\n",
       "          [161, 187, 202],\n",
       "          [167, 190, 202],\n",
       "          [170, 191, 202]],\n",
       " \n",
       "         ...,\n",
       " \n",
       "         [[ 62, 104, 135],\n",
       "          [ 58,  98, 130],\n",
       "          [ 52,  88, 121],\n",
       "          ...,\n",
       "          [ 18,  47,  72],\n",
       "          [ 21,  55,  81],\n",
       "          [ 23,  59,  86]],\n",
       " \n",
       "         [[ 63, 105, 136],\n",
       "          [ 61, 101, 133],\n",
       "          [ 55,  94, 128],\n",
       "          ...,\n",
       "          [ 20,  52,  78],\n",
       "          [ 23,  57,  84],\n",
       "          [ 25,  60,  87]],\n",
       " \n",
       "         [[ 64, 105, 136],\n",
       "          [ 62, 102, 134],\n",
       "          [ 57,  97, 131],\n",
       "          ...,\n",
       "          [ 21,  54,  81],\n",
       "          [ 24,  59,  85],\n",
       "          [ 26,  61,  87]]],\n",
       " \n",
       " \n",
       "        [[[125, 170, 174],\n",
       "          [114, 163, 170],\n",
       "          [134, 169, 169],\n",
       "          ...,\n",
       "          [131, 159, 167],\n",
       "          [134, 165, 166],\n",
       "          [167, 189, 188]],\n",
       " \n",
       "         [[131, 162, 161],\n",
       "          [ 98, 153, 165],\n",
       "          [117, 155, 156],\n",
       "          ...,\n",
       "          [135, 161, 163],\n",
       "          [126, 161, 161],\n",
       "          [156, 180, 182]],\n",
       " \n",
       "         [[124, 157, 139],\n",
       "          [100, 154, 158],\n",
       "          [ 98, 151, 156],\n",
       "          ...,\n",
       "          [140, 158, 155],\n",
       "          [122, 153, 153],\n",
       "          [143, 170, 176]],\n",
       " \n",
       "         ...,\n",
       " \n",
       "         [[ 50, 103, 116],\n",
       "          [ 14,  51,  70],\n",
       "          [  8,  17,  31],\n",
       "          ...,\n",
       "          [ 79, 106, 143],\n",
       "          [ 81, 104, 144],\n",
       "          [118, 145, 161]],\n",
       " \n",
       "         [[ 90, 141, 147],\n",
       "          [ 22,  61,  73],\n",
       "          [  8,  14,  23],\n",
       "          ...,\n",
       "          [ 53,  62,  66],\n",
       "          [ 66,  83,  91],\n",
       "          [ 83, 106, 111]],\n",
       " \n",
       "         [[119, 154, 155],\n",
       "          [ 43,  76,  85],\n",
       "          [ 14,  29,  42],\n",
       "          ...,\n",
       "          [ 63,  82,  95],\n",
       "          [ 81, 104, 112],\n",
       "          [ 85, 112, 116]]],\n",
       " \n",
       " \n",
       "        [[[207, 146, 133],\n",
       "          [207, 143, 130],\n",
       "          [208, 136, 124],\n",
       "          ...,\n",
       "          [186, 159, 165],\n",
       "          [187, 172, 178],\n",
       "          [188, 179, 185]],\n",
       " \n",
       "         [[209, 146, 131],\n",
       "          [209, 143, 129],\n",
       "          [211, 137, 126],\n",
       "          ...,\n",
       "          [186, 158, 161],\n",
       "          [188, 169, 172],\n",
       "          [190, 175, 178]],\n",
       " \n",
       "         [[212, 145, 127],\n",
       "          [213, 143, 128],\n",
       "          [216, 140, 130],\n",
       "          ...,\n",
       "          [188, 155, 151],\n",
       "          [191, 164, 160],\n",
       "          [193, 168, 165]],\n",
       " \n",
       "         ...,\n",
       " \n",
       "         [[ 33,  44,  48],\n",
       "          [ 34,  45,  50],\n",
       "          [ 35,  47,  55],\n",
       "          ...,\n",
       "          [ 36,  66, 133],\n",
       "          [ 45,  80, 137],\n",
       "          [ 50,  87, 139]],\n",
       " \n",
       "         [[ 40,  51,  55],\n",
       "          [ 41,  53,  58],\n",
       "          [ 44,  58,  65],\n",
       "          ...,\n",
       "          [ 41,  78, 142],\n",
       "          [ 50,  90, 146],\n",
       "          [ 55,  96, 148]],\n",
       " \n",
       "         [[ 43,  54,  58],\n",
       "          [ 45,  57,  62],\n",
       "          [ 48,  63,  71],\n",
       "          ...,\n",
       "          [ 44,  84, 147],\n",
       "          [ 53,  95, 150],\n",
       "          [ 57, 100, 152]]]], dtype=uint8)}"
      ]
     },
     "execution_count": 2,
     "metadata": {},
     "output_type": "execute_result"
    }
   ],
   "source": [
    "d"
   ]
  },
  {
   "cell_type": "code",
   "execution_count": 3,
   "metadata": {
    "collapsed": false,
    "scrolled": false
   },
   "outputs": [
    {
     "data": {
      "text/plain": [
       "94081"
      ]
     },
     "execution_count": 3,
     "metadata": {},
     "output_type": "execute_result"
    }
   ],
   "source": [
    "len(d['paintings'])"
   ]
  },
  {
   "cell_type": "code",
   "execution_count": 4,
   "metadata": {
    "collapsed": false,
    "scrolled": true
   },
   "outputs": [
    {
     "data": {
      "text/plain": [
       "3"
      ]
     },
     "execution_count": 4,
     "metadata": {},
     "output_type": "execute_result"
    }
   ],
   "source": [
    "len(d['paintings'][0][0][0])"
   ]
  },
  {
   "cell_type": "code",
   "execution_count": 5,
   "metadata": {
    "collapsed": false,
    "scrolled": true
   },
   "outputs": [
    {
     "data": {
      "image/png": "[encoded data removed]",
      "text/plain": [
       "<Figure size 432x288 with 1 Axes>"
      ]
     },
     "metadata": {
      "needs_background": "light"
     },
     "output_type": "display_data"
    }
   ],
   "source": [
    "%matplotlib inline \n",
    "from matplotlib import pyplot as plt\n",
    "plt.imshow(d['paintings'][0], interpolation='nearest')\n",
    "plt.show()"
   ]
  },
  {
   "cell_type": "code",
   "execution_count": 6,
   "metadata": {
    "collapsed": false,
    "scrolled": false
   },
   "outputs": [
    {
     "data": {
      "image/png": "[encoded data removed]",
      "text/plain": [
       "<Figure size 432x288 with 1 Axes>"
      ]
     },
     "metadata": {
      "needs_background": "light"
     },
     "output_type": "display_data"
    }
   ],
   "source": [
    "X = d['paintings']\n",
    "Y = d['labels']\n",
    "%matplotlib inline \n",
    "from matplotlib import pyplot as plt\n",
    "plt.imshow(X[0], interpolation='nearest')\n",
    "plt.show()"
   ]
  },
  {
   "cell_type": "code",
   "execution_count": 7,
   "metadata": {
    "collapsed": false
   },
   "outputs": [],
   "source": [
    "import numpy as np\n",
    "a = []\n",
    "for image in X : \n",
    "    a.append(np.mean(image,axis=2).reshape(128*128))"
   ]
  },
  {
   "cell_type": "code",
   "execution_count": 8,
   "metadata": {
    "collapsed": false
   },
   "outputs": [
    {
     "data": {
      "text/plain": [
       "(16384,)"
      ]
     },
     "execution_count": 8,
     "metadata": {},
     "output_type": "execute_result"
    }
   ],
   "source": [
    "a[0].shape"
   ]
  },
  {
   "cell_type": "code",
   "execution_count": 9,
   "metadata": {
    "collapsed": false,
    "scrolled": false
   },
   "outputs": [
    {
     "ename": "TypeError",
     "evalue": "Invalid dimensions for image data",
     "output_type": "error",
     "traceback": [
      "\u001b[0;31m---------------------------------------------------------------------------\u001b[0m",
      "\u001b[0;31mTypeError\u001b[0m                                 Traceback (most recent call last)",
      "\u001b[0;32m<ipython-input-9-7fb78a06229a>\u001b[0m in \u001b[0;36m<module>\u001b[0;34m\u001b[0m\n\u001b[1;32m      1\u001b[0m \u001b[0mget_ipython\u001b[0m\u001b[0;34m(\u001b[0m\u001b[0;34m)\u001b[0m\u001b[0;34m.\u001b[0m\u001b[0mrun_line_magic\u001b[0m\u001b[0;34m(\u001b[0m\u001b[0;34m'matplotlib'\u001b[0m\u001b[0;34m,\u001b[0m \u001b[0;34m'inline '\u001b[0m\u001b[0;34m)\u001b[0m\u001b[0;34m\u001b[0m\u001b[0m\n\u001b[1;32m      2\u001b[0m \u001b[0;32mfrom\u001b[0m \u001b[0mmatplotlib\u001b[0m \u001b[0;32mimport\u001b[0m \u001b[0mpyplot\u001b[0m \u001b[0;32mas\u001b[0m \u001b[0mplt\u001b[0m\u001b[0;34m\u001b[0m\u001b[0m\n\u001b[0;32m----> 3\u001b[0;31m \u001b[0mplt\u001b[0m\u001b[0;34m.\u001b[0m\u001b[0mimshow\u001b[0m\u001b[0;34m(\u001b[0m\u001b[0ma\u001b[0m\u001b[0;34m[\u001b[0m\u001b[0;36m0\u001b[0m\u001b[0;34m]\u001b[0m\u001b[0;34m,\u001b[0m \u001b[0minterpolation\u001b[0m\u001b[0;34m=\u001b[0m\u001b[0;34m'nearest'\u001b[0m\u001b[0;34m)\u001b[0m\u001b[0;34m\u001b[0m\u001b[0m\n\u001b[0m\u001b[1;32m      4\u001b[0m \u001b[0mplt\u001b[0m\u001b[0;34m.\u001b[0m\u001b[0mshow\u001b[0m\u001b[0;34m(\u001b[0m\u001b[0;34m)\u001b[0m\u001b[0;34m\u001b[0m\u001b[0m\n",
      "\u001b[0;32m~/Desktop/tp3/envtp/lib/python3.5/site-packages/matplotlib/pyplot.py\u001b[0m in \u001b[0;36mimshow\u001b[0;34m(X, cmap, norm, aspect, interpolation, alpha, vmin, vmax, origin, extent, shape, filternorm, filterrad, imlim, resample, url, data, **kwargs)\u001b[0m\n\u001b[1;32m   2651\u001b[0m         \u001b[0mvmax\u001b[0m\u001b[0;34m=\u001b[0m\u001b[0mvmax\u001b[0m\u001b[0;34m,\u001b[0m \u001b[0morigin\u001b[0m\u001b[0;34m=\u001b[0m\u001b[0morigin\u001b[0m\u001b[0;34m,\u001b[0m \u001b[0mextent\u001b[0m\u001b[0;34m=\u001b[0m\u001b[0mextent\u001b[0m\u001b[0;34m,\u001b[0m \u001b[0mshape\u001b[0m\u001b[0;34m=\u001b[0m\u001b[0mshape\u001b[0m\u001b[0;34m,\u001b[0m\u001b[0;34m\u001b[0m\u001b[0m\n\u001b[1;32m   2652\u001b[0m         \u001b[0mfilternorm\u001b[0m\u001b[0;34m=\u001b[0m\u001b[0mfilternorm\u001b[0m\u001b[0;34m,\u001b[0m \u001b[0mfilterrad\u001b[0m\u001b[0;34m=\u001b[0m\u001b[0mfilterrad\u001b[0m\u001b[0;34m,\u001b[0m \u001b[0mimlim\u001b[0m\u001b[0;34m=\u001b[0m\u001b[0mimlim\u001b[0m\u001b[0;34m,\u001b[0m\u001b[0;34m\u001b[0m\u001b[0m\n\u001b[0;32m-> 2653\u001b[0;31m         resample=resample, url=url, data=data, **kwargs)\n\u001b[0m\u001b[1;32m   2654\u001b[0m     \u001b[0msci\u001b[0m\u001b[0;34m(\u001b[0m\u001b[0m__ret\u001b[0m\u001b[0;34m)\u001b[0m\u001b[0;34m\u001b[0m\u001b[0m\n\u001b[1;32m   2655\u001b[0m     \u001b[0;32mreturn\u001b[0m \u001b[0m__ret\u001b[0m\u001b[0;34m\u001b[0m\u001b[0m\n",
      "\u001b[0;32m~/Desktop/tp3/envtp/lib/python3.5/site-packages/matplotlib/__init__.py\u001b[0m in \u001b[0;36minner\u001b[0;34m(ax, data, *args, **kwargs)\u001b[0m\n\u001b[1;32m   1783\u001b[0m                         \u001b[0;34m\"the Matplotlib list!)\"\u001b[0m \u001b[0;34m%\u001b[0m \u001b[0;34m(\u001b[0m\u001b[0mlabel_namer\u001b[0m\u001b[0;34m,\u001b[0m \u001b[0mfunc\u001b[0m\u001b[0;34m.\u001b[0m\u001b[0m__name__\u001b[0m\u001b[0;34m)\u001b[0m\u001b[0;34m,\u001b[0m\u001b[0;34m\u001b[0m\u001b[0m\n\u001b[1;32m   1784\u001b[0m                         RuntimeWarning, stacklevel=2)\n\u001b[0;32m-> 1785\u001b[0;31m             \u001b[0;32mreturn\u001b[0m \u001b[0mfunc\u001b[0m\u001b[0;34m(\u001b[0m\u001b[0max\u001b[0m\u001b[0;34m,\u001b[0m \u001b[0;34m*\u001b[0m\u001b[0margs\u001b[0m\u001b[0;34m,\u001b[0m \u001b[0;34m**\u001b[0m\u001b[0mkwargs\u001b[0m\u001b[0;34m)\u001b[0m\u001b[0;34m\u001b[0m\u001b[0m\n\u001b[0m\u001b[1;32m   1786\u001b[0m \u001b[0;34m\u001b[0m\u001b[0m\n\u001b[1;32m   1787\u001b[0m         inner.__doc__ = _add_data_doc(inner.__doc__,\n",
      "\u001b[0;32m~/Desktop/tp3/envtp/lib/python3.5/site-packages/matplotlib/axes/_axes.py\u001b[0m in \u001b[0;36mimshow\u001b[0;34m(self, X, cmap, norm, aspect, interpolation, alpha, vmin, vmax, origin, extent, shape, filternorm, filterrad, imlim, resample, url, **kwargs)\u001b[0m\n\u001b[1;32m   5470\u001b[0m                               resample=resample, **kwargs)\n\u001b[1;32m   5471\u001b[0m \u001b[0;34m\u001b[0m\u001b[0m\n\u001b[0;32m-> 5472\u001b[0;31m         \u001b[0mim\u001b[0m\u001b[0;34m.\u001b[0m\u001b[0mset_data\u001b[0m\u001b[0;34m(\u001b[0m\u001b[0mX\u001b[0m\u001b[0;34m)\u001b[0m\u001b[0;34m\u001b[0m\u001b[0m\n\u001b[0m\u001b[1;32m   5473\u001b[0m         \u001b[0mim\u001b[0m\u001b[0;34m.\u001b[0m\u001b[0mset_alpha\u001b[0m\u001b[0;34m(\u001b[0m\u001b[0malpha\u001b[0m\u001b[0;34m)\u001b[0m\u001b[0;34m\u001b[0m\u001b[0m\n\u001b[1;32m   5474\u001b[0m         \u001b[0;32mif\u001b[0m \u001b[0mim\u001b[0m\u001b[0;34m.\u001b[0m\u001b[0mget_clip_path\u001b[0m\u001b[0;34m(\u001b[0m\u001b[0;34m)\u001b[0m \u001b[0;32mis\u001b[0m \u001b[0;32mNone\u001b[0m\u001b[0;34m:\u001b[0m\u001b[0;34m\u001b[0m\u001b[0m\n",
      "\u001b[0;32m~/Desktop/tp3/envtp/lib/python3.5/site-packages/matplotlib/image.py\u001b[0m in \u001b[0;36mset_data\u001b[0;34m(self, A)\u001b[0m\n\u001b[1;32m    644\u001b[0m         if not (self._A.ndim == 2\n\u001b[1;32m    645\u001b[0m                 or self._A.ndim == 3 and self._A.shape[-1] in [3, 4]):\n\u001b[0;32m--> 646\u001b[0;31m             \u001b[0;32mraise\u001b[0m \u001b[0mTypeError\u001b[0m\u001b[0;34m(\u001b[0m\u001b[0;34m\"Invalid dimensions for image data\"\u001b[0m\u001b[0;34m)\u001b[0m\u001b[0;34m\u001b[0m\u001b[0m\n\u001b[0m\u001b[1;32m    647\u001b[0m \u001b[0;34m\u001b[0m\u001b[0m\n\u001b[1;32m    648\u001b[0m         \u001b[0;32mif\u001b[0m \u001b[0mself\u001b[0m\u001b[0;34m.\u001b[0m\u001b[0m_A\u001b[0m\u001b[0;34m.\u001b[0m\u001b[0mndim\u001b[0m \u001b[0;34m==\u001b[0m \u001b[0;36m3\u001b[0m\u001b[0;34m:\u001b[0m\u001b[0;34m\u001b[0m\u001b[0m\n",
      "\u001b[0;31mTypeError\u001b[0m: Invalid dimensions for image data"
     ]
    },
    {
     "data": {
      "image/png": "[encoded data removed]",
      "text/plain": [
       "<Figure size 432x288 with 1 Axes>"
      ]
     },
     "metadata": {
      "needs_background": "light"
     },
     "output_type": "display_data"
    }
   ],
   "source": [
    "%matplotlib inline \n",
    "from matplotlib import pyplot as plt\n",
    "plt.imshow(a[0], interpolation='nearest')\n",
    "plt.show()"
   ]
  },
  {
   "cell_type": "code",
   "execution_count": 10,
   "metadata": {
    "collapsed": true
   },
   "outputs": [],
   "source": [
    "from sklearn.model_selection import train_test_split\n",
    "X_train,X1,Y_train,Y1=train_test_split(a,Y,test_size=0.3)\n",
    "X_test,X_valid,Y_test,Y_valid=train_test_split(X1,Y1,test_size=1/3)"
   ]
  },
  {
   "cell_type": "code",
   "execution_count": 11,
   "metadata": {
    "collapsed": false
   },
   "outputs": [
    {
     "data": {
      "text/plain": [
       "65856"
      ]
     },
     "execution_count": 11,
     "metadata": {},
     "output_type": "execute_result"
    }
   ],
   "source": [
    "len(X_train)"
   ]
  },
  {
   "cell_type": "code",
   "execution_count": 12,
   "metadata": {
    "collapsed": false
   },
   "outputs": [
    {
     "data": {
      "text/plain": [
       "9409"
      ]
     },
     "execution_count": 12,
     "metadata": {},
     "output_type": "execute_result"
    }
   ],
   "source": [
    "len(X_valid)"
   ]
  },
  {
   "cell_type": "code",
   "execution_count": 13,
   "metadata": {
    "collapsed": false
   },
   "outputs": [],
   "source": [
    "l=Y_train[:700]\n",
    "t=X_train[:700]\n",
    "np.savetxt('sample_data/perso_train.data',t,fmt='%.6f',delimiter=' ')\n",
    "np.savetxt('sample_data/perso_train.solution',l,fmt='%d',delimiter=' ')"
   ]
  },
  {
   "cell_type": "code",
   "execution_count": 14,
   "metadata": {
    "collapsed": true
   },
   "outputs": [],
   "source": [
    "l=Y_test[:200]\n",
    "t=X_test[:200]\n",
    "np.savetxt('sample_data/perso_test.data',t,fmt='%.6f',delimiter=' ')\n",
    "np.savetxt('sample_data/perso_test.solution',l,fmt='%d',delimiter=' ')"
   ]
  },
  {
   "cell_type": "code",
   "execution_count": 15,
   "metadata": {
    "collapsed": true
   },
   "outputs": [],
   "source": [
    "l=Y_valid[:100]\n",
    "t=X_valid[:100]\n",
    "np.savetxt('sample_data/perso_valid.data',t,fmt='%.6f',delimiter=' ')\n",
    "np.savetxt('sample_data/perso_valid.solution',l,fmt='%d',delimiter=' ')"
   ]
  },
  {
   "cell_type": "code",
   "execution_count": null,
   "metadata": {
    "collapsed": false
   },
   "outputs": [],
   "source": [
    "len(X_test)"
   ]
  },
  {
   "cell_type": "code",
   "execution_count": null,
   "metadata": {
    "collapsed": true
   },
   "outputs": [],
   "source": []
  }
 ],
 "metadata": {
  "kernelspec": {
   "display_name": "Python 3",
   "language": "python",
   "name": "python3"
  },
  "language_info": {
   "codemirror_mode": {
    "name": "ipython",
    "version": 3
   },
   "file_extension": ".py",
   "mimetype": "text/x-python",
   "name": "python",
   "nbconvert_exporter": "python",
   "pygments_lexer": "ipython3",
   "version": "3.5.2"
  }
 },
 "nbformat": 4,
 "nbformat_minor": 2
}
