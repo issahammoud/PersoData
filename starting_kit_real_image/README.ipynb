{
 "cells": [
  {
   "cell_type": "markdown",
   "metadata": {},
   "source": [
    "<div style=\"background:#FFFFAA\">\n",
    "<img src=\"logo.jpg\", width=150, ALIGN=\"left\", border=20>\n",
    "<center>\n",
    "<h1>Sample Starting Kit </h1>\n",
    " <br>This code was tested with <br>\n",
    "Python 3.6.6 |Anaconda custom (64-bit)| (default, Jun 28 2018, 11:07:29) (https://anaconda.org/)<br>\n",
    "<i> Adapted for Chalab by Isabelle Guyon from original code of Balázs Kégl</i> <br>\n",
    "<a href=\"http://www.datascience-paris-saclay.fr\">Paris Saclay Center for Data Science (CDS)</a>\n",
    "</center>\n",
    "<br>\n",
    "<br>\n",
    "<br>\n",
    "<p>\n",
    "ALL INFORMATION, SOFTWARE, DOCUMENTATION, AND DATA ARE PROVIDED \"AS-IS\". The CDS, CHALEARN, AND/OR OTHER ORGANIZERS OR CODE AUTHORS DISCLAIM ANY EXPRESSED OR IMPLIED WARRANTIES, INCLUDING, BUT NOT LIMITED TO, THE IMPLIED WARRANTIES OF MERCHANTABILITY AND FITNESS FOR ANY PARTICULAR PURPOSE, AND THE WARRANTY OF NON-INFRIGEMENT OF ANY THIRD PARTY'S INTELLECTUAL PROPERTY RIGHTS. IN NO EVENT SHALL AUTHORS AND ORGANIZERS BE LIABLE FOR ANY SPECIAL, \n",
    "INDIRECT OR CONSEQUENTIAL DAMAGES OR ANY DAMAGES WHATSOEVER ARISING OUT OF OR IN CONNECTION WITH THE USE OR PERFORMANCE OF SOFTWARE, DOCUMENTS, MATERIALS, PUBLICATIONS, OR INFORMATION MADE AVAILABLE FOR THE CHALLENGE. \n",
    "</div>"
   ]
  },
  {
   "cell_type": "markdown",
   "metadata": {},
   "source": [
    "<div style=\"background:#FFFFAA\">\n",
    "    <h2>Introduction </h2>\n",
    "    <p>\n",
    "In an era where computer graphics techniques for image generation are reaching stunning levels of quality, it becomes more and more challenging to detect fake from true, authentic images. However, this raises a lot of legal issues, mainly dealing with forgery. This project focuses mainly on the efficiency of Generative Adversarial Network (GAN) algorithms for producing art forgery and we will try to beat the state-of-the-art models that detect it. In fact, the Fine Arts Expert Institute in Geneva estimates that as much as 50 percent of artworks currently in circulation may be forgeries. Although the standard approach for image classification which is deep neural networks and especially Convolutional Neural Networks (CNNs) works very well nowadays, GAN performs strongly on generating fake images. By focusing on the art forgery aspect, we will try to bring a more specific perspective on the issue of image forgery.\n",
    " \n",
    " <br>\n",
    "    <span style=\"color:red\"> Keep the next block. </span>\n",
    "</div>"
   ]
  },
  {
   "cell_type": "code",
   "execution_count": 64,
   "metadata": {
    "scrolled": false
   },
   "outputs": [
    {
     "name": "stdout",
     "output_type": "stream",
     "text": [
      "The autoreload extension is already loaded. To reload it, use:\n",
      "  %reload_ext autoreload\n"
     ]
    }
   ],
   "source": [
    "%reload_ext autoreload\n",
    "model_dir = 'sample_code_submission/'                        # Change the model to a better one once you have one!\n",
    "result_dir = 'sample_result_submission/' \n",
    "problem_dir = 'ingestion_program/'  \n",
    "score_dir = 'scoring_program/'\n",
    "from sys import path; path.append(model_dir); path.append(problem_dir); path.append(score_dir); \n",
    "%matplotlib inline\n",
    "# Uncomment the next lines to auto-reload libraries (this causes some problem with pickles in Python 3)\n",
    "%load_ext autoreload\n",
    "%autoreload 2\n",
    "import seaborn as sns; sns.set()\n",
    "import warnings\n",
    "warnings.simplefilter(action='ignore', category=FutureWarning)"
   ]
  },
  {
   "cell_type": "markdown",
   "metadata": {},
   "source": [
    "<div style=\"background:#FFFFAA\">\n",
    "    <h1> Step 1: Exploratory data analysis </h1>\n",
    "<p>\n",
    "We provide sample_data with the starting kit, but to prepare your submission, you must fetch the public_data from the challenge website and point to it.\n",
    "    <br>\n",
    "    <span style=\"color:red\"> Just change the data name in the block below. In the rest of the section, replace the sample plots by anything you want. </span>\n",
    "</div>"
   ]
  },
  {
   "cell_type": "code",
   "execution_count": 65,
   "metadata": {
    "scrolled": true
   },
   "outputs": [
    {
     "name": "stdout",
     "output_type": "stream",
     "text": [
      "perso_feat.name    perso_test.data\tperso_train.solution\r\n",
      "perso_label.name   perso_test.solution\tperso_valid.data\r\n",
      "perso_public.info  perso_train.data\tperso_valid.solution\r\n"
     ]
    }
   ],
   "source": [
    "#data_dir = 'sample_data'              # Change this to the directory where you put the input data\n",
    "data_dir = 'sample_data'          # The sample_data directory should contain only a very small subset of the data\n",
    "data_name = 'perso'\n",
    "!ls $data_dir"
   ]
  },
  {
   "cell_type": "code",
   "execution_count": 66,
   "metadata": {
    "scrolled": true
   },
   "outputs": [
    {
     "name": "stdout",
     "output_type": "stream",
     "text": [
      "Reading sample_data/perso_train from AutoML format\n",
      "Number of examples = 21\n",
      "Number of features = 49152\n",
      "   Class\n",
      "0  False\n",
      "1   True\n",
      "Number of classes = 2\n"
     ]
    }
   ],
   "source": [
    "from data_io import read_as_df\n",
    "data = read_as_df(data_dir  + '/' + data_name)          # The perso_data is loaded as a Pandas Data Frame"
   ]
  },
  {
   "cell_type": "code",
   "execution_count": 67,
   "metadata": {
    "scrolled": true
   },
   "outputs": [
    {
     "data": {
      "text/html": [
       "<div>\n",
       "<style scoped>\n",
       "    .dataframe tbody tr th:only-of-type {\n",
       "        vertical-align: middle;\n",
       "    }\n",
       "\n",
       "    .dataframe tbody tr th {\n",
       "        vertical-align: top;\n",
       "    }\n",
       "\n",
       "    .dataframe thead th {\n",
       "        text-align: right;\n",
       "    }\n",
       "</style>\n",
       "<table border=\"1\" class=\"dataframe\">\n",
       "  <thead>\n",
       "    <tr style=\"text-align: right;\">\n",
       "      <th></th>\n",
       "      <th>pixel_0_0_R</th>\n",
       "      <th>pixel_0_0_G</th>\n",
       "      <th>pixel_0_0_B</th>\n",
       "      <th>pixel_0_1_R</th>\n",
       "      <th>pixel_0_1_G</th>\n",
       "      <th>pixel_0_1_B</th>\n",
       "      <th>pixel_0_2_R</th>\n",
       "      <th>pixel_0_2_G</th>\n",
       "      <th>pixel_0_2_B</th>\n",
       "      <th>pixel_0_3_R</th>\n",
       "      <th>...</th>\n",
       "      <th>pixel_127_125_R</th>\n",
       "      <th>pixel_127_125_G</th>\n",
       "      <th>pixel_127_125_B</th>\n",
       "      <th>pixel_127_126_R</th>\n",
       "      <th>pixel_127_126_G</th>\n",
       "      <th>pixel_127_126_B</th>\n",
       "      <th>pixel_127_127_R</th>\n",
       "      <th>pixel_127_127_G</th>\n",
       "      <th>pixel_127_127_B</th>\n",
       "      <th>target</th>\n",
       "    </tr>\n",
       "  </thead>\n",
       "  <tbody>\n",
       "    <tr>\n",
       "      <th>0</th>\n",
       "      <td>136</td>\n",
       "      <td>149</td>\n",
       "      <td>122</td>\n",
       "      <td>132</td>\n",
       "      <td>143</td>\n",
       "      <td>114</td>\n",
       "      <td>125</td>\n",
       "      <td>131</td>\n",
       "      <td>99</td>\n",
       "      <td>117</td>\n",
       "      <td>...</td>\n",
       "      <td>61</td>\n",
       "      <td>73</td>\n",
       "      <td>140</td>\n",
       "      <td>68</td>\n",
       "      <td>79</td>\n",
       "      <td>141</td>\n",
       "      <td>71</td>\n",
       "      <td>82</td>\n",
       "      <td>141</td>\n",
       "      <td>False</td>\n",
       "    </tr>\n",
       "    <tr>\n",
       "      <th>1</th>\n",
       "      <td>103</td>\n",
       "      <td>62</td>\n",
       "      <td>58</td>\n",
       "      <td>94</td>\n",
       "      <td>55</td>\n",
       "      <td>51</td>\n",
       "      <td>75</td>\n",
       "      <td>42</td>\n",
       "      <td>38</td>\n",
       "      <td>63</td>\n",
       "      <td>...</td>\n",
       "      <td>121</td>\n",
       "      <td>156</td>\n",
       "      <td>146</td>\n",
       "      <td>118</td>\n",
       "      <td>150</td>\n",
       "      <td>139</td>\n",
       "      <td>116</td>\n",
       "      <td>147</td>\n",
       "      <td>136</td>\n",
       "      <td>False</td>\n",
       "    </tr>\n",
       "    <tr>\n",
       "      <th>2</th>\n",
       "      <td>41</td>\n",
       "      <td>40</td>\n",
       "      <td>65</td>\n",
       "      <td>45</td>\n",
       "      <td>42</td>\n",
       "      <td>63</td>\n",
       "      <td>48</td>\n",
       "      <td>44</td>\n",
       "      <td>65</td>\n",
       "      <td>47</td>\n",
       "      <td>...</td>\n",
       "      <td>51</td>\n",
       "      <td>41</td>\n",
       "      <td>46</td>\n",
       "      <td>49</td>\n",
       "      <td>59</td>\n",
       "      <td>45</td>\n",
       "      <td>56</td>\n",
       "      <td>54</td>\n",
       "      <td>51</td>\n",
       "      <td>True</td>\n",
       "    </tr>\n",
       "    <tr>\n",
       "      <th>3</th>\n",
       "      <td>168</td>\n",
       "      <td>177</td>\n",
       "      <td>152</td>\n",
       "      <td>165</td>\n",
       "      <td>173</td>\n",
       "      <td>147</td>\n",
       "      <td>160</td>\n",
       "      <td>164</td>\n",
       "      <td>138</td>\n",
       "      <td>158</td>\n",
       "      <td>...</td>\n",
       "      <td>59</td>\n",
       "      <td>95</td>\n",
       "      <td>127</td>\n",
       "      <td>63</td>\n",
       "      <td>98</td>\n",
       "      <td>133</td>\n",
       "      <td>65</td>\n",
       "      <td>100</td>\n",
       "      <td>136</td>\n",
       "      <td>False</td>\n",
       "    </tr>\n",
       "    <tr>\n",
       "      <th>4</th>\n",
       "      <td>141</td>\n",
       "      <td>122</td>\n",
       "      <td>103</td>\n",
       "      <td>143</td>\n",
       "      <td>124</td>\n",
       "      <td>103</td>\n",
       "      <td>148</td>\n",
       "      <td>128</td>\n",
       "      <td>104</td>\n",
       "      <td>151</td>\n",
       "      <td>...</td>\n",
       "      <td>247</td>\n",
       "      <td>246</td>\n",
       "      <td>242</td>\n",
       "      <td>246</td>\n",
       "      <td>245</td>\n",
       "      <td>241</td>\n",
       "      <td>246</td>\n",
       "      <td>245</td>\n",
       "      <td>241</td>\n",
       "      <td>False</td>\n",
       "    </tr>\n",
       "  </tbody>\n",
       "</table>\n",
       "<p>5 rows × 49153 columns</p>\n",
       "</div>"
      ],
      "text/plain": [
       "   pixel_0_0_R  pixel_0_0_G  pixel_0_0_B  pixel_0_1_R  pixel_0_1_G  \\\n",
       "0          136          149          122          132          143   \n",
       "1          103           62           58           94           55   \n",
       "2           41           40           65           45           42   \n",
       "3          168          177          152          165          173   \n",
       "4          141          122          103          143          124   \n",
       "\n",
       "   pixel_0_1_B  pixel_0_2_R  pixel_0_2_G  pixel_0_2_B  pixel_0_3_R   ...    \\\n",
       "0          114          125          131           99          117   ...     \n",
       "1           51           75           42           38           63   ...     \n",
       "2           63           48           44           65           47   ...     \n",
       "3          147          160          164          138          158   ...     \n",
       "4          103          148          128          104          151   ...     \n",
       "\n",
       "   pixel_127_125_R  pixel_127_125_G  pixel_127_125_B  pixel_127_126_R  \\\n",
       "0               61               73              140               68   \n",
       "1              121              156              146              118   \n",
       "2               51               41               46               49   \n",
       "3               59               95              127               63   \n",
       "4              247              246              242              246   \n",
       "\n",
       "   pixel_127_126_G  pixel_127_126_B  pixel_127_127_R  pixel_127_127_G  \\\n",
       "0               79              141               71               82   \n",
       "1              150              139              116              147   \n",
       "2               59               45               56               54   \n",
       "3               98              133               65              100   \n",
       "4              245              241              246              245   \n",
       "\n",
       "   pixel_127_127_B  target  \n",
       "0              141   False  \n",
       "1              136   False  \n",
       "2               51    True  \n",
       "3              136   False  \n",
       "4              241   False  \n",
       "\n",
       "[5 rows x 49153 columns]"
      ]
     },
     "execution_count": 67,
     "metadata": {},
     "output_type": "execute_result"
    }
   ],
   "source": [
    "data.head()"
   ]
  },
  {
   "cell_type": "code",
   "execution_count": 68,
   "metadata": {
    "scrolled": true
   },
   "outputs": [
    {
     "data": {
      "text/plain": [
       "'perso'"
      ]
     },
     "execution_count": 68,
     "metadata": {},
     "output_type": "execute_result"
    }
   ],
   "source": [
    "data_name"
   ]
  },
  {
   "cell_type": "code",
   "execution_count": 69,
   "metadata": {},
   "outputs": [
    {
     "name": "stdout",
     "output_type": "stream",
     "text": [
      "Info file found : /home/min/Téléchargements/PersoData/starting_kit_real_image/sample_data/perso_public.info\n"
     ]
    }
   ],
   "source": [
    "from data_manager import DataManager\n",
    "import matplotlib.pyplot as plt\n",
    "D = DataManager(data_name, data_dir, replace_missing=True)"
   ]
  },
  {
   "cell_type": "code",
   "execution_count": 70,
   "metadata": {},
   "outputs": [
    {
     "data": {
      "image/png": "[encoded data removed]",
      "text/plain": [
       "<Figure size 432x288 with 1 Axes>"
      ]
     },
     "metadata": {
      "needs_background": "light"
     },
     "output_type": "display_data"
    }
   ],
   "source": [
    "train_image = D.data['X_train']\n",
    "image = (train_image[0].reshape(128,128,3))/255\n",
    "plt.title(\"an exemple of a fake image\")\n",
    "%matplotlib inline \n",
    "from matplotlib import pyplot as plt\n",
    "plt.imshow(image, interpolation='nearest')\n",
    "plt.show()"
   ]
  },
  {
   "cell_type": "markdown",
   "metadata": {},
   "source": [
    "For convenience, we load the data as a \"pandas\" data frame, so we can use \"pandas\" and \"seaborn\" built in functions to explore the data."
   ]
  },
  {
   "cell_type": "code",
   "execution_count": 71,
   "metadata": {
    "scrolled": false
   },
   "outputs": [
    {
     "data": {
      "text/html": [
       "<div>\n",
       "<style scoped>\n",
       "    .dataframe tbody tr th:only-of-type {\n",
       "        vertical-align: middle;\n",
       "    }\n",
       "\n",
       "    .dataframe tbody tr th {\n",
       "        vertical-align: top;\n",
       "    }\n",
       "\n",
       "    .dataframe thead th {\n",
       "        text-align: right;\n",
       "    }\n",
       "</style>\n",
       "<table border=\"1\" class=\"dataframe\">\n",
       "  <thead>\n",
       "    <tr style=\"text-align: right;\">\n",
       "      <th></th>\n",
       "      <th>pixel_0_0_R</th>\n",
       "      <th>pixel_0_0_G</th>\n",
       "      <th>pixel_0_0_B</th>\n",
       "      <th>pixel_0_1_R</th>\n",
       "      <th>pixel_0_1_G</th>\n",
       "      <th>pixel_0_1_B</th>\n",
       "      <th>pixel_0_2_R</th>\n",
       "      <th>pixel_0_2_G</th>\n",
       "      <th>pixel_0_2_B</th>\n",
       "      <th>pixel_0_3_R</th>\n",
       "      <th>...</th>\n",
       "      <th>pixel_127_124_B</th>\n",
       "      <th>pixel_127_125_R</th>\n",
       "      <th>pixel_127_125_G</th>\n",
       "      <th>pixel_127_125_B</th>\n",
       "      <th>pixel_127_126_R</th>\n",
       "      <th>pixel_127_126_G</th>\n",
       "      <th>pixel_127_126_B</th>\n",
       "      <th>pixel_127_127_R</th>\n",
       "      <th>pixel_127_127_G</th>\n",
       "      <th>pixel_127_127_B</th>\n",
       "    </tr>\n",
       "  </thead>\n",
       "  <tbody>\n",
       "    <tr>\n",
       "      <th>count</th>\n",
       "      <td>21.000000</td>\n",
       "      <td>21.000000</td>\n",
       "      <td>21.000000</td>\n",
       "      <td>21.000000</td>\n",
       "      <td>21.000000</td>\n",
       "      <td>21.000000</td>\n",
       "      <td>21.000000</td>\n",
       "      <td>21.000000</td>\n",
       "      <td>21.000000</td>\n",
       "      <td>21.000000</td>\n",
       "      <td>...</td>\n",
       "      <td>21.000000</td>\n",
       "      <td>21.000000</td>\n",
       "      <td>21.000000</td>\n",
       "      <td>21.000000</td>\n",
       "      <td>21.000000</td>\n",
       "      <td>21.000000</td>\n",
       "      <td>21.000000</td>\n",
       "      <td>21.000000</td>\n",
       "      <td>21.000000</td>\n",
       "      <td>21.000000</td>\n",
       "    </tr>\n",
       "    <tr>\n",
       "      <th>mean</th>\n",
       "      <td>131.714286</td>\n",
       "      <td>137.904762</td>\n",
       "      <td>138.476190</td>\n",
       "      <td>134.523810</td>\n",
       "      <td>138.761905</td>\n",
       "      <td>138.809524</td>\n",
       "      <td>134.714286</td>\n",
       "      <td>139.333333</td>\n",
       "      <td>138.095238</td>\n",
       "      <td>131.761905</td>\n",
       "      <td>...</td>\n",
       "      <td>141.047619</td>\n",
       "      <td>104.714286</td>\n",
       "      <td>123.952381</td>\n",
       "      <td>141.333333</td>\n",
       "      <td>100.000000</td>\n",
       "      <td>122.285714</td>\n",
       "      <td>138.142857</td>\n",
       "      <td>103.857143</td>\n",
       "      <td>123.666667</td>\n",
       "      <td>138.761905</td>\n",
       "    </tr>\n",
       "    <tr>\n",
       "      <th>std</th>\n",
       "      <td>63.420929</td>\n",
       "      <td>68.320498</td>\n",
       "      <td>71.379702</td>\n",
       "      <td>65.148767</td>\n",
       "      <td>68.306592</td>\n",
       "      <td>71.350977</td>\n",
       "      <td>64.260519</td>\n",
       "      <td>66.315408</td>\n",
       "      <td>70.708489</td>\n",
       "      <td>66.224546</td>\n",
       "      <td>...</td>\n",
       "      <td>77.128773</td>\n",
       "      <td>72.241361</td>\n",
       "      <td>72.338424</td>\n",
       "      <td>76.460011</td>\n",
       "      <td>72.143607</td>\n",
       "      <td>72.920603</td>\n",
       "      <td>78.730735</td>\n",
       "      <td>71.111381</td>\n",
       "      <td>73.385512</td>\n",
       "      <td>76.653053</td>\n",
       "    </tr>\n",
       "    <tr>\n",
       "      <th>min</th>\n",
       "      <td>29.000000</td>\n",
       "      <td>34.000000</td>\n",
       "      <td>35.000000</td>\n",
       "      <td>31.000000</td>\n",
       "      <td>38.000000</td>\n",
       "      <td>37.000000</td>\n",
       "      <td>36.000000</td>\n",
       "      <td>42.000000</td>\n",
       "      <td>38.000000</td>\n",
       "      <td>26.000000</td>\n",
       "      <td>...</td>\n",
       "      <td>25.000000</td>\n",
       "      <td>26.000000</td>\n",
       "      <td>23.000000</td>\n",
       "      <td>24.000000</td>\n",
       "      <td>22.000000</td>\n",
       "      <td>21.000000</td>\n",
       "      <td>23.000000</td>\n",
       "      <td>20.000000</td>\n",
       "      <td>20.000000</td>\n",
       "      <td>23.000000</td>\n",
       "    </tr>\n",
       "    <tr>\n",
       "      <th>25%</th>\n",
       "      <td>77.000000</td>\n",
       "      <td>69.000000</td>\n",
       "      <td>77.000000</td>\n",
       "      <td>77.000000</td>\n",
       "      <td>73.000000</td>\n",
       "      <td>75.000000</td>\n",
       "      <td>77.000000</td>\n",
       "      <td>97.000000</td>\n",
       "      <td>85.000000</td>\n",
       "      <td>74.000000</td>\n",
       "      <td>...</td>\n",
       "      <td>83.000000</td>\n",
       "      <td>51.000000</td>\n",
       "      <td>73.000000</td>\n",
       "      <td>92.000000</td>\n",
       "      <td>46.000000</td>\n",
       "      <td>62.000000</td>\n",
       "      <td>73.000000</td>\n",
       "      <td>55.000000</td>\n",
       "      <td>65.000000</td>\n",
       "      <td>94.000000</td>\n",
       "    </tr>\n",
       "    <tr>\n",
       "      <th>50%</th>\n",
       "      <td>140.000000</td>\n",
       "      <td>149.000000</td>\n",
       "      <td>122.000000</td>\n",
       "      <td>141.000000</td>\n",
       "      <td>143.000000</td>\n",
       "      <td>118.000000</td>\n",
       "      <td>134.000000</td>\n",
       "      <td>131.000000</td>\n",
       "      <td>104.000000</td>\n",
       "      <td>133.000000</td>\n",
       "      <td>...</td>\n",
       "      <td>136.000000</td>\n",
       "      <td>71.000000</td>\n",
       "      <td>98.000000</td>\n",
       "      <td>140.000000</td>\n",
       "      <td>75.000000</td>\n",
       "      <td>101.000000</td>\n",
       "      <td>139.000000</td>\n",
       "      <td>77.000000</td>\n",
       "      <td>100.000000</td>\n",
       "      <td>136.000000</td>\n",
       "    </tr>\n",
       "    <tr>\n",
       "      <th>75%</th>\n",
       "      <td>171.000000</td>\n",
       "      <td>182.000000</td>\n",
       "      <td>200.000000</td>\n",
       "      <td>177.000000</td>\n",
       "      <td>187.000000</td>\n",
       "      <td>198.000000</td>\n",
       "      <td>178.000000</td>\n",
       "      <td>187.000000</td>\n",
       "      <td>203.000000</td>\n",
       "      <td>181.000000</td>\n",
       "      <td>...</td>\n",
       "      <td>224.000000</td>\n",
       "      <td>160.000000</td>\n",
       "      <td>176.000000</td>\n",
       "      <td>221.000000</td>\n",
       "      <td>147.000000</td>\n",
       "      <td>171.000000</td>\n",
       "      <td>219.000000</td>\n",
       "      <td>146.000000</td>\n",
       "      <td>177.000000</td>\n",
       "      <td>214.000000</td>\n",
       "    </tr>\n",
       "    <tr>\n",
       "      <th>max</th>\n",
       "      <td>255.000000</td>\n",
       "      <td>255.000000</td>\n",
       "      <td>255.000000</td>\n",
       "      <td>255.000000</td>\n",
       "      <td>255.000000</td>\n",
       "      <td>255.000000</td>\n",
       "      <td>255.000000</td>\n",
       "      <td>255.000000</td>\n",
       "      <td>255.000000</td>\n",
       "      <td>255.000000</td>\n",
       "      <td>...</td>\n",
       "      <td>255.000000</td>\n",
       "      <td>255.000000</td>\n",
       "      <td>255.000000</td>\n",
       "      <td>255.000000</td>\n",
       "      <td>255.000000</td>\n",
       "      <td>255.000000</td>\n",
       "      <td>255.000000</td>\n",
       "      <td>255.000000</td>\n",
       "      <td>255.000000</td>\n",
       "      <td>255.000000</td>\n",
       "    </tr>\n",
       "  </tbody>\n",
       "</table>\n",
       "<p>8 rows × 49152 columns</p>\n",
       "</div>"
      ],
      "text/plain": [
       "       pixel_0_0_R  pixel_0_0_G  pixel_0_0_B  pixel_0_1_R  pixel_0_1_G  \\\n",
       "count    21.000000    21.000000    21.000000    21.000000    21.000000   \n",
       "mean    131.714286   137.904762   138.476190   134.523810   138.761905   \n",
       "std      63.420929    68.320498    71.379702    65.148767    68.306592   \n",
       "min      29.000000    34.000000    35.000000    31.000000    38.000000   \n",
       "25%      77.000000    69.000000    77.000000    77.000000    73.000000   \n",
       "50%     140.000000   149.000000   122.000000   141.000000   143.000000   \n",
       "75%     171.000000   182.000000   200.000000   177.000000   187.000000   \n",
       "max     255.000000   255.000000   255.000000   255.000000   255.000000   \n",
       "\n",
       "       pixel_0_1_B  pixel_0_2_R  pixel_0_2_G  pixel_0_2_B  pixel_0_3_R  \\\n",
       "count    21.000000    21.000000    21.000000    21.000000    21.000000   \n",
       "mean    138.809524   134.714286   139.333333   138.095238   131.761905   \n",
       "std      71.350977    64.260519    66.315408    70.708489    66.224546   \n",
       "min      37.000000    36.000000    42.000000    38.000000    26.000000   \n",
       "25%      75.000000    77.000000    97.000000    85.000000    74.000000   \n",
       "50%     118.000000   134.000000   131.000000   104.000000   133.000000   \n",
       "75%     198.000000   178.000000   187.000000   203.000000   181.000000   \n",
       "max     255.000000   255.000000   255.000000   255.000000   255.000000   \n",
       "\n",
       "            ...         pixel_127_124_B  pixel_127_125_R  pixel_127_125_G  \\\n",
       "count       ...               21.000000        21.000000        21.000000   \n",
       "mean        ...              141.047619       104.714286       123.952381   \n",
       "std         ...               77.128773        72.241361        72.338424   \n",
       "min         ...               25.000000        26.000000        23.000000   \n",
       "25%         ...               83.000000        51.000000        73.000000   \n",
       "50%         ...              136.000000        71.000000        98.000000   \n",
       "75%         ...              224.000000       160.000000       176.000000   \n",
       "max         ...              255.000000       255.000000       255.000000   \n",
       "\n",
       "       pixel_127_125_B  pixel_127_126_R  pixel_127_126_G  pixel_127_126_B  \\\n",
       "count        21.000000        21.000000        21.000000        21.000000   \n",
       "mean        141.333333       100.000000       122.285714       138.142857   \n",
       "std          76.460011        72.143607        72.920603        78.730735   \n",
       "min          24.000000        22.000000        21.000000        23.000000   \n",
       "25%          92.000000        46.000000        62.000000        73.000000   \n",
       "50%         140.000000        75.000000       101.000000       139.000000   \n",
       "75%         221.000000       147.000000       171.000000       219.000000   \n",
       "max         255.000000       255.000000       255.000000       255.000000   \n",
       "\n",
       "       pixel_127_127_R  pixel_127_127_G  pixel_127_127_B  \n",
       "count        21.000000        21.000000        21.000000  \n",
       "mean        103.857143       123.666667       138.761905  \n",
       "std          71.111381        73.385512        76.653053  \n",
       "min          20.000000        20.000000        23.000000  \n",
       "25%          55.000000        65.000000        94.000000  \n",
       "50%          77.000000       100.000000       136.000000  \n",
       "75%         146.000000       177.000000       214.000000  \n",
       "max         255.000000       255.000000       255.000000  \n",
       "\n",
       "[8 rows x 49152 columns]"
      ]
     },
     "execution_count": 71,
     "metadata": {},
     "output_type": "execute_result"
    }
   ],
   "source": [
    "data.describe() "
   ]
  },
  {
   "cell_type": "markdown",
   "metadata": {},
   "source": [
    "### Pie Chart\n",
    "The pie chart below shows that there is a little more fake samples than true samples in the train data."
   ]
  },
  {
   "cell_type": "code",
   "execution_count": 72,
   "metadata": {},
   "outputs": [
    {
     "data": {
      "text/plain": [
       "(-1.1098082985575433,\n",
       " 1.100467111310395,\n",
       " -1.1172277565136581,\n",
       " 1.1086646936274804)"
      ]
     },
     "execution_count": 72,
     "metadata": {},
     "output_type": "execute_result"
    },
    {
     "data": {
      "image/png": "[encoded data removed]",
      "text/plain": [
       "<Figure size 432x288 with 1 Axes>"
      ]
     },
     "metadata": {},
     "output_type": "display_data"
    }
   ],
   "source": [
    "%matplotlib inline\n",
    "import matplotlib.pyplot as plt\n",
    "import pandas as pd\n",
    "data_solution = pd.read_csv(\"sample_data/perso_train.solution\",header=None) \n",
    "data_solution.rename(columns={ data_solution.columns[0]: \"solution\" }, inplace=True)\n",
    "counts = data_solution['solution'].value_counts()\n",
    "values = data_solution['solution'].unique()\n",
    "colors = ['turquoise', 'seagreen']\n",
    "plt.pie(counts, labels=values, colors=colors)\n",
    "plt.axis('equal')"
   ]
  },
  {
   "cell_type": "markdown",
   "metadata": {},
   "source": [
    "### Histograms\n",
    "Next, we can use histograms to represent the distribution of the data. \n",
    "By calling the function matplotlib.pyplot.hist(), we get histograms displaying the number of features (columns) belonging to each range of values for the mean, the std and the max.\n",
    "\n",
    "These graphs show that there are very few gaps between the values of each feature. For example, all features have values between 0 and 1 and a mean between 0.45 and 0.65."
   ]
  },
  {
   "cell_type": "code",
   "execution_count": 73,
   "metadata": {},
   "outputs": [
    {
     "data": {
      "image/png": "[encoded data removed]",
      "text/plain": [
       "<Figure size 432x288 with 1 Axes>"
      ]
     },
     "metadata": {
      "needs_background": "light"
     },
     "output_type": "display_data"
    },
    {
     "data": {
      "image/png": "[encoded data removed]",
      "text/plain": [
       "<Figure size 432x288 with 1 Axes>"
      ]
     },
     "metadata": {
      "needs_background": "light"
     },
     "output_type": "display_data"
    },
    {
     "data": {
      "image/png": "[encoded data removed]",
      "text/plain": [
       "<Figure size 432x288 with 1 Axes>"
      ]
     },
     "metadata": {
      "needs_background": "light"
     },
     "output_type": "display_data"
    }
   ],
   "source": [
    "# statistics of 1024 features\n",
    "g1=data.mean()\n",
    "plt.title(\"Distribution of mean\")\n",
    "g1.hist()\n",
    "plt.show()\n",
    "\n",
    "g2=data.std()\n",
    "plt.title(\"Distribution of std\")\n",
    "g2.hist()\n",
    "plt.show()\n",
    "\n",
    "g3=list(data.max())\n",
    "g3.pop()\n",
    "plt.title(\"Distribution of max\")\n",
    "plt.hist(g3)\n",
    "plt.show()"
   ]
  },
  {
   "cell_type": "markdown",
   "metadata": {},
   "source": [
    "<div style=\"background:#FFFFAA\">\n",
    "<h1>Step 2: Building a predictive model</h1>\n",
    "</div>"
   ]
  },
  {
   "cell_type": "markdown",
   "metadata": {},
   "source": [
    "<div style=\"background:#FFFFAA\">\n",
    "    <h2>Loading data with DataManager</h2>\n",
    "    <p>\n",
    "We reload the data with the AutoML DataManager class because this is more convenient:\n",
    "   <br>     <span style=\"color:red\"> Keep this, it illustrates how data in AutoML formal are loaded by the ingestion program </span>\n",
    "</div>"
   ]
  },
  {
   "cell_type": "markdown",
   "metadata": {},
   "source": [
    "<div style=\"background:#FFFFAA\">\n",
    "    <h2>Training a predictive model</h2>\n",
    "    <p>\n",
    "We provide an example of predictive model (for classification or regression) in the `sample_code_submission/` directory. It is a quite stupid model: it makes constant predictions. Replace it with your own model.\n",
    "    </div>"
   ]
  },
  {
   "cell_type": "code",
   "execution_count": 78,
   "metadata": {
    "scrolled": false
   },
   "outputs": [
    {
     "name": "stdout",
     "output_type": "stream",
     "text": [
      "Info file found : /home/min/Téléchargements/PersoData/starting_kit_real_image/sample_data/perso_public.info\n",
      "DataManager : perso\n",
      "info:\n",
      "\tusage = Sample dataset perso data\n",
      "\tname = perso\n",
      "\ttask = bi-class.classification\n",
      "\ttarget_type = Numerical\n",
      "\tfeat_type = Numerical\n",
      "\tmetric = bac_metric\n",
      "\ttime_budget = 1200\n",
      "\tfeat_num = 49152\n",
      "\ttarget_num = 2\n",
      "\tlabel_num = 2\n",
      "\ttrain_num = 50000\n",
      "\tvalid_num = 9409\n",
      "\ttest_num = 18816\n",
      "\thas_categorical = 0\n",
      "\thas_missing = 0\n",
      "\tis_sparse = 0\n",
      "\tformat = dense\n",
      "data:\n",
      "\tX_train = array(21, 49152)\n",
      "\tY_train = array(21,)\n",
      "\tX_valid = array(3, 49152)\n",
      "\tY_valid = array(3,)\n",
      "\tX_test = array(6, 49152)\n",
      "\tY_test = array(6,)\n",
      "feat_type:\tarray(49152,)\n",
      "feat_idx:\tarray(0,)\n",
      "\n",
      "perso\n"
     ]
    }
   ],
   "source": [
    "from data_manager import DataManager\n",
    "D = DataManager(data_name, data_dir, replace_missing=True)\n",
    "print(D)\n",
    "print(data_name)"
   ]
  },
  {
   "cell_type": "code",
   "execution_count": 79,
   "metadata": {
    "scrolled": false
   },
   "outputs": [],
   "source": [
    "from numpy.core.umath_tests import inner1d\n",
    "from data_io import write\n",
    "from model import model"
   ]
  },
  {
   "cell_type": "markdown",
   "metadata": {},
   "source": [
    "<div style=\"background:#FFFFAA\">\n",
    "an instance of the model (run the constructor) and attempt to reload a previously saved version from `sample_code_submission/`:\n",
    "    \n",
    "</div>"
   ]
  },
  {
   "cell_type": "code",
   "execution_count": 80,
   "metadata": {
    "scrolled": true
   },
   "outputs": [
    {
     "name": "stdout",
     "output_type": "stream",
     "text": [
      "perso\n",
      "sample_code_submission/\n",
      "sample_code_submission/perso\n"
     ]
    }
   ],
   "source": [
    "#Model CNN with Keras based on Theano\n",
    "M = model()\n",
    "trained_model_name = model_dir + data_name\n",
    "print(data_name)\n",
    "print(model_dir)\n",
    "print(trained_model_name)\n",
    "# Uncomment the next line to re-load an already trained model\n",
    "#M = M.load(trained_model_name)  "
   ]
  },
  {
   "cell_type": "code",
   "execution_count": 81,
   "metadata": {},
   "outputs": [],
   "source": [
    "from os.path import isfile\n",
    "from sklearn.base import BaseEstimator\n",
    "from sklearn import tree\n",
    "import keras\n",
    "from keras.datasets import mnist\n",
    "from keras.models import Sequential\n",
    "from keras.layers import Dense, Dropout, Flatten\n",
    "from keras.layers import Conv2D, MaxPooling2D\n",
    "from keras.layers import Activation\n",
    "from keras import backend as K"
   ]
  },
  {
   "cell_type": "markdown",
   "metadata": {},
   "source": [
    "<div style=\"background:#FFFFAA\">\n",
    "    Train the model (unless you reloaded a trained model) and make predictions. \n",
    "</div>"
   ]
  },
  {
   "cell_type": "code",
   "execution_count": 82,
   "metadata": {
    "scrolled": true
   },
   "outputs": [
    {
     "name": "stdout",
     "output_type": "stream",
     "text": [
      "FIT: dim(X)= [21, 128]\n",
      "FIT: dim(y)= [21, 1]\n",
      "Epoch 1/10\n",
      "21/21 [==============================] - 1s 28ms/step - loss: 6.3614 - acc: 0.4762\n",
      "Epoch 2/10\n",
      "21/21 [==============================] - 0s 23ms/step - loss: 6.5027 - acc: 0.4286\n",
      "Epoch 3/10\n",
      "21/21 [==============================] - 0s 23ms/step - loss: 7.0888 - acc: 0.4286\n",
      "Epoch 4/10\n",
      "21/21 [==============================] - 0s 23ms/step - loss: 6.4656 - acc: 0.3810\n",
      "Epoch 5/10\n",
      "21/21 [==============================] - 1s 24ms/step - loss: 1.6109 - acc: 0.5476\n",
      "Epoch 6/10\n",
      "21/21 [==============================] - 1s 24ms/step - loss: 2.6510 - acc: 0.5476\n",
      "Epoch 7/10\n",
      "21/21 [==============================] - 1s 26ms/step - loss: 2.5381 - acc: 0.5952\n",
      "Epoch 8/10\n",
      "21/21 [==============================] - 0s 24ms/step - loss: 1.2824 - acc: 0.4762\n",
      "Epoch 9/10\n",
      "21/21 [==============================] - 1s 24ms/step - loss: 2.0626 - acc: 0.5238\n",
      "Epoch 10/10\n",
      "21/21 [==============================] - 0s 23ms/step - loss: 1.2127 - acc: 0.4524\n"
     ]
    }
   ],
   "source": [
    "if not(M.is_trained):\n",
    "    X_train = D.data['X_train'].reshape(-1,128,128,3)\n",
    "    Y_train = D.data['Y_train']\n",
    "    M.fit(X_train, Y_train)                     \n"
   ]
  },
  {
   "cell_type": "code",
   "execution_count": 83,
   "metadata": {
    "scrolled": true
   },
   "outputs": [
    {
     "name": "stdout",
     "output_type": "stream",
     "text": [
      "PREDICT: dim(X)= [21, 128]\n",
      "PREDICT: dim(y)= [21, 1]\n",
      "PREDICT: dim(X)= [3, 128]\n",
      "PREDICT: dim(y)= [3, 1]\n",
      "PREDICT: dim(X)= [6, 128]\n",
      "PREDICT: dim(y)= [6, 1]\n"
     ]
    }
   ],
   "source": [
    "Y_hat_train = M.predict(D.data['X_train'].reshape(-1,128,128,3))\n",
    "Y_hat_valid = M.predict(D.data['X_valid'].reshape(-1,128,128,3))\n",
    "Y_hat_test = M.predict(D.data['X_test'].reshape(-1,128,128,3))\n",
    "Y_test = D.data['Y_test']\n",
    "Y_valid = D.data['Y_valid']"
   ]
  },
  {
   "cell_type": "markdown",
   "metadata": {},
   "source": [
    "<div style=\"background:#FFFFAA\">\n",
    "    <b> Save the trained model </b> (will be ready to reload next time around) and save the prediction results. IMPORTANT: if you save the trained model, it will be bundled with your sample code submission. Therefore your model will NOT be retrained on the challenge platform. Remove the pickle from the submission if you want the model to be retrained on the platform.\n",
    "</div>"
   ]
  },
  {
   "cell_type": "code",
   "execution_count": 90,
   "metadata": {},
   "outputs": [
    {
     "name": "stdout",
     "output_type": "stream",
     "text": [
      "sample_result_submission/perso_test.predict\r\n",
      "sample_result_submission/perso_train.predict\r\n",
      "sample_result_submission/perso_valid.predict\r\n"
     ]
    }
   ],
   "source": [
    "M.save(trained_model_name)                 \n",
    "result_name = result_dir + data_name\n",
    "from data_io import write\n",
    "write(result_name + '_train.predict', Y_hat_train)\n",
    "write(result_name + '_valid.predict', Y_hat_valid)\n",
    "write(result_name + '_test.predict', Y_hat_test)\n",
    "!ls $result_name*"
   ]
  },
  {
   "cell_type": "markdown",
   "metadata": {},
   "source": [
    "<div style=\"background:#FFFFAA\">\n",
    "    <h2>Scoring the results</h2>\n",
    "    <h3>Load the challenge metric</h3>\n",
    "    <p>\n",
    "<b>The metric chosen for your challenge</b> is identified in the \"metric.txt\" file found in the `scoring_function/` directory. The function \"get_metric\" searches first for a metric having that name in my_metric.py, then in libscores.py, then in sklearn.metric.\n",
    "    </div>"
   ]
  },
  {
   "cell_type": "markdown",
   "metadata": {},
   "source": [
    "#### Metric : AUC_metric \n",
    "ROC curves are typically used in binary classification to study the output of a classifier"
   ]
  },
  {
   "cell_type": "code",
   "execution_count": 85,
   "metadata": {},
   "outputs": [
    {
     "name": "stdout",
     "output_type": "stream",
     "text": [
      "Using scoring metric: roc_auc_score\n"
     ]
    }
   ],
   "source": [
    "from libscores import get_metric\n",
    "metric_name, scoring_function = get_metric()\n",
    "print('Using scoring metric:', metric_name)"
   ]
  },
  {
   "cell_type": "markdown",
   "metadata": {},
   "source": [
    "<div style=\"background:#FFFFAA\">\n",
    "    <h3> Training performance </h3>\n",
    "    <p>\n",
    "The participants normally posess target values (labels) only for training examples (except for the sample data). We compute with the `example` metric the training score, which should be zero for perfect predictions.\n",
    "        </div>"
   ]
  },
  {
   "cell_type": "markdown",
   "metadata": {},
   "source": [
    "You can add here other scores and result visualization."
   ]
  },
  {
   "cell_type": "code",
   "execution_count": 86,
   "metadata": {},
   "outputs": [
    {
     "name": "stdout",
     "output_type": "stream",
     "text": [
      "Training score for the roc_auc_score metric = 0.8000\n",
      "Ideal score for the roc_auc_score metric = 1.0000\n",
      "Test score for the roc_auc_score metric = 0.5000\n",
      "Valid score for the roc_auc_score metric = 0.5000\n"
     ]
    },
    {
     "data": {
      "image/png": "[encoded data removed]",
      "text/plain": [
       "<Figure size 360x216 with 2 Axes>"
      ]
     },
     "metadata": {
      "needs_background": "light"
     },
     "output_type": "display_data"
    },
    {
     "data": {
      "image/png": "[encoded data removed]",
      "text/plain": [
       "<Figure size 432x288 with 1 Axes>"
      ]
     },
     "metadata": {
      "needs_background": "light"
     },
     "output_type": "display_data"
    },
    {
     "data": {
      "image/png": "[encoded data removed]",
      "text/plain": [
       "<Figure size 360x216 with 2 Axes>"
      ]
     },
     "metadata": {
      "needs_background": "light"
     },
     "output_type": "display_data"
    },
    {
     "data": {
      "image/png": "[encoded data removed]",
      "text/plain": [
       "<Figure size 432x288 with 1 Axes>"
      ]
     },
     "metadata": {
      "needs_background": "light"
     },
     "output_type": "display_data"
    },
    {
     "data": {
      "image/png": "[encoded data removed]",
      "text/plain": [
       "<Figure size 360x216 with 2 Axes>"
      ]
     },
     "metadata": {
      "needs_background": "light"
     },
     "output_type": "display_data"
    },
    {
     "data": {
      "image/png": "[encoded data removed]",
      "text/plain": [
       "<Figure size 432x288 with 1 Axes>"
      ]
     },
     "metadata": {
      "needs_background": "light"
     },
     "output_type": "display_data"
    }
   ],
   "source": [
    "#AUC_metric\n",
    "import numpy as np\n",
    "import pandas as pd\n",
    "from sklearn import metrics\n",
    "n_classes=2\n",
    "def fpr_tpr(solution, prediction):\n",
    "    #fpr, tpr, thresholds = metrics.roc_curve(solution, prediction, pos_label=1)\n",
    "    for i in range(n_classes):\n",
    "        fpr, tpr, _ = metrics.roc_curve(solution, prediction)\n",
    "        roc_auc = metrics.auc(fpr, tpr)\n",
    "    return (fpr,tpr)\n",
    "\n",
    "fpr_train,tpr_train = fpr_tpr(Y_train, Y_hat_train)\n",
    "fpr_test,tpr_test = fpr_tpr(Y_test, Y_hat_test)\n",
    "fpr_valid,tpr_valid = fpr_tpr(Y_valid, Y_hat_valid)\n",
    "\n",
    "print('Training score for the', metric_name, 'metric = %5.4f' % scoring_function(Y_train, Y_hat_train))\n",
    "print('Ideal score for the', metric_name, 'metric = %5.4f' % scoring_function(Y_train, Y_train))\n",
    "print('Test score for the', metric_name, 'metric = %5.4f' % scoring_function(Y_test, Y_hat_test))\n",
    "print('Valid score for the', metric_name, 'metric = %5.4f' % scoring_function(Y_valid, Y_hat_valid))\n",
    "\n",
    "#Confusion matrix for AUC_metric\n",
    "from sklearn.metrics import confusion_matrix\n",
    "import seaborn as sn\n",
    "import matplotlib.pyplot as plt\n",
    "def p2c(prediction,threshold=0.5) : \n",
    "    c = []\n",
    "    for ele in prediction : \n",
    "        if(ele>=0.5) : \n",
    "            c.append(1)\n",
    "        else : \n",
    "            c.append(0)\n",
    "    return np.array(c)\n",
    "\n",
    "\n",
    "def plot_cm_matrix(solution,prediction,title) :\n",
    "    prediction = p2c(prediction)\n",
    "    cm = confusion_matrix(solution, prediction)\n",
    "    df_cm = pd.DataFrame(cm, index = [i for i in \"01\"],columns = [i for i in \"01\"])\n",
    "    plt.figure(figsize = (5,3))\n",
    "    sn.heatmap(df_cm, annot=True)\n",
    "    plt.title(title)\n",
    "\n",
    "def plot_ROC(fpr,tpr,title) :\n",
    "    plt.figure()\n",
    "    lw = 2\n",
    "    plt.plot(fpr, tpr, color='darkorange',lw=lw)\n",
    "    plt.plot([0, 1], [0, 1], color='navy', lw=lw, linestyle='--')\n",
    "    plt.xlim([0.0, 1.0])\n",
    "    plt.ylim([0.0, 1.05])\n",
    "    plt.xlabel('False Positive Rate')\n",
    "    plt.ylabel('True Positive Rate')\n",
    "    plt.title(title)\n",
    "    plt.show()\n",
    "\n",
    "plot_cm_matrix(Y_train,Y_hat_train,\"Confusion matrix for train data\") \n",
    "plot_ROC(fpr_train,tpr_train,\"ROC curve for train data\")\n",
    "plot_cm_matrix(Y_test,Y_hat_test,\"Confusion matrix for test data\") \n",
    "plot_ROC(fpr_test,tpr_test,\"ROC curve for test data\")\n",
    "plot_cm_matrix(Y_valid,Y_hat_valid,\"Confusion matrix for valid data\") \n",
    "plot_ROC(fpr_valid,tpr_valid,\"ROC curve for valid data\")"
   ]
  },
  {
   "cell_type": "markdown",
   "metadata": {},
   "source": [
    "<div style=\"background:#FFFFAA\">\n",
    "    <h3>Cross-validation performance</h3>\n",
    "    <p>\n",
    "The participants do not have access to the labels Y_valid and Y_test to self-assess their validation and test performances. But training performance is not a good prediction of validation or test performance. Using cross-validation, the training data is split into multiple training/test folds, which allows participants to self-assess their model during development. The average CV result and 95% confidence interval is displayed.\n",
    "   </div>"
   ]
  },
  {
   "cell_type": "code",
   "execution_count": 87,
   "metadata": {},
   "outputs": [
    {
     "name": "stdout",
     "output_type": "stream",
     "text": [
      "FIT: dim(X)= [15, 128]\n",
      "FIT: dim(y)= [15, 1]\n",
      "Epoch 1/10\n",
      "15/15 [==============================] - 0s 24ms/step - loss: 4.2747 - acc: 0.5667\n",
      "Epoch 2/10\n",
      "15/15 [==============================] - 0s 23ms/step - loss: 4.8072 - acc: 0.5333\n",
      "Epoch 3/10\n",
      "15/15 [==============================] - 0s 20ms/step - loss: 6.1531 - acc: 0.5333\n",
      "Epoch 4/10\n",
      "15/15 [==============================] - 0s 20ms/step - loss: 2.5919 - acc: 0.5667\n",
      "Epoch 5/10\n",
      "15/15 [==============================] - 0s 21ms/step - loss: 6.0722 - acc: 0.5667\n",
      "Epoch 6/10\n",
      "15/15 [==============================] - 0s 21ms/step - loss: 3.4125 - acc: 0.6000\n",
      "Epoch 7/10\n",
      "15/15 [==============================] - 0s 20ms/step - loss: 1.9173 - acc: 0.5000\n",
      "Epoch 8/10\n",
      "15/15 [==============================] - 0s 20ms/step - loss: 2.0276 - acc: 0.5667\n",
      "Epoch 9/10\n",
      "15/15 [==============================] - 0s 21ms/step - loss: 1.0339 - acc: 0.6333\n",
      "Epoch 10/10\n",
      "15/15 [==============================] - 0s 20ms/step - loss: 0.5469 - acc: 0.8333\n",
      "PREDICT: dim(X)= [6, 128]\n",
      "PREDICT: dim(y)= [6, 1]\n",
      "FIT: dim(X)= [16, 128]\n",
      "FIT: dim(y)= [16, 1]\n",
      "Epoch 1/10\n",
      "16/16 [==============================] - 0s 20ms/step - loss: 4.0439 - acc: 0.6250\n",
      "Epoch 2/10\n",
      "16/16 [==============================] - 0s 22ms/step - loss: 4.3411 - acc: 0.6250\n",
      "Epoch 3/10\n",
      "16/16 [==============================] - 0s 22ms/step - loss: 7.3396 - acc: 0.4062\n",
      "Epoch 4/10\n",
      "16/16 [==============================] - 0s 20ms/step - loss: 3.0620 - acc: 0.6562\n",
      "Epoch 5/10\n",
      "16/16 [==============================] - 0s 23ms/step - loss: 6.3185 - acc: 0.5000\n",
      "Epoch 6/10\n",
      "16/16 [==============================] - 0s 21ms/step - loss: 4.5759 - acc: 0.4688\n",
      "Epoch 7/10\n",
      "16/16 [==============================] - 0s 22ms/step - loss: 3.7067 - acc: 0.5312\n",
      "Epoch 8/10\n",
      "16/16 [==============================] - 0s 21ms/step - loss: 3.2423 - acc: 0.6250\n",
      "Epoch 9/10\n",
      "16/16 [==============================] - 0s 21ms/step - loss: 3.6510 - acc: 0.6875\n",
      "Epoch 10/10\n",
      "16/16 [==============================] - 0s 20ms/step - loss: 6.5047 - acc: 0.5312\n",
      "PREDICT: dim(X)= [5, 128]\n",
      "PREDICT: dim(y)= [5, 1]\n",
      "FIT: dim(X)= [16, 128]\n",
      "FIT: dim(y)= [16, 1]\n",
      "Epoch 1/10\n",
      "16/16 [==============================] - 0s 19ms/step - loss: 5.9087 - acc: 0.5625\n",
      "Epoch 2/10\n",
      "16/16 [==============================] - 0s 20ms/step - loss: 6.0876 - acc: 0.5312\n",
      "Epoch 3/10\n",
      "16/16 [==============================] - 0s 20ms/step - loss: 4.3511 - acc: 0.5000\n",
      "Epoch 4/10\n",
      "16/16 [==============================] - 0s 20ms/step - loss: 4.7238 - acc: 0.5312\n",
      "Epoch 5/10\n",
      "16/16 [==============================] - 0s 20ms/step - loss: 4.8788 - acc: 0.5312\n",
      "Epoch 6/10\n",
      "16/16 [==============================] - 0s 20ms/step - loss: 6.3909 - acc: 0.5000\n",
      "Epoch 7/10\n",
      "16/16 [==============================] - 0s 20ms/step - loss: 5.0788 - acc: 0.5625\n",
      "Epoch 8/10\n",
      "16/16 [==============================] - 0s 20ms/step - loss: 3.0503 - acc: 0.5000\n",
      "Epoch 9/10\n",
      "16/16 [==============================] - 0s 20ms/step - loss: 3.6511 - acc: 0.6250\n",
      "Epoch 10/10\n",
      "16/16 [==============================] - 0s 20ms/step - loss: 2.8664 - acc: 0.5312\n",
      "PREDICT: dim(X)= [5, 128]\n",
      "PREDICT: dim(y)= [5, 1]\n",
      "FIT: dim(X)= [16, 128]\n",
      "FIT: dim(y)= [16, 1]\n",
      "Epoch 1/10\n",
      "16/16 [==============================] - 0s 20ms/step - loss: 5.3521 - acc: 0.5312\n",
      "Epoch 2/10\n",
      "16/16 [==============================] - 0s 20ms/step - loss: 6.8973 - acc: 0.4688\n",
      "Epoch 3/10\n",
      "16/16 [==============================] - 0s 21ms/step - loss: 7.1553 - acc: 0.4688\n",
      "Epoch 4/10\n",
      "16/16 [==============================] - 0s 21ms/step - loss: 7.7499 - acc: 0.4688\n",
      "Epoch 5/10\n",
      "16/16 [==============================] - 0s 20ms/step - loss: 6.6210 - acc: 0.3750\n",
      "Epoch 6/10\n",
      "16/16 [==============================] - 0s 21ms/step - loss: 3.4747 - acc: 0.5625\n",
      "Epoch 7/10\n",
      "16/16 [==============================] - 0s 20ms/step - loss: 4.2098 - acc: 0.5312\n",
      "Epoch 8/10\n",
      "16/16 [==============================] - 0s 20ms/step - loss: 2.4488 - acc: 0.6250\n",
      "Epoch 9/10\n",
      "16/16 [==============================] - 0s 20ms/step - loss: 2.2309 - acc: 0.5938\n",
      "Epoch 10/10\n",
      "16/16 [==============================] - 0s 20ms/step - loss: 1.6813 - acc: 0.5625\n",
      "PREDICT: dim(X)= [5, 128]\n",
      "PREDICT: dim(y)= [5, 1]\n",
      "\n",
      "CV score (95 perc. CI): 0.31 (+/- 0.48)\n"
     ]
    }
   ],
   "source": [
    "from sklearn.metrics import make_scorer\n",
    "from sklearn.model_selection import cross_val_score\n",
    "scores = cross_val_score(M, X_train, Y_train, cv=4, scoring=make_scorer(scoring_function))\n",
    "print('\\nCV score (95 perc. CI): %0.2f (+/- %0.2f)' % (scores.mean(), scores.std() * 2))"
   ]
  },
  {
   "cell_type": "markdown",
   "metadata": {},
   "source": [
    "<div style=\"background:#FFFFAA\">\n",
    "<h1> Step 3: Making a submission </h1> \n",
    "\n",
    "<h2> Unit testing </h2> \n",
    "\n",
    "It is <b><span style=\"color:red\">important that you test your submission files before submitting them</span></b>. All you have to do to make a submission is modify the file <code>model.py</code> in the <code>sample_code_submission/</code> directory, then run this test to make sure everything works fine. This is the actual program that will be run on the server to test your submission. \n",
    "<br>\n",
    "Keep the sample code simple.\n",
    "</div>"
   ]
  },
  {
   "cell_type": "code",
   "execution_count": 88,
   "metadata": {
    "scrolled": true
   },
   "outputs": [
    {
     "name": "stdout",
     "output_type": "stream",
     "text": [
      "Using Theano backend.\n",
      "Using input_dir: /home/min/Téléchargements/PersoData/starting_kit_real_image/sample_data\n",
      "Using output_dir: /home/min/Téléchargements/PersoData/starting_kit_real_image/sample_result_submission\n",
      "Using program_dir: /home/min/Téléchargements/PersoData/starting_kit_real_image/ingestion_program\n",
      "Using submission_dir: /home/min/Téléchargements/PersoData/starting_kit_real_image/sample_code_submission\n",
      "\n",
      "========== Ingestion program version 6 ==========\n",
      "\n",
      "************************************************\n",
      "******** Processing dataset Perso ********\n",
      "************************************************\n",
      "========= Reading and converting data ==========\n",
      "Info file found : /home/min/Téléchargements/PersoData/starting_kit_real_image/sample_data/perso_public.info\n",
      "========= Reading /home/min/Téléchargements/PersoData/starting_kit_real_image/sample_data/perso_feat.type\n",
      "[+] Success in  0.01 sec\n",
      "========= Reading /home/min/Téléchargements/PersoData/starting_kit_real_image/sample_data/perso_train.data\n",
      "Replace missing values by 0 (slow, sorry)\n",
      "[+] Success in  0.26 sec\n",
      "========= Reading /home/min/Téléchargements/PersoData/starting_kit_real_image/sample_data/perso_train.solution\n",
      "[+] Success in  0.00 sec\n",
      "========= Reading /home/min/Téléchargements/PersoData/starting_kit_real_image/sample_data/perso_valid.data\n",
      "Replace missing values by 0 (slow, sorry)\n",
      "[+] Success in  0.03 sec\n",
      "========= Reading /home/min/Téléchargements/PersoData/starting_kit_real_image/sample_data/perso_valid.solution\n",
      "[+] Success in  0.00 sec\n",
      "========= Reading /home/min/Téléchargements/PersoData/starting_kit_real_image/sample_data/perso_test.data\n",
      "Replace missing values by 0 (slow, sorry)\n",
      "[+] Success in  0.08 sec\n",
      "========= Reading /home/min/Téléchargements/PersoData/starting_kit_real_image/sample_data/perso_test.solution\n",
      "[+] Success in  0.00 sec\n",
      "DataManager : perso\n",
      "info:\n",
      "\tusage = Sample dataset perso data\n",
      "\tname = perso\n",
      "\ttask = bi-class.classification\n",
      "\ttarget_type = Numerical\n",
      "\tfeat_type = Numerical\n",
      "\tmetric = bac_metric\n",
      "\ttime_budget = 1200\n",
      "\tfeat_num = 49152\n",
      "\ttarget_num = 2\n",
      "\tlabel_num = 2\n",
      "\ttrain_num = 50000\n",
      "\tvalid_num = 9409\n",
      "\ttest_num = 18816\n",
      "\thas_categorical = 0\n",
      "\thas_missing = 0\n",
      "\tis_sparse = 0\n",
      "\tformat = dense\n",
      "data:\n",
      "\tX_train = array(21, 49152)\n",
      "\tY_train = array(21,)\n",
      "\tX_valid = array(3, 49152)\n",
      "\tY_valid = array(3,)\n",
      "\tX_test = array(6, 49152)\n",
      "\tY_test = array(6,)\n",
      "feat_type:\tarray(49152,)\n",
      "feat_idx:\tarray(49152,)\n",
      "\n",
      "[+] Size of uploaded data  56.00 bytes\n",
      "[+] Cumulated time budget (all tasks so far)  1200.00 sec\n",
      "[+] Time budget for this task 1200.00 sec\n",
      "[+] Remaining time after reading data 1199.57 sec\n",
      "======== Creating model ==========\n",
      "**********************************************************\n",
      "****** Attempting to reload model to avoid training ******\n",
      "**********************************************************\n",
      "Model reloaded from: /home/min/Téléchargements/PersoData/starting_kit_real_image/sample_code_submission/perso_model.pickle\n",
      "[+] Model reloaded, no need to train!\n",
      "[+] Prediction success, time spent so far 13.88 sec\n",
      "======== Saving results to: /home/min/Téléchargements/PersoData/starting_kit_real_image/sample_result_submission\n",
      "[+] Results saved, time spent so far 13.88 sec\n",
      "[+] End cycle, time left 1186.12 sec\n",
      "[+] Done\n",
      "[+] Overall time spent 31.47 sec ::  Overall time budget 1200.00 sec\n"
     ]
    }
   ],
   "source": [
    "!python $problem_dir/ingestion.py $data_dir $result_dir $problem_dir $model_dir"
   ]
  },
  {
   "cell_type": "markdown",
   "metadata": {},
   "source": [
    "<div style=\"background:#FFFFAA\">\n",
    "Also test the scoring program:\n",
    "    </div>"
   ]
  },
  {
   "cell_type": "code",
   "execution_count": 91,
   "metadata": {},
   "outputs": [
    {
     "name": "stdout",
     "output_type": "stream",
     "text": [
      "======= Set 1 (Perso_test): roc_auc_score(set1_score)=0.500000000000 =======\r\n",
      "======= Set 2 (Perso_train): roc_auc_score(set2_score)=0.800000000000 =======\r\n",
      "======= Set 3 (Perso_valid): roc_auc_score(set3_score)=0.500000000000 =======\r\n"
     ]
    }
   ],
   "source": [
    "scoring_output_dir = '../scoring_output_dir'\n",
    "!python $score_dir/score.py $data_dir $result_dir $scoring_output_dir"
   ]
  },
  {
   "cell_type": "markdown",
   "metadata": {
    "collapsed": true
   },
   "source": [
    "<div style=\"background:#FFFFAA\">\n",
    "    <h1> Preparing the submission </h1>\n",
    "\n",
    "Zip the contents of `sample_code_submission/` (without the directory), or download the challenge public_data and run the command in the previous cell, after replacing sample_data by public_data.\n",
    "Then zip the contents of `sample_result_submission/` (without the directory).\n",
    "<b><span style=\"color:red\">Do NOT zip the data with your submissions</span></b>."
   ]
  },
  {
   "cell_type": "code",
   "execution_count": 92,
   "metadata": {},
   "outputs": [
    {
     "name": "stdout",
     "output_type": "stream",
     "text": [
      "Submit one of these files:\n",
      "../sample_code_submission_19-01-14-22-24.zip\n",
      "../sample_result_submission_19-01-14-22-24.zip\n"
     ]
    }
   ],
   "source": [
    "import datetime \n",
    "from data_io import zipdir\n",
    "the_date = datetime.datetime.now().strftime(\"%y-%m-%d-%H-%M\")\n",
    "sample_code_submission = '../sample_code_submission_' + the_date + '.zip'\n",
    "sample_result_submission = '../sample_result_submission_' + the_date + '.zip'\n",
    "zipdir(sample_code_submission, model_dir)\n",
    "zipdir(sample_result_submission, result_dir)\n",
    "print(\"Submit one of these files:\\n\" + sample_code_submission + \"\\n\" + sample_result_submission)"
   ]
  }
 ],
 "metadata": {
  "kernelspec": {
   "display_name": "Python 3",
   "language": "python",
   "name": "python3"
  },
  "language_info": {
   "codemirror_mode": {
    "name": "ipython",
    "version": 3
   },
   "file_extension": ".py",
   "mimetype": "text/x-python",
   "name": "python",
   "nbconvert_exporter": "python",
   "pygments_lexer": "ipython3",
   "version": "3.7.0"
  }
 },
 "nbformat": 4,
 "nbformat_minor": 1
}
